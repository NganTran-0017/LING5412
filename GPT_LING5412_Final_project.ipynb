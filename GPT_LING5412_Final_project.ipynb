{
  "nbformat": 4,
  "nbformat_minor": 0,
  "metadata": {
    "colab": {
      "name": "GPT LING5412_Final_project.ipynb",
      "provenance": [],
      "collapsed_sections": [],
      "toc_visible": true,
      "include_colab_link": true
    },
    "kernelspec": {
      "name": "python3",
      "display_name": "Python 3"
    },
    "language_info": {
      "name": "python"
    },
    "accelerator": "GPU",
    "widgets": {
      "application/vnd.jupyter.widget-state+json": {
        "4d6ebb5de3e643739b9303828d701346": {
          "model_module": "@jupyter-widgets/controls",
          "model_name": "HBoxModel",
          "model_module_version": "1.5.0",
          "state": {
            "_view_name": "HBoxView",
            "_dom_classes": [],
            "_model_name": "HBoxModel",
            "_view_module": "@jupyter-widgets/controls",
            "_model_module_version": "1.5.0",
            "_view_count": null,
            "_view_module_version": "1.5.0",
            "box_style": "",
            "layout": "IPY_MODEL_78ddf78b912f4d9b894a4692c5c3aa7e",
            "_model_module": "@jupyter-widgets/controls",
            "children": [
              "IPY_MODEL_4416ef382ceb4c0da289f821eb4c936e",
              "IPY_MODEL_19a9a1d02166418cb132d4a9551306a9",
              "IPY_MODEL_f4465a938c184168a2f972dec6790282"
            ]
          }
        },
        "78ddf78b912f4d9b894a4692c5c3aa7e": {
          "model_module": "@jupyter-widgets/base",
          "model_name": "LayoutModel",
          "model_module_version": "1.2.0",
          "state": {
            "_view_name": "LayoutView",
            "grid_template_rows": null,
            "right": null,
            "justify_content": null,
            "_view_module": "@jupyter-widgets/base",
            "overflow": null,
            "_model_module_version": "1.2.0",
            "_view_count": null,
            "flex_flow": null,
            "width": null,
            "min_width": null,
            "border": null,
            "align_items": null,
            "bottom": null,
            "_model_module": "@jupyter-widgets/base",
            "top": null,
            "grid_column": null,
            "overflow_y": null,
            "overflow_x": null,
            "grid_auto_flow": null,
            "grid_area": null,
            "grid_template_columns": null,
            "flex": null,
            "_model_name": "LayoutModel",
            "justify_items": null,
            "grid_row": null,
            "max_height": null,
            "align_content": null,
            "visibility": null,
            "align_self": null,
            "height": null,
            "min_height": null,
            "padding": null,
            "grid_auto_rows": null,
            "grid_gap": null,
            "max_width": null,
            "order": null,
            "_view_module_version": "1.2.0",
            "grid_template_areas": null,
            "object_position": null,
            "object_fit": null,
            "grid_auto_columns": null,
            "margin": null,
            "display": null,
            "left": null
          }
        },
        "4416ef382ceb4c0da289f821eb4c936e": {
          "model_module": "@jupyter-widgets/controls",
          "model_name": "HTMLModel",
          "model_module_version": "1.5.0",
          "state": {
            "_view_name": "HTMLView",
            "style": "IPY_MODEL_87601f6c75aa42a7bfa8b040ee1bc7e8",
            "_dom_classes": [],
            "description": "",
            "_model_name": "HTMLModel",
            "placeholder": "​",
            "_view_module": "@jupyter-widgets/controls",
            "_model_module_version": "1.5.0",
            "value": "Downloading: 100%",
            "_view_count": null,
            "_view_module_version": "1.5.0",
            "description_tooltip": null,
            "_model_module": "@jupyter-widgets/controls",
            "layout": "IPY_MODEL_6d15fd825d6f4982845253c61d997c73"
          }
        },
        "19a9a1d02166418cb132d4a9551306a9": {
          "model_module": "@jupyter-widgets/controls",
          "model_name": "FloatProgressModel",
          "model_module_version": "1.5.0",
          "state": {
            "_view_name": "ProgressView",
            "style": "IPY_MODEL_ff10a8db2c6c407898c9151af0ec5835",
            "_dom_classes": [],
            "description": "",
            "_model_name": "FloatProgressModel",
            "bar_style": "success",
            "max": 1042301,
            "_view_module": "@jupyter-widgets/controls",
            "_model_module_version": "1.5.0",
            "value": 1042301,
            "_view_count": null,
            "_view_module_version": "1.5.0",
            "orientation": "horizontal",
            "min": 0,
            "description_tooltip": null,
            "_model_module": "@jupyter-widgets/controls",
            "layout": "IPY_MODEL_ca2c9127366440deba434dd879d00aa0"
          }
        },
        "f4465a938c184168a2f972dec6790282": {
          "model_module": "@jupyter-widgets/controls",
          "model_name": "HTMLModel",
          "model_module_version": "1.5.0",
          "state": {
            "_view_name": "HTMLView",
            "style": "IPY_MODEL_1111a0cb63474bd5916361a2ed12ae0b",
            "_dom_classes": [],
            "description": "",
            "_model_name": "HTMLModel",
            "placeholder": "​",
            "_view_module": "@jupyter-widgets/controls",
            "_model_module_version": "1.5.0",
            "value": " 0.99M/0.99M [00:00&lt;00:00, 2.87MB/s]",
            "_view_count": null,
            "_view_module_version": "1.5.0",
            "description_tooltip": null,
            "_model_module": "@jupyter-widgets/controls",
            "layout": "IPY_MODEL_b697661b4f2c4039ad3e2b4481ea36b5"
          }
        },
        "87601f6c75aa42a7bfa8b040ee1bc7e8": {
          "model_module": "@jupyter-widgets/controls",
          "model_name": "DescriptionStyleModel",
          "model_module_version": "1.5.0",
          "state": {
            "_view_name": "StyleView",
            "_model_name": "DescriptionStyleModel",
            "description_width": "",
            "_view_module": "@jupyter-widgets/base",
            "_model_module_version": "1.5.0",
            "_view_count": null,
            "_view_module_version": "1.2.0",
            "_model_module": "@jupyter-widgets/controls"
          }
        },
        "6d15fd825d6f4982845253c61d997c73": {
          "model_module": "@jupyter-widgets/base",
          "model_name": "LayoutModel",
          "model_module_version": "1.2.0",
          "state": {
            "_view_name": "LayoutView",
            "grid_template_rows": null,
            "right": null,
            "justify_content": null,
            "_view_module": "@jupyter-widgets/base",
            "overflow": null,
            "_model_module_version": "1.2.0",
            "_view_count": null,
            "flex_flow": null,
            "width": null,
            "min_width": null,
            "border": null,
            "align_items": null,
            "bottom": null,
            "_model_module": "@jupyter-widgets/base",
            "top": null,
            "grid_column": null,
            "overflow_y": null,
            "overflow_x": null,
            "grid_auto_flow": null,
            "grid_area": null,
            "grid_template_columns": null,
            "flex": null,
            "_model_name": "LayoutModel",
            "justify_items": null,
            "grid_row": null,
            "max_height": null,
            "align_content": null,
            "visibility": null,
            "align_self": null,
            "height": null,
            "min_height": null,
            "padding": null,
            "grid_auto_rows": null,
            "grid_gap": null,
            "max_width": null,
            "order": null,
            "_view_module_version": "1.2.0",
            "grid_template_areas": null,
            "object_position": null,
            "object_fit": null,
            "grid_auto_columns": null,
            "margin": null,
            "display": null,
            "left": null
          }
        },
        "ff10a8db2c6c407898c9151af0ec5835": {
          "model_module": "@jupyter-widgets/controls",
          "model_name": "ProgressStyleModel",
          "model_module_version": "1.5.0",
          "state": {
            "_view_name": "StyleView",
            "_model_name": "ProgressStyleModel",
            "description_width": "",
            "_view_module": "@jupyter-widgets/base",
            "_model_module_version": "1.5.0",
            "_view_count": null,
            "_view_module_version": "1.2.0",
            "bar_color": null,
            "_model_module": "@jupyter-widgets/controls"
          }
        },
        "ca2c9127366440deba434dd879d00aa0": {
          "model_module": "@jupyter-widgets/base",
          "model_name": "LayoutModel",
          "model_module_version": "1.2.0",
          "state": {
            "_view_name": "LayoutView",
            "grid_template_rows": null,
            "right": null,
            "justify_content": null,
            "_view_module": "@jupyter-widgets/base",
            "overflow": null,
            "_model_module_version": "1.2.0",
            "_view_count": null,
            "flex_flow": null,
            "width": null,
            "min_width": null,
            "border": null,
            "align_items": null,
            "bottom": null,
            "_model_module": "@jupyter-widgets/base",
            "top": null,
            "grid_column": null,
            "overflow_y": null,
            "overflow_x": null,
            "grid_auto_flow": null,
            "grid_area": null,
            "grid_template_columns": null,
            "flex": null,
            "_model_name": "LayoutModel",
            "justify_items": null,
            "grid_row": null,
            "max_height": null,
            "align_content": null,
            "visibility": null,
            "align_self": null,
            "height": null,
            "min_height": null,
            "padding": null,
            "grid_auto_rows": null,
            "grid_gap": null,
            "max_width": null,
            "order": null,
            "_view_module_version": "1.2.0",
            "grid_template_areas": null,
            "object_position": null,
            "object_fit": null,
            "grid_auto_columns": null,
            "margin": null,
            "display": null,
            "left": null
          }
        },
        "1111a0cb63474bd5916361a2ed12ae0b": {
          "model_module": "@jupyter-widgets/controls",
          "model_name": "DescriptionStyleModel",
          "model_module_version": "1.5.0",
          "state": {
            "_view_name": "StyleView",
            "_model_name": "DescriptionStyleModel",
            "description_width": "",
            "_view_module": "@jupyter-widgets/base",
            "_model_module_version": "1.5.0",
            "_view_count": null,
            "_view_module_version": "1.2.0",
            "_model_module": "@jupyter-widgets/controls"
          }
        },
        "b697661b4f2c4039ad3e2b4481ea36b5": {
          "model_module": "@jupyter-widgets/base",
          "model_name": "LayoutModel",
          "model_module_version": "1.2.0",
          "state": {
            "_view_name": "LayoutView",
            "grid_template_rows": null,
            "right": null,
            "justify_content": null,
            "_view_module": "@jupyter-widgets/base",
            "overflow": null,
            "_model_module_version": "1.2.0",
            "_view_count": null,
            "flex_flow": null,
            "width": null,
            "min_width": null,
            "border": null,
            "align_items": null,
            "bottom": null,
            "_model_module": "@jupyter-widgets/base",
            "top": null,
            "grid_column": null,
            "overflow_y": null,
            "overflow_x": null,
            "grid_auto_flow": null,
            "grid_area": null,
            "grid_template_columns": null,
            "flex": null,
            "_model_name": "LayoutModel",
            "justify_items": null,
            "grid_row": null,
            "max_height": null,
            "align_content": null,
            "visibility": null,
            "align_self": null,
            "height": null,
            "min_height": null,
            "padding": null,
            "grid_auto_rows": null,
            "grid_gap": null,
            "max_width": null,
            "order": null,
            "_view_module_version": "1.2.0",
            "grid_template_areas": null,
            "object_position": null,
            "object_fit": null,
            "grid_auto_columns": null,
            "margin": null,
            "display": null,
            "left": null
          }
        },
        "fac0add3ae414c51aa92572a5c46e217": {
          "model_module": "@jupyter-widgets/controls",
          "model_name": "HBoxModel",
          "model_module_version": "1.5.0",
          "state": {
            "_view_name": "HBoxView",
            "_dom_classes": [],
            "_model_name": "HBoxModel",
            "_view_module": "@jupyter-widgets/controls",
            "_model_module_version": "1.5.0",
            "_view_count": null,
            "_view_module_version": "1.5.0",
            "box_style": "",
            "layout": "IPY_MODEL_87f2c3093fa14b5e99b975d2764629d6",
            "_model_module": "@jupyter-widgets/controls",
            "children": [
              "IPY_MODEL_b0deff253daa4899adb2a3a09afb79a2",
              "IPY_MODEL_530018d060614b02b218bede295e33a9",
              "IPY_MODEL_521cc4a152b5435d85dd356d98da735d"
            ]
          }
        },
        "87f2c3093fa14b5e99b975d2764629d6": {
          "model_module": "@jupyter-widgets/base",
          "model_name": "LayoutModel",
          "model_module_version": "1.2.0",
          "state": {
            "_view_name": "LayoutView",
            "grid_template_rows": null,
            "right": null,
            "justify_content": null,
            "_view_module": "@jupyter-widgets/base",
            "overflow": null,
            "_model_module_version": "1.2.0",
            "_view_count": null,
            "flex_flow": null,
            "width": null,
            "min_width": null,
            "border": null,
            "align_items": null,
            "bottom": null,
            "_model_module": "@jupyter-widgets/base",
            "top": null,
            "grid_column": null,
            "overflow_y": null,
            "overflow_x": null,
            "grid_auto_flow": null,
            "grid_area": null,
            "grid_template_columns": null,
            "flex": null,
            "_model_name": "LayoutModel",
            "justify_items": null,
            "grid_row": null,
            "max_height": null,
            "align_content": null,
            "visibility": null,
            "align_self": null,
            "height": null,
            "min_height": null,
            "padding": null,
            "grid_auto_rows": null,
            "grid_gap": null,
            "max_width": null,
            "order": null,
            "_view_module_version": "1.2.0",
            "grid_template_areas": null,
            "object_position": null,
            "object_fit": null,
            "grid_auto_columns": null,
            "margin": null,
            "display": null,
            "left": null
          }
        },
        "b0deff253daa4899adb2a3a09afb79a2": {
          "model_module": "@jupyter-widgets/controls",
          "model_name": "HTMLModel",
          "model_module_version": "1.5.0",
          "state": {
            "_view_name": "HTMLView",
            "style": "IPY_MODEL_1f55ae84228648569b3c7b0e4ebca258",
            "_dom_classes": [],
            "description": "",
            "_model_name": "HTMLModel",
            "placeholder": "​",
            "_view_module": "@jupyter-widgets/controls",
            "_model_module_version": "1.5.0",
            "value": "Downloading: 100%",
            "_view_count": null,
            "_view_module_version": "1.5.0",
            "description_tooltip": null,
            "_model_module": "@jupyter-widgets/controls",
            "layout": "IPY_MODEL_ef37edf2d67c498db66837f6c7ae9282"
          }
        },
        "530018d060614b02b218bede295e33a9": {
          "model_module": "@jupyter-widgets/controls",
          "model_name": "FloatProgressModel",
          "model_module_version": "1.5.0",
          "state": {
            "_view_name": "ProgressView",
            "style": "IPY_MODEL_f1a194c85d9348c992bd1c79c3fcbd66",
            "_dom_classes": [],
            "description": "",
            "_model_name": "FloatProgressModel",
            "bar_style": "success",
            "max": 456318,
            "_view_module": "@jupyter-widgets/controls",
            "_model_module_version": "1.5.0",
            "value": 456318,
            "_view_count": null,
            "_view_module_version": "1.5.0",
            "orientation": "horizontal",
            "min": 0,
            "description_tooltip": null,
            "_model_module": "@jupyter-widgets/controls",
            "layout": "IPY_MODEL_7546c971046e49b5b6c36ef33d04fe65"
          }
        },
        "521cc4a152b5435d85dd356d98da735d": {
          "model_module": "@jupyter-widgets/controls",
          "model_name": "HTMLModel",
          "model_module_version": "1.5.0",
          "state": {
            "_view_name": "HTMLView",
            "style": "IPY_MODEL_80fdede09ef641339fa98dad3e741730",
            "_dom_classes": [],
            "description": "",
            "_model_name": "HTMLModel",
            "placeholder": "​",
            "_view_module": "@jupyter-widgets/controls",
            "_model_module_version": "1.5.0",
            "value": " 446k/446k [00:00&lt;00:00, 945kB/s]",
            "_view_count": null,
            "_view_module_version": "1.5.0",
            "description_tooltip": null,
            "_model_module": "@jupyter-widgets/controls",
            "layout": "IPY_MODEL_bdfc2ae47c904332b75c15b99cd7af05"
          }
        },
        "1f55ae84228648569b3c7b0e4ebca258": {
          "model_module": "@jupyter-widgets/controls",
          "model_name": "DescriptionStyleModel",
          "model_module_version": "1.5.0",
          "state": {
            "_view_name": "StyleView",
            "_model_name": "DescriptionStyleModel",
            "description_width": "",
            "_view_module": "@jupyter-widgets/base",
            "_model_module_version": "1.5.0",
            "_view_count": null,
            "_view_module_version": "1.2.0",
            "_model_module": "@jupyter-widgets/controls"
          }
        },
        "ef37edf2d67c498db66837f6c7ae9282": {
          "model_module": "@jupyter-widgets/base",
          "model_name": "LayoutModel",
          "model_module_version": "1.2.0",
          "state": {
            "_view_name": "LayoutView",
            "grid_template_rows": null,
            "right": null,
            "justify_content": null,
            "_view_module": "@jupyter-widgets/base",
            "overflow": null,
            "_model_module_version": "1.2.0",
            "_view_count": null,
            "flex_flow": null,
            "width": null,
            "min_width": null,
            "border": null,
            "align_items": null,
            "bottom": null,
            "_model_module": "@jupyter-widgets/base",
            "top": null,
            "grid_column": null,
            "overflow_y": null,
            "overflow_x": null,
            "grid_auto_flow": null,
            "grid_area": null,
            "grid_template_columns": null,
            "flex": null,
            "_model_name": "LayoutModel",
            "justify_items": null,
            "grid_row": null,
            "max_height": null,
            "align_content": null,
            "visibility": null,
            "align_self": null,
            "height": null,
            "min_height": null,
            "padding": null,
            "grid_auto_rows": null,
            "grid_gap": null,
            "max_width": null,
            "order": null,
            "_view_module_version": "1.2.0",
            "grid_template_areas": null,
            "object_position": null,
            "object_fit": null,
            "grid_auto_columns": null,
            "margin": null,
            "display": null,
            "left": null
          }
        },
        "f1a194c85d9348c992bd1c79c3fcbd66": {
          "model_module": "@jupyter-widgets/controls",
          "model_name": "ProgressStyleModel",
          "model_module_version": "1.5.0",
          "state": {
            "_view_name": "StyleView",
            "_model_name": "ProgressStyleModel",
            "description_width": "",
            "_view_module": "@jupyter-widgets/base",
            "_model_module_version": "1.5.0",
            "_view_count": null,
            "_view_module_version": "1.2.0",
            "bar_color": null,
            "_model_module": "@jupyter-widgets/controls"
          }
        },
        "7546c971046e49b5b6c36ef33d04fe65": {
          "model_module": "@jupyter-widgets/base",
          "model_name": "LayoutModel",
          "model_module_version": "1.2.0",
          "state": {
            "_view_name": "LayoutView",
            "grid_template_rows": null,
            "right": null,
            "justify_content": null,
            "_view_module": "@jupyter-widgets/base",
            "overflow": null,
            "_model_module_version": "1.2.0",
            "_view_count": null,
            "flex_flow": null,
            "width": null,
            "min_width": null,
            "border": null,
            "align_items": null,
            "bottom": null,
            "_model_module": "@jupyter-widgets/base",
            "top": null,
            "grid_column": null,
            "overflow_y": null,
            "overflow_x": null,
            "grid_auto_flow": null,
            "grid_area": null,
            "grid_template_columns": null,
            "flex": null,
            "_model_name": "LayoutModel",
            "justify_items": null,
            "grid_row": null,
            "max_height": null,
            "align_content": null,
            "visibility": null,
            "align_self": null,
            "height": null,
            "min_height": null,
            "padding": null,
            "grid_auto_rows": null,
            "grid_gap": null,
            "max_width": null,
            "order": null,
            "_view_module_version": "1.2.0",
            "grid_template_areas": null,
            "object_position": null,
            "object_fit": null,
            "grid_auto_columns": null,
            "margin": null,
            "display": null,
            "left": null
          }
        },
        "80fdede09ef641339fa98dad3e741730": {
          "model_module": "@jupyter-widgets/controls",
          "model_name": "DescriptionStyleModel",
          "model_module_version": "1.5.0",
          "state": {
            "_view_name": "StyleView",
            "_model_name": "DescriptionStyleModel",
            "description_width": "",
            "_view_module": "@jupyter-widgets/base",
            "_model_module_version": "1.5.0",
            "_view_count": null,
            "_view_module_version": "1.2.0",
            "_model_module": "@jupyter-widgets/controls"
          }
        },
        "bdfc2ae47c904332b75c15b99cd7af05": {
          "model_module": "@jupyter-widgets/base",
          "model_name": "LayoutModel",
          "model_module_version": "1.2.0",
          "state": {
            "_view_name": "LayoutView",
            "grid_template_rows": null,
            "right": null,
            "justify_content": null,
            "_view_module": "@jupyter-widgets/base",
            "overflow": null,
            "_model_module_version": "1.2.0",
            "_view_count": null,
            "flex_flow": null,
            "width": null,
            "min_width": null,
            "border": null,
            "align_items": null,
            "bottom": null,
            "_model_module": "@jupyter-widgets/base",
            "top": null,
            "grid_column": null,
            "overflow_y": null,
            "overflow_x": null,
            "grid_auto_flow": null,
            "grid_area": null,
            "grid_template_columns": null,
            "flex": null,
            "_model_name": "LayoutModel",
            "justify_items": null,
            "grid_row": null,
            "max_height": null,
            "align_content": null,
            "visibility": null,
            "align_self": null,
            "height": null,
            "min_height": null,
            "padding": null,
            "grid_auto_rows": null,
            "grid_gap": null,
            "max_width": null,
            "order": null,
            "_view_module_version": "1.2.0",
            "grid_template_areas": null,
            "object_position": null,
            "object_fit": null,
            "grid_auto_columns": null,
            "margin": null,
            "display": null,
            "left": null
          }
        },
        "37e202a090b740c69da5d84412a4a057": {
          "model_module": "@jupyter-widgets/controls",
          "model_name": "HBoxModel",
          "model_module_version": "1.5.0",
          "state": {
            "_view_name": "HBoxView",
            "_dom_classes": [],
            "_model_name": "HBoxModel",
            "_view_module": "@jupyter-widgets/controls",
            "_model_module_version": "1.5.0",
            "_view_count": null,
            "_view_module_version": "1.5.0",
            "box_style": "",
            "layout": "IPY_MODEL_aadac7f7a8574367a0b832a1033a9189",
            "_model_module": "@jupyter-widgets/controls",
            "children": [
              "IPY_MODEL_3776c0617eef4f0c8020c49542eade1f",
              "IPY_MODEL_8d00062147a94961be370be2dadad756",
              "IPY_MODEL_a2b71670260b4284ab9a1f964a71870e"
            ]
          }
        },
        "aadac7f7a8574367a0b832a1033a9189": {
          "model_module": "@jupyter-widgets/base",
          "model_name": "LayoutModel",
          "model_module_version": "1.2.0",
          "state": {
            "_view_name": "LayoutView",
            "grid_template_rows": null,
            "right": null,
            "justify_content": null,
            "_view_module": "@jupyter-widgets/base",
            "overflow": null,
            "_model_module_version": "1.2.0",
            "_view_count": null,
            "flex_flow": null,
            "width": null,
            "min_width": null,
            "border": null,
            "align_items": null,
            "bottom": null,
            "_model_module": "@jupyter-widgets/base",
            "top": null,
            "grid_column": null,
            "overflow_y": null,
            "overflow_x": null,
            "grid_auto_flow": null,
            "grid_area": null,
            "grid_template_columns": null,
            "flex": null,
            "_model_name": "LayoutModel",
            "justify_items": null,
            "grid_row": null,
            "max_height": null,
            "align_content": null,
            "visibility": null,
            "align_self": null,
            "height": null,
            "min_height": null,
            "padding": null,
            "grid_auto_rows": null,
            "grid_gap": null,
            "max_width": null,
            "order": null,
            "_view_module_version": "1.2.0",
            "grid_template_areas": null,
            "object_position": null,
            "object_fit": null,
            "grid_auto_columns": null,
            "margin": null,
            "display": null,
            "left": null
          }
        },
        "3776c0617eef4f0c8020c49542eade1f": {
          "model_module": "@jupyter-widgets/controls",
          "model_name": "HTMLModel",
          "model_module_version": "1.5.0",
          "state": {
            "_view_name": "HTMLView",
            "style": "IPY_MODEL_d0167f291b1d4a71afa7a35e5b0cea0e",
            "_dom_classes": [],
            "description": "",
            "_model_name": "HTMLModel",
            "placeholder": "​",
            "_view_module": "@jupyter-widgets/controls",
            "_model_module_version": "1.5.0",
            "value": "Downloading: 100%",
            "_view_count": null,
            "_view_module_version": "1.5.0",
            "description_tooltip": null,
            "_model_module": "@jupyter-widgets/controls",
            "layout": "IPY_MODEL_64470b52b90a4a71b59529e5b8162974"
          }
        },
        "8d00062147a94961be370be2dadad756": {
          "model_module": "@jupyter-widgets/controls",
          "model_name": "FloatProgressModel",
          "model_module_version": "1.5.0",
          "state": {
            "_view_name": "ProgressView",
            "style": "IPY_MODEL_86598524c7d1469fa95ec310b73d9b41",
            "_dom_classes": [],
            "description": "",
            "_model_name": "FloatProgressModel",
            "bar_style": "success",
            "max": 26,
            "_view_module": "@jupyter-widgets/controls",
            "_model_module_version": "1.5.0",
            "value": 26,
            "_view_count": null,
            "_view_module_version": "1.5.0",
            "orientation": "horizontal",
            "min": 0,
            "description_tooltip": null,
            "_model_module": "@jupyter-widgets/controls",
            "layout": "IPY_MODEL_9738ab2c8d274014ae9872c1664582af"
          }
        },
        "a2b71670260b4284ab9a1f964a71870e": {
          "model_module": "@jupyter-widgets/controls",
          "model_name": "HTMLModel",
          "model_module_version": "1.5.0",
          "state": {
            "_view_name": "HTMLView",
            "style": "IPY_MODEL_68e90279a6d8469b85fa3f2f281b37a6",
            "_dom_classes": [],
            "description": "",
            "_model_name": "HTMLModel",
            "placeholder": "​",
            "_view_module": "@jupyter-widgets/controls",
            "_model_module_version": "1.5.0",
            "value": " 26.0/26.0 [00:00&lt;00:00, 966B/s]",
            "_view_count": null,
            "_view_module_version": "1.5.0",
            "description_tooltip": null,
            "_model_module": "@jupyter-widgets/controls",
            "layout": "IPY_MODEL_f7896ebcd44f4a87adae73f7902047c7"
          }
        },
        "d0167f291b1d4a71afa7a35e5b0cea0e": {
          "model_module": "@jupyter-widgets/controls",
          "model_name": "DescriptionStyleModel",
          "model_module_version": "1.5.0",
          "state": {
            "_view_name": "StyleView",
            "_model_name": "DescriptionStyleModel",
            "description_width": "",
            "_view_module": "@jupyter-widgets/base",
            "_model_module_version": "1.5.0",
            "_view_count": null,
            "_view_module_version": "1.2.0",
            "_model_module": "@jupyter-widgets/controls"
          }
        },
        "64470b52b90a4a71b59529e5b8162974": {
          "model_module": "@jupyter-widgets/base",
          "model_name": "LayoutModel",
          "model_module_version": "1.2.0",
          "state": {
            "_view_name": "LayoutView",
            "grid_template_rows": null,
            "right": null,
            "justify_content": null,
            "_view_module": "@jupyter-widgets/base",
            "overflow": null,
            "_model_module_version": "1.2.0",
            "_view_count": null,
            "flex_flow": null,
            "width": null,
            "min_width": null,
            "border": null,
            "align_items": null,
            "bottom": null,
            "_model_module": "@jupyter-widgets/base",
            "top": null,
            "grid_column": null,
            "overflow_y": null,
            "overflow_x": null,
            "grid_auto_flow": null,
            "grid_area": null,
            "grid_template_columns": null,
            "flex": null,
            "_model_name": "LayoutModel",
            "justify_items": null,
            "grid_row": null,
            "max_height": null,
            "align_content": null,
            "visibility": null,
            "align_self": null,
            "height": null,
            "min_height": null,
            "padding": null,
            "grid_auto_rows": null,
            "grid_gap": null,
            "max_width": null,
            "order": null,
            "_view_module_version": "1.2.0",
            "grid_template_areas": null,
            "object_position": null,
            "object_fit": null,
            "grid_auto_columns": null,
            "margin": null,
            "display": null,
            "left": null
          }
        },
        "86598524c7d1469fa95ec310b73d9b41": {
          "model_module": "@jupyter-widgets/controls",
          "model_name": "ProgressStyleModel",
          "model_module_version": "1.5.0",
          "state": {
            "_view_name": "StyleView",
            "_model_name": "ProgressStyleModel",
            "description_width": "",
            "_view_module": "@jupyter-widgets/base",
            "_model_module_version": "1.5.0",
            "_view_count": null,
            "_view_module_version": "1.2.0",
            "bar_color": null,
            "_model_module": "@jupyter-widgets/controls"
          }
        },
        "9738ab2c8d274014ae9872c1664582af": {
          "model_module": "@jupyter-widgets/base",
          "model_name": "LayoutModel",
          "model_module_version": "1.2.0",
          "state": {
            "_view_name": "LayoutView",
            "grid_template_rows": null,
            "right": null,
            "justify_content": null,
            "_view_module": "@jupyter-widgets/base",
            "overflow": null,
            "_model_module_version": "1.2.0",
            "_view_count": null,
            "flex_flow": null,
            "width": null,
            "min_width": null,
            "border": null,
            "align_items": null,
            "bottom": null,
            "_model_module": "@jupyter-widgets/base",
            "top": null,
            "grid_column": null,
            "overflow_y": null,
            "overflow_x": null,
            "grid_auto_flow": null,
            "grid_area": null,
            "grid_template_columns": null,
            "flex": null,
            "_model_name": "LayoutModel",
            "justify_items": null,
            "grid_row": null,
            "max_height": null,
            "align_content": null,
            "visibility": null,
            "align_self": null,
            "height": null,
            "min_height": null,
            "padding": null,
            "grid_auto_rows": null,
            "grid_gap": null,
            "max_width": null,
            "order": null,
            "_view_module_version": "1.2.0",
            "grid_template_areas": null,
            "object_position": null,
            "object_fit": null,
            "grid_auto_columns": null,
            "margin": null,
            "display": null,
            "left": null
          }
        },
        "68e90279a6d8469b85fa3f2f281b37a6": {
          "model_module": "@jupyter-widgets/controls",
          "model_name": "DescriptionStyleModel",
          "model_module_version": "1.5.0",
          "state": {
            "_view_name": "StyleView",
            "_model_name": "DescriptionStyleModel",
            "description_width": "",
            "_view_module": "@jupyter-widgets/base",
            "_model_module_version": "1.5.0",
            "_view_count": null,
            "_view_module_version": "1.2.0",
            "_model_module": "@jupyter-widgets/controls"
          }
        },
        "f7896ebcd44f4a87adae73f7902047c7": {
          "model_module": "@jupyter-widgets/base",
          "model_name": "LayoutModel",
          "model_module_version": "1.2.0",
          "state": {
            "_view_name": "LayoutView",
            "grid_template_rows": null,
            "right": null,
            "justify_content": null,
            "_view_module": "@jupyter-widgets/base",
            "overflow": null,
            "_model_module_version": "1.2.0",
            "_view_count": null,
            "flex_flow": null,
            "width": null,
            "min_width": null,
            "border": null,
            "align_items": null,
            "bottom": null,
            "_model_module": "@jupyter-widgets/base",
            "top": null,
            "grid_column": null,
            "overflow_y": null,
            "overflow_x": null,
            "grid_auto_flow": null,
            "grid_area": null,
            "grid_template_columns": null,
            "flex": null,
            "_model_name": "LayoutModel",
            "justify_items": null,
            "grid_row": null,
            "max_height": null,
            "align_content": null,
            "visibility": null,
            "align_self": null,
            "height": null,
            "min_height": null,
            "padding": null,
            "grid_auto_rows": null,
            "grid_gap": null,
            "max_width": null,
            "order": null,
            "_view_module_version": "1.2.0",
            "grid_template_areas": null,
            "object_position": null,
            "object_fit": null,
            "grid_auto_columns": null,
            "margin": null,
            "display": null,
            "left": null
          }
        },
        "99c0374915094743ac066981f42a1baa": {
          "model_module": "@jupyter-widgets/controls",
          "model_name": "HBoxModel",
          "model_module_version": "1.5.0",
          "state": {
            "_view_name": "HBoxView",
            "_dom_classes": [],
            "_model_name": "HBoxModel",
            "_view_module": "@jupyter-widgets/controls",
            "_model_module_version": "1.5.0",
            "_view_count": null,
            "_view_module_version": "1.5.0",
            "box_style": "",
            "layout": "IPY_MODEL_dee28b7840034de89fcdfac8f3cc9f6f",
            "_model_module": "@jupyter-widgets/controls",
            "children": [
              "IPY_MODEL_b1aab59061744df4823b3dc9c7855a4f",
              "IPY_MODEL_c130c0ec419546dda963c1a77e643c29",
              "IPY_MODEL_b5523473e4d149d2abc07147f486828c"
            ]
          }
        },
        "dee28b7840034de89fcdfac8f3cc9f6f": {
          "model_module": "@jupyter-widgets/base",
          "model_name": "LayoutModel",
          "model_module_version": "1.2.0",
          "state": {
            "_view_name": "LayoutView",
            "grid_template_rows": null,
            "right": null,
            "justify_content": null,
            "_view_module": "@jupyter-widgets/base",
            "overflow": null,
            "_model_module_version": "1.2.0",
            "_view_count": null,
            "flex_flow": null,
            "width": null,
            "min_width": null,
            "border": null,
            "align_items": null,
            "bottom": null,
            "_model_module": "@jupyter-widgets/base",
            "top": null,
            "grid_column": null,
            "overflow_y": null,
            "overflow_x": null,
            "grid_auto_flow": null,
            "grid_area": null,
            "grid_template_columns": null,
            "flex": null,
            "_model_name": "LayoutModel",
            "justify_items": null,
            "grid_row": null,
            "max_height": null,
            "align_content": null,
            "visibility": null,
            "align_self": null,
            "height": null,
            "min_height": null,
            "padding": null,
            "grid_auto_rows": null,
            "grid_gap": null,
            "max_width": null,
            "order": null,
            "_view_module_version": "1.2.0",
            "grid_template_areas": null,
            "object_position": null,
            "object_fit": null,
            "grid_auto_columns": null,
            "margin": null,
            "display": null,
            "left": null
          }
        },
        "b1aab59061744df4823b3dc9c7855a4f": {
          "model_module": "@jupyter-widgets/controls",
          "model_name": "HTMLModel",
          "model_module_version": "1.5.0",
          "state": {
            "_view_name": "HTMLView",
            "style": "IPY_MODEL_97ab96691b8a41a58cd70d820f6eaf55",
            "_dom_classes": [],
            "description": "",
            "_model_name": "HTMLModel",
            "placeholder": "​",
            "_view_module": "@jupyter-widgets/controls",
            "_model_module_version": "1.5.0",
            "value": "Downloading: 100%",
            "_view_count": null,
            "_view_module_version": "1.5.0",
            "description_tooltip": null,
            "_model_module": "@jupyter-widgets/controls",
            "layout": "IPY_MODEL_d1edbac20d4045d8b9686021db3abe45"
          }
        },
        "c130c0ec419546dda963c1a77e643c29": {
          "model_module": "@jupyter-widgets/controls",
          "model_name": "FloatProgressModel",
          "model_module_version": "1.5.0",
          "state": {
            "_view_name": "ProgressView",
            "style": "IPY_MODEL_dd97302142a840a497df565503833298",
            "_dom_classes": [],
            "description": "",
            "_model_name": "FloatProgressModel",
            "bar_style": "success",
            "max": 641,
            "_view_module": "@jupyter-widgets/controls",
            "_model_module_version": "1.5.0",
            "value": 641,
            "_view_count": null,
            "_view_module_version": "1.5.0",
            "orientation": "horizontal",
            "min": 0,
            "description_tooltip": null,
            "_model_module": "@jupyter-widgets/controls",
            "layout": "IPY_MODEL_3463ab5e85ce47e08bffa57b0d7110b8"
          }
        },
        "b5523473e4d149d2abc07147f486828c": {
          "model_module": "@jupyter-widgets/controls",
          "model_name": "HTMLModel",
          "model_module_version": "1.5.0",
          "state": {
            "_view_name": "HTMLView",
            "style": "IPY_MODEL_737e1009663f4c26a3802575288c6832",
            "_dom_classes": [],
            "description": "",
            "_model_name": "HTMLModel",
            "placeholder": "​",
            "_view_module": "@jupyter-widgets/controls",
            "_model_module_version": "1.5.0",
            "value": " 641/641 [00:00&lt;00:00, 16.6kB/s]",
            "_view_count": null,
            "_view_module_version": "1.5.0",
            "description_tooltip": null,
            "_model_module": "@jupyter-widgets/controls",
            "layout": "IPY_MODEL_2d1b0361045a4ce4be2f017a1ad9ce37"
          }
        },
        "97ab96691b8a41a58cd70d820f6eaf55": {
          "model_module": "@jupyter-widgets/controls",
          "model_name": "DescriptionStyleModel",
          "model_module_version": "1.5.0",
          "state": {
            "_view_name": "StyleView",
            "_model_name": "DescriptionStyleModel",
            "description_width": "",
            "_view_module": "@jupyter-widgets/base",
            "_model_module_version": "1.5.0",
            "_view_count": null,
            "_view_module_version": "1.2.0",
            "_model_module": "@jupyter-widgets/controls"
          }
        },
        "d1edbac20d4045d8b9686021db3abe45": {
          "model_module": "@jupyter-widgets/base",
          "model_name": "LayoutModel",
          "model_module_version": "1.2.0",
          "state": {
            "_view_name": "LayoutView",
            "grid_template_rows": null,
            "right": null,
            "justify_content": null,
            "_view_module": "@jupyter-widgets/base",
            "overflow": null,
            "_model_module_version": "1.2.0",
            "_view_count": null,
            "flex_flow": null,
            "width": null,
            "min_width": null,
            "border": null,
            "align_items": null,
            "bottom": null,
            "_model_module": "@jupyter-widgets/base",
            "top": null,
            "grid_column": null,
            "overflow_y": null,
            "overflow_x": null,
            "grid_auto_flow": null,
            "grid_area": null,
            "grid_template_columns": null,
            "flex": null,
            "_model_name": "LayoutModel",
            "justify_items": null,
            "grid_row": null,
            "max_height": null,
            "align_content": null,
            "visibility": null,
            "align_self": null,
            "height": null,
            "min_height": null,
            "padding": null,
            "grid_auto_rows": null,
            "grid_gap": null,
            "max_width": null,
            "order": null,
            "_view_module_version": "1.2.0",
            "grid_template_areas": null,
            "object_position": null,
            "object_fit": null,
            "grid_auto_columns": null,
            "margin": null,
            "display": null,
            "left": null
          }
        },
        "dd97302142a840a497df565503833298": {
          "model_module": "@jupyter-widgets/controls",
          "model_name": "ProgressStyleModel",
          "model_module_version": "1.5.0",
          "state": {
            "_view_name": "StyleView",
            "_model_name": "ProgressStyleModel",
            "description_width": "",
            "_view_module": "@jupyter-widgets/base",
            "_model_module_version": "1.5.0",
            "_view_count": null,
            "_view_module_version": "1.2.0",
            "bar_color": null,
            "_model_module": "@jupyter-widgets/controls"
          }
        },
        "3463ab5e85ce47e08bffa57b0d7110b8": {
          "model_module": "@jupyter-widgets/base",
          "model_name": "LayoutModel",
          "model_module_version": "1.2.0",
          "state": {
            "_view_name": "LayoutView",
            "grid_template_rows": null,
            "right": null,
            "justify_content": null,
            "_view_module": "@jupyter-widgets/base",
            "overflow": null,
            "_model_module_version": "1.2.0",
            "_view_count": null,
            "flex_flow": null,
            "width": null,
            "min_width": null,
            "border": null,
            "align_items": null,
            "bottom": null,
            "_model_module": "@jupyter-widgets/base",
            "top": null,
            "grid_column": null,
            "overflow_y": null,
            "overflow_x": null,
            "grid_auto_flow": null,
            "grid_area": null,
            "grid_template_columns": null,
            "flex": null,
            "_model_name": "LayoutModel",
            "justify_items": null,
            "grid_row": null,
            "max_height": null,
            "align_content": null,
            "visibility": null,
            "align_self": null,
            "height": null,
            "min_height": null,
            "padding": null,
            "grid_auto_rows": null,
            "grid_gap": null,
            "max_width": null,
            "order": null,
            "_view_module_version": "1.2.0",
            "grid_template_areas": null,
            "object_position": null,
            "object_fit": null,
            "grid_auto_columns": null,
            "margin": null,
            "display": null,
            "left": null
          }
        },
        "737e1009663f4c26a3802575288c6832": {
          "model_module": "@jupyter-widgets/controls",
          "model_name": "DescriptionStyleModel",
          "model_module_version": "1.5.0",
          "state": {
            "_view_name": "StyleView",
            "_model_name": "DescriptionStyleModel",
            "description_width": "",
            "_view_module": "@jupyter-widgets/base",
            "_model_module_version": "1.5.0",
            "_view_count": null,
            "_view_module_version": "1.2.0",
            "_model_module": "@jupyter-widgets/controls"
          }
        },
        "2d1b0361045a4ce4be2f017a1ad9ce37": {
          "model_module": "@jupyter-widgets/base",
          "model_name": "LayoutModel",
          "model_module_version": "1.2.0",
          "state": {
            "_view_name": "LayoutView",
            "grid_template_rows": null,
            "right": null,
            "justify_content": null,
            "_view_module": "@jupyter-widgets/base",
            "overflow": null,
            "_model_module_version": "1.2.0",
            "_view_count": null,
            "flex_flow": null,
            "width": null,
            "min_width": null,
            "border": null,
            "align_items": null,
            "bottom": null,
            "_model_module": "@jupyter-widgets/base",
            "top": null,
            "grid_column": null,
            "overflow_y": null,
            "overflow_x": null,
            "grid_auto_flow": null,
            "grid_area": null,
            "grid_template_columns": null,
            "flex": null,
            "_model_name": "LayoutModel",
            "justify_items": null,
            "grid_row": null,
            "max_height": null,
            "align_content": null,
            "visibility": null,
            "align_self": null,
            "height": null,
            "min_height": null,
            "padding": null,
            "grid_auto_rows": null,
            "grid_gap": null,
            "max_width": null,
            "order": null,
            "_view_module_version": "1.2.0",
            "grid_template_areas": null,
            "object_position": null,
            "object_fit": null,
            "grid_auto_columns": null,
            "margin": null,
            "display": null,
            "left": null
          }
        },
        "2e5277f8c6244e22bed1bf6408fdf235": {
          "model_module": "@jupyter-widgets/controls",
          "model_name": "HBoxModel",
          "model_module_version": "1.5.0",
          "state": {
            "_view_name": "HBoxView",
            "_dom_classes": [],
            "_model_name": "HBoxModel",
            "_view_module": "@jupyter-widgets/controls",
            "_model_module_version": "1.5.0",
            "_view_count": null,
            "_view_module_version": "1.5.0",
            "box_style": "",
            "layout": "IPY_MODEL_6241d3a4e41040449f185f07733f10f8",
            "_model_module": "@jupyter-widgets/controls",
            "children": [
              "IPY_MODEL_db3cee42005148d89fcefce6ad0e1af2",
              "IPY_MODEL_8734eb59de5a4b7a82c60159b07bb3db",
              "IPY_MODEL_b3d26482a89e4f9da7669005e5e39082"
            ]
          }
        },
        "6241d3a4e41040449f185f07733f10f8": {
          "model_module": "@jupyter-widgets/base",
          "model_name": "LayoutModel",
          "model_module_version": "1.2.0",
          "state": {
            "_view_name": "LayoutView",
            "grid_template_rows": null,
            "right": null,
            "justify_content": null,
            "_view_module": "@jupyter-widgets/base",
            "overflow": null,
            "_model_module_version": "1.2.0",
            "_view_count": null,
            "flex_flow": null,
            "width": null,
            "min_width": null,
            "border": null,
            "align_items": null,
            "bottom": null,
            "_model_module": "@jupyter-widgets/base",
            "top": null,
            "grid_column": null,
            "overflow_y": null,
            "overflow_x": null,
            "grid_auto_flow": null,
            "grid_area": null,
            "grid_template_columns": null,
            "flex": null,
            "_model_name": "LayoutModel",
            "justify_items": null,
            "grid_row": null,
            "max_height": null,
            "align_content": null,
            "visibility": null,
            "align_self": null,
            "height": null,
            "min_height": null,
            "padding": null,
            "grid_auto_rows": null,
            "grid_gap": null,
            "max_width": null,
            "order": null,
            "_view_module_version": "1.2.0",
            "grid_template_areas": null,
            "object_position": null,
            "object_fit": null,
            "grid_auto_columns": null,
            "margin": null,
            "display": null,
            "left": null
          }
        },
        "db3cee42005148d89fcefce6ad0e1af2": {
          "model_module": "@jupyter-widgets/controls",
          "model_name": "HTMLModel",
          "model_module_version": "1.5.0",
          "state": {
            "_view_name": "HTMLView",
            "style": "IPY_MODEL_19bcc8cd00904567beb8452f42ca115e",
            "_dom_classes": [],
            "description": "",
            "_model_name": "HTMLModel",
            "placeholder": "​",
            "_view_module": "@jupyter-widgets/controls",
            "_model_module_version": "1.5.0",
            "value": "Downloading: 100%",
            "_view_count": null,
            "_view_module_version": "1.5.0",
            "description_tooltip": null,
            "_model_module": "@jupyter-widgets/controls",
            "layout": "IPY_MODEL_8b678cc65c1c41608e1c208fb2fa7ad2"
          }
        },
        "8734eb59de5a4b7a82c60159b07bb3db": {
          "model_module": "@jupyter-widgets/controls",
          "model_name": "FloatProgressModel",
          "model_module_version": "1.5.0",
          "state": {
            "_view_name": "ProgressView",
            "style": "IPY_MODEL_b75aa8bd4056435abba6718137c125d7",
            "_dom_classes": [],
            "description": "",
            "_model_name": "FloatProgressModel",
            "bar_style": "success",
            "max": 351265583,
            "_view_module": "@jupyter-widgets/controls",
            "_model_module_version": "1.5.0",
            "value": 351265583,
            "_view_count": null,
            "_view_module_version": "1.5.0",
            "orientation": "horizontal",
            "min": 0,
            "description_tooltip": null,
            "_model_module": "@jupyter-widgets/controls",
            "layout": "IPY_MODEL_dd8acdb214ef459792237b17ff9e8065"
          }
        },
        "b3d26482a89e4f9da7669005e5e39082": {
          "model_module": "@jupyter-widgets/controls",
          "model_name": "HTMLModel",
          "model_module_version": "1.5.0",
          "state": {
            "_view_name": "HTMLView",
            "style": "IPY_MODEL_7421fc756bb24d98a405d63e8ecee79f",
            "_dom_classes": [],
            "description": "",
            "_model_name": "HTMLModel",
            "placeholder": "​",
            "_view_module": "@jupyter-widgets/controls",
            "_model_module_version": "1.5.0",
            "value": " 335M/335M [00:29&lt;00:00, 17.6MB/s]",
            "_view_count": null,
            "_view_module_version": "1.5.0",
            "description_tooltip": null,
            "_model_module": "@jupyter-widgets/controls",
            "layout": "IPY_MODEL_a5cbec71d4ab4dccbbd014424bf535f4"
          }
        },
        "19bcc8cd00904567beb8452f42ca115e": {
          "model_module": "@jupyter-widgets/controls",
          "model_name": "DescriptionStyleModel",
          "model_module_version": "1.5.0",
          "state": {
            "_view_name": "StyleView",
            "_model_name": "DescriptionStyleModel",
            "description_width": "",
            "_view_module": "@jupyter-widgets/base",
            "_model_module_version": "1.5.0",
            "_view_count": null,
            "_view_module_version": "1.2.0",
            "_model_module": "@jupyter-widgets/controls"
          }
        },
        "8b678cc65c1c41608e1c208fb2fa7ad2": {
          "model_module": "@jupyter-widgets/base",
          "model_name": "LayoutModel",
          "model_module_version": "1.2.0",
          "state": {
            "_view_name": "LayoutView",
            "grid_template_rows": null,
            "right": null,
            "justify_content": null,
            "_view_module": "@jupyter-widgets/base",
            "overflow": null,
            "_model_module_version": "1.2.0",
            "_view_count": null,
            "flex_flow": null,
            "width": null,
            "min_width": null,
            "border": null,
            "align_items": null,
            "bottom": null,
            "_model_module": "@jupyter-widgets/base",
            "top": null,
            "grid_column": null,
            "overflow_y": null,
            "overflow_x": null,
            "grid_auto_flow": null,
            "grid_area": null,
            "grid_template_columns": null,
            "flex": null,
            "_model_name": "LayoutModel",
            "justify_items": null,
            "grid_row": null,
            "max_height": null,
            "align_content": null,
            "visibility": null,
            "align_self": null,
            "height": null,
            "min_height": null,
            "padding": null,
            "grid_auto_rows": null,
            "grid_gap": null,
            "max_width": null,
            "order": null,
            "_view_module_version": "1.2.0",
            "grid_template_areas": null,
            "object_position": null,
            "object_fit": null,
            "grid_auto_columns": null,
            "margin": null,
            "display": null,
            "left": null
          }
        },
        "b75aa8bd4056435abba6718137c125d7": {
          "model_module": "@jupyter-widgets/controls",
          "model_name": "ProgressStyleModel",
          "model_module_version": "1.5.0",
          "state": {
            "_view_name": "StyleView",
            "_model_name": "ProgressStyleModel",
            "description_width": "",
            "_view_module": "@jupyter-widgets/base",
            "_model_module_version": "1.5.0",
            "_view_count": null,
            "_view_module_version": "1.2.0",
            "bar_color": null,
            "_model_module": "@jupyter-widgets/controls"
          }
        },
        "dd8acdb214ef459792237b17ff9e8065": {
          "model_module": "@jupyter-widgets/base",
          "model_name": "LayoutModel",
          "model_module_version": "1.2.0",
          "state": {
            "_view_name": "LayoutView",
            "grid_template_rows": null,
            "right": null,
            "justify_content": null,
            "_view_module": "@jupyter-widgets/base",
            "overflow": null,
            "_model_module_version": "1.2.0",
            "_view_count": null,
            "flex_flow": null,
            "width": null,
            "min_width": null,
            "border": null,
            "align_items": null,
            "bottom": null,
            "_model_module": "@jupyter-widgets/base",
            "top": null,
            "grid_column": null,
            "overflow_y": null,
            "overflow_x": null,
            "grid_auto_flow": null,
            "grid_area": null,
            "grid_template_columns": null,
            "flex": null,
            "_model_name": "LayoutModel",
            "justify_items": null,
            "grid_row": null,
            "max_height": null,
            "align_content": null,
            "visibility": null,
            "align_self": null,
            "height": null,
            "min_height": null,
            "padding": null,
            "grid_auto_rows": null,
            "grid_gap": null,
            "max_width": null,
            "order": null,
            "_view_module_version": "1.2.0",
            "grid_template_areas": null,
            "object_position": null,
            "object_fit": null,
            "grid_auto_columns": null,
            "margin": null,
            "display": null,
            "left": null
          }
        },
        "7421fc756bb24d98a405d63e8ecee79f": {
          "model_module": "@jupyter-widgets/controls",
          "model_name": "DescriptionStyleModel",
          "model_module_version": "1.5.0",
          "state": {
            "_view_name": "StyleView",
            "_model_name": "DescriptionStyleModel",
            "description_width": "",
            "_view_module": "@jupyter-widgets/base",
            "_model_module_version": "1.5.0",
            "_view_count": null,
            "_view_module_version": "1.2.0",
            "_model_module": "@jupyter-widgets/controls"
          }
        },
        "a5cbec71d4ab4dccbbd014424bf535f4": {
          "model_module": "@jupyter-widgets/base",
          "model_name": "LayoutModel",
          "model_module_version": "1.2.0",
          "state": {
            "_view_name": "LayoutView",
            "grid_template_rows": null,
            "right": null,
            "justify_content": null,
            "_view_module": "@jupyter-widgets/base",
            "overflow": null,
            "_model_module_version": "1.2.0",
            "_view_count": null,
            "flex_flow": null,
            "width": null,
            "min_width": null,
            "border": null,
            "align_items": null,
            "bottom": null,
            "_model_module": "@jupyter-widgets/base",
            "top": null,
            "grid_column": null,
            "overflow_y": null,
            "overflow_x": null,
            "grid_auto_flow": null,
            "grid_area": null,
            "grid_template_columns": null,
            "flex": null,
            "_model_name": "LayoutModel",
            "justify_items": null,
            "grid_row": null,
            "max_height": null,
            "align_content": null,
            "visibility": null,
            "align_self": null,
            "height": null,
            "min_height": null,
            "padding": null,
            "grid_auto_rows": null,
            "grid_gap": null,
            "max_width": null,
            "order": null,
            "_view_module_version": "1.2.0",
            "grid_template_areas": null,
            "object_position": null,
            "object_fit": null,
            "grid_auto_columns": null,
            "margin": null,
            "display": null,
            "left": null
          }
        }
      }
    }
  },
  "cells": [
    {
      "cell_type": "markdown",
      "metadata": {
        "id": "view-in-github",
        "colab_type": "text"
      },
      "source": [
        "<a href=\"https://colab.research.google.com/github/NganTran-0017/LING5412/blob/main/GPT_LING5412_Final_project.ipynb\" target=\"_parent\"><img src=\"https://colab.research.google.com/assets/colab-badge.svg\" alt=\"Open In Colab\"/></a>"
      ]
    },
    {
      "cell_type": "code",
      "metadata": {
        "colab": {
          "base_uri": "https://localhost:8080/"
        },
        "id": "9PJwM2i9SCNP",
        "outputId": "8839ca29-cec4-4f6d-a10c-c872c20872d4"
      },
      "source": [
        "!pip install pytorch_pretrained_bert pytorch-nlp"
      ],
      "execution_count": null,
      "outputs": [
        {
          "output_type": "stream",
          "name": "stdout",
          "text": [
            "Collecting pytorch_pretrained_bert\n",
            "  Downloading pytorch_pretrained_bert-0.6.2-py3-none-any.whl (123 kB)\n",
            "\u001b[K     |████████████████████████████████| 123 kB 9.2 MB/s \n",
            "\u001b[?25hCollecting pytorch-nlp\n",
            "  Downloading pytorch_nlp-0.5.0-py3-none-any.whl (90 kB)\n",
            "\u001b[K     |████████████████████████████████| 90 kB 7.9 MB/s \n",
            "\u001b[?25hRequirement already satisfied: torch>=0.4.1 in /usr/local/lib/python3.7/dist-packages (from pytorch_pretrained_bert) (1.10.0+cu111)\n",
            "Requirement already satisfied: tqdm in /usr/local/lib/python3.7/dist-packages (from pytorch_pretrained_bert) (4.62.3)\n",
            "Requirement already satisfied: regex in /usr/local/lib/python3.7/dist-packages (from pytorch_pretrained_bert) (2019.12.20)\n",
            "Collecting boto3\n",
            "  Downloading boto3-1.20.17-py3-none-any.whl (131 kB)\n",
            "\u001b[K     |████████████████████████████████| 131 kB 54.8 MB/s \n",
            "\u001b[?25hRequirement already satisfied: requests in /usr/local/lib/python3.7/dist-packages (from pytorch_pretrained_bert) (2.23.0)\n",
            "Requirement already satisfied: numpy in /usr/local/lib/python3.7/dist-packages (from pytorch_pretrained_bert) (1.19.5)\n",
            "Requirement already satisfied: typing-extensions in /usr/local/lib/python3.7/dist-packages (from torch>=0.4.1->pytorch_pretrained_bert) (3.10.0.2)\n",
            "Collecting jmespath<1.0.0,>=0.7.1\n",
            "  Downloading jmespath-0.10.0-py2.py3-none-any.whl (24 kB)\n",
            "Collecting s3transfer<0.6.0,>=0.5.0\n",
            "  Downloading s3transfer-0.5.0-py3-none-any.whl (79 kB)\n",
            "\u001b[K     |████████████████████████████████| 79 kB 6.6 MB/s \n",
            "\u001b[?25hCollecting botocore<1.24.0,>=1.23.17\n",
            "  Downloading botocore-1.23.17-py3-none-any.whl (8.4 MB)\n",
            "\u001b[K     |████████████████████████████████| 8.4 MB 59.6 MB/s \n",
            "\u001b[?25hRequirement already satisfied: python-dateutil<3.0.0,>=2.1 in /usr/local/lib/python3.7/dist-packages (from botocore<1.24.0,>=1.23.17->boto3->pytorch_pretrained_bert) (2.8.2)\n",
            "Collecting urllib3<1.27,>=1.25.4\n",
            "  Downloading urllib3-1.26.7-py2.py3-none-any.whl (138 kB)\n",
            "\u001b[K     |████████████████████████████████| 138 kB 74.7 MB/s \n",
            "\u001b[?25hRequirement already satisfied: six>=1.5 in /usr/local/lib/python3.7/dist-packages (from python-dateutil<3.0.0,>=2.1->botocore<1.24.0,>=1.23.17->boto3->pytorch_pretrained_bert) (1.15.0)\n",
            "Requirement already satisfied: idna<3,>=2.5 in /usr/local/lib/python3.7/dist-packages (from requests->pytorch_pretrained_bert) (2.10)\n",
            "Requirement already satisfied: chardet<4,>=3.0.2 in /usr/local/lib/python3.7/dist-packages (from requests->pytorch_pretrained_bert) (3.0.4)\n",
            "  Downloading urllib3-1.25.11-py2.py3-none-any.whl (127 kB)\n",
            "\u001b[K     |████████████████████████████████| 127 kB 49.0 MB/s \n",
            "\u001b[?25hRequirement already satisfied: certifi>=2017.4.17 in /usr/local/lib/python3.7/dist-packages (from requests->pytorch_pretrained_bert) (2021.10.8)\n",
            "Installing collected packages: urllib3, jmespath, botocore, s3transfer, boto3, pytorch-pretrained-bert, pytorch-nlp\n",
            "  Attempting uninstall: urllib3\n",
            "    Found existing installation: urllib3 1.24.3\n",
            "    Uninstalling urllib3-1.24.3:\n",
            "      Successfully uninstalled urllib3-1.24.3\n",
            "\u001b[31mERROR: pip's dependency resolver does not currently take into account all the packages that are installed. This behaviour is the source of the following dependency conflicts.\n",
            "datascience 0.10.6 requires folium==0.2.1, but you have folium 0.8.3 which is incompatible.\u001b[0m\n",
            "Successfully installed boto3-1.20.17 botocore-1.23.17 jmespath-0.10.0 pytorch-nlp-0.5.0 pytorch-pretrained-bert-0.6.2 s3transfer-0.5.0 urllib3-1.25.11\n"
          ]
        }
      ]
    },
    {
      "cell_type": "code",
      "metadata": {
        "id": "mc2pevpoSEud"
      },
      "source": [
        "from pytorch_pretrained_bert import BertModel\n",
        "from torch import nn\n",
        "from pytorch_pretrained_bert import BertTokenizer\n",
        "from keras.preprocessing.sequence import pad_sequences\n",
        "import torch\n",
        "from torch.utils.data import TensorDataset, DataLoader, RandomSampler, SequentialSampler\n",
        "from torch.optim import Adam\n",
        "from torch.nn.utils import clip_grad_norm_\n",
        "from IPython.display import clear_output"
      ],
      "execution_count": null,
      "outputs": []
    },
    {
      "cell_type": "code",
      "metadata": {
        "id": "G99qOVzxSOwP",
        "colab": {
          "base_uri": "https://localhost:8080/"
        },
        "outputId": "a3d3f23f-ed23-453d-b42a-3b3e46e08d3c"
      },
      "source": [
        "import tarfile\n",
        "import pandas as pd\n",
        "import csv\n",
        "import seaborn as sns\n",
        "import matplotlib.pyplot as plt\n",
        "import sklearn\n",
        "import numpy as np\n",
        "from sklearn.linear_model import LogisticRegression\n",
        "from sklearn.ensemble import RandomForestClassifier\n",
        "from sklearn import tree             # tree.DecisionTreeClassifier()\n",
        "from sklearn.neighbors import KNeighborsClassifier\n",
        "from sklearn import svm #clf = svm.SVC(decision_function_shape='ovo')\n",
        "from sklearn.metrics import accuracy_score, classification_report, f1_score, confusion_matrix, recall_score\n",
        "from sklearn.model_selection import cross_validate\n",
        "from sklearn.model_selection import KFold\n",
        "from sklearn.model_selection import StratifiedKFold\n",
        "!pip install imbalanced-learn\n",
        "import imblearn\n",
        "from imblearn.over_sampling import RandomOverSampler\n",
        "from imblearn.over_sampling import SMOTE\n",
        "from sklearn.metrics import recall_score, roc_auc_score"
      ],
      "execution_count": null,
      "outputs": [
        {
          "output_type": "stream",
          "name": "stdout",
          "text": [
            "Requirement already satisfied: imbalanced-learn in /usr/local/lib/python3.7/dist-packages (0.8.1)\n",
            "Requirement already satisfied: scikit-learn>=0.24 in /usr/local/lib/python3.7/dist-packages (from imbalanced-learn) (1.0.1)\n",
            "Requirement already satisfied: joblib>=0.11 in /usr/local/lib/python3.7/dist-packages (from imbalanced-learn) (1.1.0)\n",
            "Requirement already satisfied: numpy>=1.13.3 in /usr/local/lib/python3.7/dist-packages (from imbalanced-learn) (1.19.5)\n",
            "Requirement already satisfied: scipy>=0.19.1 in /usr/local/lib/python3.7/dist-packages (from imbalanced-learn) (1.4.1)\n",
            "Requirement already satisfied: threadpoolctl>=2.0.0 in /usr/local/lib/python3.7/dist-packages (from scikit-learn>=0.24->imbalanced-learn) (3.0.0)\n"
          ]
        }
      ]
    },
    {
      "cell_type": "code",
      "metadata": {
        "id": "N5u8SwyQcnwY",
        "colab": {
          "base_uri": "https://localhost:8080/"
        },
        "outputId": "4ceebe6a-edac-45fe-87a8-1ce14d99e610"
      },
      "source": [
        "import gensim\n",
        "import gensim.downloader as api\n",
        "nlp = api.load('word2vec-google-news-300')"
      ],
      "execution_count": null,
      "outputs": [
        {
          "output_type": "stream",
          "name": "stdout",
          "text": [
            "[==================================================] 100.0% 1662.8/1662.8MB downloaded\n"
          ]
        }
      ]
    },
    {
      "cell_type": "markdown",
      "metadata": {
        "id": "eHh5b74YomXY"
      },
      "source": [
        "# Loading data"
      ]
    },
    {
      "cell_type": "code",
      "metadata": {
        "id": "qvw2VYN_dTtE",
        "colab": {
          "base_uri": "https://localhost:8080/"
        },
        "outputId": "e94240ec-bf4b-4d7d-bec4-961c8fafdbf9"
      },
      "source": [
        "from google.colab import drive\n",
        "drive.mount('/content/drive')\n",
        "!unzip \"/content/drive/MyDrive/dontpatrAAonizeme_v1.3.zip\" -d \"/content/drive/MyDrive/\"\n",
        "\n",
        "# Unzip the dataset\n",
        "#!unzip \"/content/dontpatronizeme_v1.3.zip\" -d \"/content/drive/MyDrive/\""
      ],
      "execution_count": null,
      "outputs": [
        {
          "output_type": "stream",
          "name": "stdout",
          "text": [
            "Mounted at /content/drive\n",
            "unzip:  cannot find or open /content/drive/MyDrive/dontpatrAAonizeme_v1.3.zip, /content/drive/MyDrive/dontpatrAAonizeme_v1.3.zip.zip or /content/drive/MyDrive/dontpatrAAonizeme_v1.3.zip.ZIP.\n"
          ]
        }
      ]
    },
    {
      "cell_type": "code",
      "metadata": {
        "id": "K5DJ3zR_fCre"
      },
      "source": [
        "# Opening the file from MyDrive\n",
        "file = open(r'/content/drive/MyDrive/dontpatronizeme_v1.3/dontpatronizeme_pcl.tsv')\n",
        "reader = csv.reader(file, delimiter=\"\\t\")\n",
        "data = []\n",
        "for row in reader:\n",
        "  data.append(row)\n"
      ],
      "execution_count": null,
      "outputs": []
    },
    {
      "cell_type": "code",
      "metadata": {
        "id": "6W8pqT5PjG-L",
        "colab": {
          "base_uri": "https://localhost:8080/",
          "height": 424
        },
        "outputId": "b609e28a-b09a-447a-a691-106affed3d57"
      },
      "source": [
        "df = pd.DataFrame(data[5:],  columns = ['docID', 'keyword', 'country', 'paragraph', 'label' ] )\n",
        "df"
      ],
      "execution_count": null,
      "outputs": [
        {
          "output_type": "execute_result",
          "data": {
            "text/html": [
              "<div>\n",
              "<style scoped>\n",
              "    .dataframe tbody tr th:only-of-type {\n",
              "        vertical-align: middle;\n",
              "    }\n",
              "\n",
              "    .dataframe tbody tr th {\n",
              "        vertical-align: top;\n",
              "    }\n",
              "\n",
              "    .dataframe thead th {\n",
              "        text-align: right;\n",
              "    }\n",
              "</style>\n",
              "<table border=\"1\" class=\"dataframe\">\n",
              "  <thead>\n",
              "    <tr style=\"text-align: right;\">\n",
              "      <th></th>\n",
              "      <th>docID</th>\n",
              "      <th>keyword</th>\n",
              "      <th>country</th>\n",
              "      <th>paragraph</th>\n",
              "      <th>label</th>\n",
              "    </tr>\n",
              "  </thead>\n",
              "  <tbody>\n",
              "    <tr>\n",
              "      <th>0</th>\n",
              "      <td>@@4703096</td>\n",
              "      <td>immigrant</td>\n",
              "      <td>jm</td>\n",
              "      <td>NBC and Spanish-language Univision both declin...</td>\n",
              "      <td>0</td>\n",
              "    </tr>\n",
              "    <tr>\n",
              "      <th>1</th>\n",
              "      <td>@@25567226</td>\n",
              "      <td>in-need</td>\n",
              "      <td>hk</td>\n",
              "      <td>A second T-Home project is being launched in t...</td>\n",
              "      <td>0</td>\n",
              "    </tr>\n",
              "    <tr>\n",
              "      <th>2</th>\n",
              "      <td>@@1824078</td>\n",
              "      <td>poor-families</td>\n",
              "      <td>tz</td>\n",
              "      <td>Camfed would like to see this trend reversed ....</td>\n",
              "      <td>4</td>\n",
              "    </tr>\n",
              "    <tr>\n",
              "      <th>3</th>\n",
              "      <td>@@1921089</td>\n",
              "      <td>refugee</td>\n",
              "      <td>tz</td>\n",
              "      <td>Kagunga village was reported to lack necessary...</td>\n",
              "      <td>0</td>\n",
              "    </tr>\n",
              "    <tr>\n",
              "      <th>4</th>\n",
              "      <td>@@40039380</td>\n",
              "      <td>women</td>\n",
              "      <td>ng</td>\n",
              "      <td>Haruna stressed the need for specific approach...</td>\n",
              "      <td>0</td>\n",
              "    </tr>\n",
              "    <tr>\n",
              "      <th>...</th>\n",
              "      <td>...</td>\n",
              "      <td>...</td>\n",
              "      <td>...</td>\n",
              "      <td>...</td>\n",
              "      <td>...</td>\n",
              "    </tr>\n",
              "    <tr>\n",
              "      <th>10053</th>\n",
              "      <td>@@16413808</td>\n",
              "      <td>immigrant</td>\n",
              "      <td>my</td>\n",
              "      <td>To me , I am always mindful that we are dealin...</td>\n",
              "      <td>4</td>\n",
              "    </tr>\n",
              "    <tr>\n",
              "      <th>10054</th>\n",
              "      <td>@@8676630</td>\n",
              "      <td>vulnerable</td>\n",
              "      <td>jm</td>\n",
              "      <td>Other themes included promoting the inclusion ...</td>\n",
              "      <td>0</td>\n",
              "    </tr>\n",
              "    <tr>\n",
              "      <th>10055</th>\n",
              "      <td>@@7688552</td>\n",
              "      <td>immigrant</td>\n",
              "      <td>gb</td>\n",
              "      <td>It came as the CDU was also humiliated by the ...</td>\n",
              "      <td>0</td>\n",
              "    </tr>\n",
              "    <tr>\n",
              "      <th>10056</th>\n",
              "      <td>@@4916290</td>\n",
              "      <td>hopeless</td>\n",
              "      <td>in</td>\n",
              "      <td>Those were only days of helplessness , she say...</td>\n",
              "      <td>0</td>\n",
              "    </tr>\n",
              "    <tr>\n",
              "      <th>10057</th>\n",
              "      <td>@@2973614</td>\n",
              "      <td>immigrant</td>\n",
              "      <td>ie</td>\n",
              "      <td>They include a community college student , a c...</td>\n",
              "      <td>0</td>\n",
              "    </tr>\n",
              "  </tbody>\n",
              "</table>\n",
              "<p>10058 rows × 5 columns</p>\n",
              "</div>"
            ],
            "text/plain": [
              "            docID  ... label\n",
              "0       @@4703096  ...     0\n",
              "1      @@25567226  ...     0\n",
              "2       @@1824078  ...     4\n",
              "3       @@1921089  ...     0\n",
              "4      @@40039380  ...     0\n",
              "...           ...  ...   ...\n",
              "10053  @@16413808  ...     4\n",
              "10054   @@8676630  ...     0\n",
              "10055   @@7688552  ...     0\n",
              "10056   @@4916290  ...     0\n",
              "10057   @@2973614  ...     0\n",
              "\n",
              "[10058 rows x 5 columns]"
            ]
          },
          "metadata": {},
          "execution_count": 7
        }
      ]
    },
    {
      "cell_type": "markdown",
      "metadata": {
        "id": "VtakLrrIoo9_"
      },
      "source": [
        "# Exploring data"
      ]
    },
    {
      "cell_type": "code",
      "metadata": {
        "id": "K6BfIKFam55W",
        "colab": {
          "base_uri": "https://localhost:8080/"
        },
        "outputId": "a7dc603c-b7cc-484f-9fbc-94b6ab9f2052"
      },
      "source": [
        "# Length of text\n",
        "def length (txt):\n",
        "  length = len(txt.split())\n",
        "  return length\n",
        "\n",
        "txt_length = df['paragraph'].apply(lambda x: length(x))\n",
        "txt_length.sort_values(ascending = False)"
      ],
      "execution_count": null,
      "outputs": [
        {
          "output_type": "execute_result",
          "data": {
            "text/plain": [
              "3534    1519\n",
              "6266    1095\n",
              "8519    1040\n",
              "4613     772\n",
              "8819     729\n",
              "        ... \n",
              "1930       4\n",
              "1385       3\n",
              "7375       3\n",
              "5112       3\n",
              "5742       0\n",
              "Name: paragraph, Length: 10058, dtype: int64"
            ]
          },
          "metadata": {},
          "execution_count": 8
        }
      ]
    },
    {
      "cell_type": "code",
      "metadata": {
        "colab": {
          "base_uri": "https://localhost:8080/",
          "height": 265
        },
        "id": "N7uMC5lhTWo1",
        "outputId": "1ccd4dd7-e42c-4099-cb3a-cadea1c4bf5d"
      },
      "source": [
        "# Plot the histogram of sentence length\n",
        "plt.hist(txt_length, 5)\n",
        "plt.show()"
      ],
      "execution_count": null,
      "outputs": [
        {
          "output_type": "display_data",
          "data": {
            "image/png": "[encoded data removed]",
            "text/plain": [
              "<Figure size 432x288 with 1 Axes>"
            ]
          },
          "metadata": {
            "needs_background": "light"
          }
        }
      ]
    },
    {
      "cell_type": "code",
      "metadata": {
        "id": "_nAz-vJxo_wn",
        "colab": {
          "base_uri": "https://localhost:8080/"
        },
        "outputId": "5d1524e8-08bb-49b4-e33a-3dde8d4a0687"
      },
      "source": [
        "# Observing labels\n",
        "df['label'].value_counts()"
      ],
      "execution_count": null,
      "outputs": [
        {
          "output_type": "execute_result",
          "data": {
            "text/plain": [
              "0    8206\n",
              "1     906\n",
              "3     435\n",
              "4     369\n",
              "2     142\n",
              "Name: label, dtype: int64"
            ]
          },
          "metadata": {},
          "execution_count": 10
        }
      ]
    },
    {
      "cell_type": "code",
      "metadata": {
        "id": "Iy38u3cFVWjW",
        "colab": {
          "base_uri": "https://localhost:8080/"
        },
        "outputId": "08a272c5-c2ad-4c1e-ac9f-763ad5b1761f"
      },
      "source": [
        "df['label'] = df['label'].astype(str)\n",
        "df['label']"
      ],
      "execution_count": null,
      "outputs": [
        {
          "output_type": "execute_result",
          "data": {
            "text/plain": [
              "0        0\n",
              "1        0\n",
              "2        4\n",
              "3        0\n",
              "4        0\n",
              "        ..\n",
              "10053    4\n",
              "10054    0\n",
              "10055    0\n",
              "10056    0\n",
              "10057    0\n",
              "Name: label, Length: 10058, dtype: object"
            ]
          },
          "metadata": {},
          "execution_count": 11
        }
      ]
    },
    {
      "cell_type": "code",
      "metadata": {
        "id": "WlKftt3JVk-n",
        "colab": {
          "base_uri": "https://localhost:8080/"
        },
        "outputId": "efccb256-3bc0-46bd-93fa-ab0d700c53ea"
      },
      "source": [
        "# Missing data\n",
        "#checking missing values\n",
        "print('Is null: \\n', df.isnull().sum() )\n"
      ],
      "execution_count": null,
      "outputs": [
        {
          "output_type": "stream",
          "name": "stdout",
          "text": [
            "Is null: \n",
            " docID        0\n",
            "keyword      0\n",
            "country      0\n",
            "paragraph    0\n",
            "label        0\n",
            "dtype: int64\n"
          ]
        }
      ]
    },
    {
      "cell_type": "code",
      "metadata": {
        "id": "JQyvG1B0pvEI",
        "colab": {
          "base_uri": "https://localhost:8080/",
          "height": 331
        },
        "outputId": "120c9bd8-c99b-4fe8-b115-dac0deb272b3"
      },
      "source": [
        "# Turning labels to binary\n",
        "\n",
        "label_dic = {'0':0,\n",
        "             '1':0,\n",
        "             '2':1,\n",
        "             '3':1,\n",
        "             '4':1}\n",
        "df['label'] = df['label'].map(label_dic)\n",
        "print(df['label'].value_counts())\n",
        "sns.countplot(x='label', data=df)\n",
        "plt.show()"
      ],
      "execution_count": null,
      "outputs": [
        {
          "output_type": "stream",
          "name": "stdout",
          "text": [
            "0    9112\n",
            "1     946\n",
            "Name: label, dtype: int64\n"
          ]
        },
        {
          "output_type": "display_data",
          "data": {
            "image/png": "[encoded data removed]",
            "text/plain": [
              "<Figure size 432x288 with 1 Axes>"
            ]
          },
          "metadata": {
            "needs_background": "light"
          }
        }
      ]
    },
    {
      "cell_type": "markdown",
      "metadata": {
        "id": "ZcAMX5reo0e1"
      },
      "source": [
        "# Developing models"
      ]
    },
    {
      "cell_type": "code",
      "metadata": {
        "id": "Nvza5K7YbJ4H",
        "colab": {
          "base_uri": "https://localhost:8080/"
        },
        "outputId": "16ec5c3a-b098-4ac2-d925-3e563717d732"
      },
      "source": [
        "# Splitting the data into training (80%) and test set(20%)\n",
        "from sklearn.model_selection import train_test_split\n",
        "X = df['paragraph']\n",
        "y = df['label']\n",
        "X_train, X_test, y_train, y_test = train_test_split (X, y, train_size = 0.8, random_state = 42, shuffle = True, stratify=y)\n",
        "print ('Shapes of X_train, y_train: ', X_train.shape, y_train.shape)\n",
        "print ('Shapes of X_test, y_test: ', X_test.shape, y_test.shape)\n",
        "print(y_train.value_counts())"
      ],
      "execution_count": null,
      "outputs": [
        {
          "output_type": "stream",
          "name": "stdout",
          "text": [
            "Shapes of X_train, y_train:  (8046,) (8046,)\n",
            "Shapes of X_test, y_test:  (2012,) (2012,)\n",
            "0    7289\n",
            "1     757\n",
            "Name: label, dtype: int64\n"
          ]
        }
      ]
    },
    {
      "cell_type": "markdown",
      "metadata": {
        "id": "UvxZkMMco7sB"
      },
      "source": [
        "## **Classic ML models**"
      ]
    },
    {
      "cell_type": "markdown",
      "metadata": {
        "id": "kso-92jebtft"
      },
      "source": [
        "### Text representation"
      ]
    },
    {
      "cell_type": "code",
      "metadata": {
        "id": "5ez7hEFCa5_U",
        "colab": {
          "base_uri": "https://localhost:8080/"
        },
        "outputId": "0b6be84b-173f-4143-88a0-a608c5bf4138"
      },
      "source": [
        "!pip install stop-words\n",
        "from stop_words import get_stop_words\n",
        "stopwords = get_stop_words('en')\n",
        "from textblob import Word\n",
        "import re\n",
        "import nltk\n",
        "nltk.download('wordnet')\n",
        "\n",
        "#BOW based approaches\n",
        "nlp.init_sims(replace=True) # calling for using syn0norm\n",
        "\n",
        "def word_averaging(wv, words):\n",
        "    all_words, mean = set(), []\n",
        "    \n",
        "    for word in words:\n",
        "        if isinstance(word, np.ndarray):\n",
        "            mean.append(word)\n",
        "        elif word in wv.vocab:\n",
        "            mean.append(wv.syn0norm[wv.vocab[word].index])\n",
        "            all_words.add(wv.vocab[word].index)\n",
        "\n",
        "    if not mean:\n",
        "        logging.warning(\"cannot compute similarity with no input %s\", words)\n",
        "        # FIXME: remove these examples in pre-processing\n",
        "        return np.zeros(wv.vector_size,)\n",
        "\n",
        "    mean = gensim.matutils.unitvec(np.array(mean).mean(axis=0)).astype(np.float32)\n",
        "    return mean\n",
        "\n",
        "def  word_averaging_list(wv, text_list):\n",
        "    return np.vstack([word_averaging(wv, post) for post in text_list ])"
      ],
      "execution_count": null,
      "outputs": [
        {
          "output_type": "stream",
          "name": "stdout",
          "text": [
            "Collecting stop-words\n",
            "  Downloading stop-words-2018.7.23.tar.gz (31 kB)\n",
            "Building wheels for collected packages: stop-words\n",
            "  Building wheel for stop-words (setup.py) ... \u001b[?25l\u001b[?25hdone\n",
            "  Created wheel for stop-words: filename=stop_words-2018.7.23-py3-none-any.whl size=32912 sha256=c04f11ece912d1184f787265d9b20fefee04cdaba514b6aa1bad3c09a964d903\n",
            "  Stored in directory: /root/.cache/pip/wheels/fb/86/b2/277b10b1ce9f73ce15059bf6975d4547cc4ec3feeb651978e9\n",
            "Successfully built stop-words\n",
            "Installing collected packages: stop-words\n",
            "Successfully installed stop-words-2018.7.23\n",
            "[nltk_data] Downloading package wordnet to /root/nltk_data...\n",
            "[nltk_data]   Unzipping corpora/wordnet.zip.\n"
          ]
        }
      ]
    },
    {
      "cell_type": "code",
      "metadata": {
        "id": "2aopPSRVb4lL",
        "colab": {
          "base_uri": "https://localhost:8080/"
        },
        "outputId": "10dd23a3-d293-487c-b519-11a4c2900b0c"
      },
      "source": [
        "# Tokenize, and apply word vector averaging to tokenized text\n",
        "import nltk\n",
        "nltk.download('punkt')\n",
        "import logging\n",
        "def w2v_tokenize_text(text):\n",
        "    tokens = []\n",
        "    for sent in nltk.sent_tokenize(text, language='english'):\n",
        "        for word in nltk.word_tokenize(sent, language='english'):\n",
        "            if len(word) < 2:\n",
        "                continue\n",
        "            tokens.append(word)\n",
        "    return tokens\n",
        "    \n",
        "\n",
        "X_train_tokenized = X_train.apply(lambda x: w2v_tokenize_text(x)).values\n",
        "X_test_tokenized = X_test.apply(lambda x: w2v_tokenize_text(x)).values\n",
        "\n",
        "X_train_word_average = word_averaging_list(nlp,X_train_tokenized)\n",
        "X_test_word_average = word_averaging_list(nlp,X_test_tokenized)"
      ],
      "execution_count": null,
      "outputs": [
        {
          "output_type": "stream",
          "name": "stdout",
          "text": [
            "[nltk_data] Downloading package punkt to /root/nltk_data...\n",
            "[nltk_data]   Unzipping tokenizers/punkt.zip.\n"
          ]
        },
        {
          "output_type": "stream",
          "name": "stderr",
          "text": [
            "/usr/local/lib/python3.7/dist-packages/ipykernel_launcher.py:19: DeprecationWarning: Call to deprecated `syn0norm` (Attribute will be removed in 4.0.0, use self.wv.vectors_norm instead).\n",
            "WARNING:root:cannot compute similarity with no input []\n"
          ]
        }
      ]
    },
    {
      "cell_type": "markdown",
      "metadata": {
        "id": "d0O8PduWdnjt"
      },
      "source": [
        "### Creating models"
      ]
    },
    {
      "cell_type": "code",
      "metadata": {
        "id": "hJdUeuNUdmij"
      },
      "source": [
        "# Printing model performance \n",
        "def printing_eval_scores (y_true, y_pred):\n",
        "  print('accuracy score: {}'.format(sklearn.metrics.accuracy_score(y_true, y_pred)))\n",
        "  print('precision score: {}'.format(sklearn.metrics.precision_score(y_true, y_pred, average = 'weighted', zero_division=1)))\n",
        "  print('recall score: {}'.format(sklearn.metrics.recall_score(y_true, y_pred,  average = 'weighted', zero_division=1)))\n",
        "  print('F1 score: {}'.format(f1_score(y_true, y_pred,  average = 'macro', zero_division=1)))\n",
        "  print('\\nConfusion Matrix:\\n', confusion_matrix(y_true, y_pred))\n",
        "  print('\\n', classification_report(y_true, y_pred))\n",
        "\n",
        "# Get the measurements of ROC curve for each model\n",
        "def get_roc_cuve (y_true, y_pred):\n",
        "  #cmatrix = confusion_matrix(y_true, y_pred)\n",
        "\n",
        "  # Get arrays of FPR and recall using roc_curve\n",
        "  FPR, recall, threshold = sklearn.metrics.roc_curve(y_true, y_pred)\n",
        "  #print('FPR:', FPR)\n",
        "  \n",
        "  # Get auc score\n",
        "  auc = sklearn.metrics.auc(FPR, recall)\n",
        "  roc = { 'fpr': FPR, 'tpr': recall, 'auc': auc}\n",
        "  return roc"
      ],
      "execution_count": null,
      "outputs": []
    },
    {
      "cell_type": "code",
      "metadata": {
        "id": "Y2JRHYC7dxi8"
      },
      "source": [
        "# Define a function for creating over sampling \n",
        "def score_model(model):\n",
        "    cv = StratifiedKFold(n_splits=5, random_state=42, shuffle = True)\n",
        "\n",
        "    oversampler = SMOTE(random_state=42)\n",
        "    #oversampler = RandomOverSampler(sampling_strategy='minority')\n",
        "    scores = []\n",
        "    f1_scores = []\n",
        "    \n",
        "    ## on training set, do cv\n",
        "    for train_fold_index, val_fold_index in cv.split(X_train_word_average, y_train):\n",
        "        # Get the training data\n",
        "        X_train_fold, y_train_fold = X_train_word_average[train_fold_index], y_train.iloc[train_fold_index]\n",
        "        # Get the validation data\n",
        "        X_val_fold, y_val_fold = X_train_word_average[val_fold_index], y_train.iloc[val_fold_index]\n",
        "\n",
        "        # Upsample only the data in the training section\n",
        "        X_train_fold_upsample, y_train_fold_upsample = oversampler.fit_resample(X_train_fold,\n",
        "                                                                           y_train_fold)\n",
        "        # Fit the model on the upsampled training data\n",
        "        model.fit(X_train_fold_upsample, y_train_fold_upsample)\n",
        "        # Score the model on the (non-upsampled) validation data\n",
        "        score = accuracy_score(y_val_fold, model.predict(X_val_fold)) #  average= 'weighted' for F1\n",
        "        f1 = sklearn.metrics.f1_score(y_val_fold, model.predict(X_val_fold),  average = 'macro', zero_division=1)  #f1_scores.append(f1_score)\n",
        "        scores.append(score)\n",
        "        f1_scores.append(f1)\n",
        "        \n",
        "    print('Average of acuracy score in training: %s' % np.array(scores).mean())\n",
        "    print('Average of Macro F1-score in training: %s' % np.array(f1_scores).mean())\n",
        "\n",
        "    ## on test set\n",
        "    y_pred = model.predict(X_test_word_average)\n",
        "    test_score = accuracy_score( y_test,y_pred)\n",
        "    macro_f1_test = f1_score(y_test, y_pred,  average = 'macro', zero_division=1)\n",
        "    printing_eval_scores (y_test, y_pred)\n",
        "    roc = get_roc_cuve(y_test, y_pred)\n",
        "    report_scores = {'accuracy_folds':np.array(scores),'accuracy_test':test_score, 'macro_f1_test': np.array(f1_scores), 'y_predicted':y_pred, 'roc': roc }\n",
        "    return report_scores #(np.array(scores),test_score,y_pred )       #(np.array(scores).mean(), np.array(scores).std())"
      ],
      "execution_count": null,
      "outputs": []
    },
    {
      "cell_type": "code",
      "metadata": {
        "id": "DzbE1tOCiUp9",
        "colab": {
          "base_uri": "https://localhost:8080/",
          "height": 1000
        },
        "outputId": "ae01b855-4c92-4577-e5fb-61524eb3d7dd"
      },
      "source": [
        "# Running all models together\n",
        "# Compare Algorithms\n",
        "import pandas\n",
        "import matplotlib.pyplot as plt\n",
        "from sklearn import model_selection\n",
        "from sklearn.linear_model import LogisticRegression\n",
        "from sklearn.tree import DecisionTreeClassifier\n",
        "from sklearn.neighbors import KNeighborsClassifier\n",
        "from sklearn.naive_bayes import GaussianNB\n",
        "from sklearn.svm import SVC\n",
        "from lightgbm import LGBMClassifier\n",
        "from xgboost import XGBClassifier\n",
        "\n",
        "models = []\n",
        "models.append(('LR', LogisticRegression(solver='lbfgs', max_iter=700)))\n",
        "models.append(('RF', RandomForestClassifier()))\n",
        "models.append(('KNN', KNeighborsClassifier()))\n",
        "models.append(('DT', DecisionTreeClassifier()))\n",
        "models.append(('NB', GaussianNB()))\n",
        "models.append(('SVM', SVC(decision_function_shape='ovo', probability=True)))\n",
        "models.append(('LGBM', LGBMClassifier(objective= 'binary')))\n",
        "models.append(('XGB', XGBClassifier(eval_metric=\"mlogloss\", objective = \"reg:logistic\") ))\n",
        "\n",
        "\n",
        "# evaluate each model in turn\n",
        "results = []\n",
        "score_test = []\n",
        "macro_f1 = []\n",
        "names = []\n",
        "rocs = {}\n",
        "report_scores_all = []\n",
        "for name, model in models:\n",
        "  #fold_scores, test_score = score_model(model)\n",
        "  report_scores = score_model(model)\n",
        "  report_scores_all.append(report_scores)\n",
        "  #results.append(fold_scores)\n",
        "  #score_test.append(test_score)\n",
        "  results.append(report_scores['accuracy_folds'])\n",
        "  score_test.append(report_scores['accuracy_test'])\n",
        "  macro_f1.append(report_scores['macro_f1_test'])\n",
        "  rocs[name] = (report_scores['roc'])\n",
        "  names.append(name)\n",
        "  # msg = \"%s: %f (%f)\" % (name, fold_scores.mean(), fold_scores.std())\n",
        "  msg = \"%s: %f (%f)\" % (name, report_scores['accuracy_folds'].mean(), report_scores['accuracy_folds'].std())\n",
        "  print(msg)\n",
        "# boxplot algorithm comparison\n",
        "fig = plt.figure()\n",
        "fig.suptitle('Algorithms Comparison in Terms of Accuracy')\n",
        "ax = fig.add_subplot(111)\n",
        "plt.boxplot(results)\n",
        "ax.set_xticklabels(names)\n",
        "plt.show()"
      ],
      "execution_count": null,
      "outputs": [
        {
          "output_type": "stream",
          "name": "stdout",
          "text": [
            "Average of acuracy score in training: 0.7895843643480578\n",
            "Average of Macro F1-score in training: 0.6328994844641667\n",
            "accuracy score: 0.794234592445328\n",
            "precision score: 0.9020001923515237\n",
            "recall score: 0.794234592445328\n",
            "F1 score: 0.6387422020831454\n",
            "\n",
            "Confusion Matrix:\n",
            " [[1459  364]\n",
            " [  50  139]]\n",
            "\n",
            "               precision    recall  f1-score   support\n",
            "\n",
            "           0       0.97      0.80      0.88      1823\n",
            "           1       0.28      0.74      0.40       189\n",
            "\n",
            "    accuracy                           0.79      2012\n",
            "   macro avg       0.62      0.77      0.64      2012\n",
            "weighted avg       0.90      0.79      0.83      2012\n",
            "\n",
            "LR: 0.789584 (0.014373)\n",
            "Average of acuracy score in training: 0.9015662673857069\n",
            "Average of Macro F1-score in training: 0.6188729539703529\n",
            "accuracy score: 0.8916500994035785\n",
            "precision score: 0.8642576285967899\n",
            "recall score: 0.8916500994035785\n",
            "F1 score: 0.5843463691809667\n",
            "\n",
            "Confusion Matrix:\n",
            " [[1762   61]\n",
            " [ 157   32]]\n",
            "\n",
            "               precision    recall  f1-score   support\n",
            "\n",
            "           0       0.92      0.97      0.94      1823\n",
            "           1       0.34      0.17      0.23       189\n",
            "\n",
            "    accuracy                           0.89      2012\n",
            "   macro avg       0.63      0.57      0.58      2012\n",
            "weighted avg       0.86      0.89      0.87      2012\n",
            "\n",
            "RF: 0.901566 (0.002758)\n",
            "Average of acuracy score in training: 0.29505599326768295\n",
            "Average of Macro F1-score in training: 0.2855396784454691\n",
            "accuracy score: 0.3290258449304175\n",
            "precision score: 0.9005722590905837\n",
            "recall score: 0.3290258449304175\n",
            "F1 score: 0.31356047855160807\n",
            "\n",
            "Confusion Matrix:\n",
            " [[ 482 1341]\n",
            " [   9  180]]\n",
            "\n",
            "               precision    recall  f1-score   support\n",
            "\n",
            "           0       0.98      0.26      0.42      1823\n",
            "           1       0.12      0.95      0.21       189\n",
            "\n",
            "    accuracy                           0.33      2012\n",
            "   macro avg       0.55      0.61      0.31      2012\n",
            "weighted avg       0.90      0.33      0.40      2012\n",
            "\n",
            "KNN: 0.295056 (0.020794)\n",
            "Average of acuracy score in training: 0.7892137008828446\n",
            "Average of Macro F1-score in training: 0.5554593457998089\n",
            "accuracy score: 0.7972166998011928\n",
            "precision score: 0.8559991682522411\n",
            "recall score: 0.7972166998011928\n",
            "F1 score: 0.5622980504066185\n",
            "\n",
            "Confusion Matrix:\n",
            " [[1539  284]\n",
            " [ 124   65]]\n",
            "\n",
            "               precision    recall  f1-score   support\n",
            "\n",
            "           0       0.93      0.84      0.88      1823\n",
            "           1       0.19      0.34      0.24       189\n",
            "\n",
            "    accuracy                           0.80      2012\n",
            "   macro avg       0.56      0.59      0.56      2012\n",
            "weighted avg       0.86      0.80      0.82      2012\n",
            "\n",
            "DT: 0.789214 (0.018443)\n",
            "Average of acuracy score in training: 0.731544688456624\n",
            "Average of Macro F1-score in training: 0.5515656169784451\n",
            "accuracy score: 0.7301192842942346\n",
            "precision score: 0.859911327492484\n",
            "recall score: 0.7301192842942346\n",
            "F1 score: 0.5402439511929285\n",
            "\n",
            "Confusion Matrix:\n",
            " [[1381  442]\n",
            " [ 101   88]]\n",
            "\n",
            "               precision    recall  f1-score   support\n",
            "\n",
            "           0       0.93      0.76      0.84      1823\n",
            "           1       0.17      0.47      0.24       189\n",
            "\n",
            "    accuracy                           0.73      2012\n",
            "   macro avg       0.55      0.61      0.54      2012\n",
            "weighted avg       0.86      0.73      0.78      2012\n",
            "\n",
            "NB: 0.731545 (0.007794)\n",
            "Average of acuracy score in training: 0.8698731900142445\n",
            "Average of Macro F1-score in training: 0.6727650382094061\n",
            "accuracy score: 0.8717693836978131\n",
            "precision score: 0.8969428676021772\n",
            "recall score: 0.8717693836978131\n",
            "F1 score: 0.686919641887833\n",
            "\n",
            "Confusion Matrix:\n",
            " [[1650  173]\n",
            " [  85  104]]\n",
            "\n",
            "               precision    recall  f1-score   support\n",
            "\n",
            "           0       0.95      0.91      0.93      1823\n",
            "           1       0.38      0.55      0.45       189\n",
            "\n",
            "    accuracy                           0.87      2012\n",
            "   macro avg       0.66      0.73      0.69      2012\n",
            "weighted avg       0.90      0.87      0.88      2012\n",
            "\n",
            "SVM: 0.869873 (0.004544)\n",
            "Average of acuracy score in training: 0.8921191743646955\n",
            "Average of Macro F1-score in training: 0.6623082732892687\n",
            "accuracy score: 0.8871769383697813\n",
            "precision score: 0.8825791585170473\n",
            "recall score: 0.8871769383697813\n",
            "F1 score: 0.654610036881505\n",
            "\n",
            "Confusion Matrix:\n",
            " [[1718  105]\n",
            " [ 122   67]]\n",
            "\n",
            "               precision    recall  f1-score   support\n",
            "\n",
            "           0       0.93      0.94      0.94      1823\n",
            "           1       0.39      0.35      0.37       189\n",
            "\n",
            "    accuracy                           0.89      2012\n",
            "   macro avg       0.66      0.65      0.65      2012\n",
            "weighted avg       0.88      0.89      0.88      2012\n",
            "\n",
            "LGBM: 0.892119 (0.007054)\n",
            "Average of acuracy score in training: 0.8440208609182045\n",
            "Average of Macro F1-score in training: 0.6520688708380072\n",
            "accuracy score: 0.8349900596421471\n",
            "precision score: 0.8851341638969208\n",
            "recall score: 0.8349900596421471\n",
            "F1 score: 0.640432696862431\n",
            "\n",
            "Confusion Matrix:\n",
            " [[1580  243]\n",
            " [  89  100]]\n",
            "\n",
            "               precision    recall  f1-score   support\n",
            "\n",
            "           0       0.95      0.87      0.90      1823\n",
            "           1       0.29      0.53      0.38       189\n",
            "\n",
            "    accuracy                           0.83      2012\n",
            "   macro avg       0.62      0.70      0.64      2012\n",
            "weighted avg       0.89      0.83      0.86      2012\n",
            "\n",
            "XGB: 0.844021 (0.008727)\n"
          ]
        },
        {
          "output_type": "display_data",
          "data": {
            "image/png": "[encoded data removed]",
            "text/plain": [
              "<Figure size 432x288 with 1 Axes>"
            ]
          },
          "metadata": {
            "needs_background": "light"
          }
        }
      ]
    },
    {
      "cell_type": "code",
      "metadata": {
        "id": "eDGBjY9zU7zb",
        "colab": {
          "base_uri": "https://localhost:8080/",
          "height": 308
        },
        "outputId": "306e9d2a-46ff-413c-b735-325bf27c2650"
      },
      "source": [
        "# boxplot algorithm comparison in terms of Macro F1-Score\n",
        "fig = plt.figure()\n",
        "fig.suptitle('Algorithms Comparison in Terms of Macro F1-Score')\n",
        "ax = fig.add_subplot(111)\n",
        "plt.boxplot(macro_f1)\n",
        "plt.ylabel('Macro F1-Score')\n",
        "plt.xlabel('Models')\n",
        "ax.set_xticklabels(names)\n",
        "plt.show()"
      ],
      "execution_count": null,
      "outputs": [
        {
          "output_type": "display_data",
          "data": {
            "image/png": "[encoded data removed]",
            "text/plain": [
              "<Figure size 432x288 with 1 Axes>"
            ]
          },
          "metadata": {
            "needs_background": "light"
          }
        }
      ]
    },
    {
      "cell_type": "code",
      "metadata": {
        "colab": {
          "base_uri": "https://localhost:8080/"
        },
        "id": "N6nckdO5rZje",
        "outputId": "7d38d61c-298f-4866-9fed-1c36702edc57"
      },
      "source": [
        "rocs"
      ],
      "execution_count": null,
      "outputs": [
        {
          "output_type": "execute_result",
          "data": {
            "text/plain": [
              "{'DT': {'auc': 0.5940640899499923,\n",
              "  'fpr': array([0.        , 0.15578716, 1.        ]),\n",
              "  'tpr': array([0.        , 0.34391534, 1.        ])},\n",
              " 'KNN': {'auc': 0.6083901470626649,\n",
              "  'fpr': array([0.        , 0.73560066, 1.        ]),\n",
              "  'tpr': array([0.        , 0.95238095, 1.        ])},\n",
              " 'LGBM': {'auc': 0.6484499937599224,\n",
              "  'fpr': array([0.        , 0.05759737, 1.        ]),\n",
              "  'tpr': array([0.        , 0.35449735, 1.        ])},\n",
              " 'LR': {'auc': 0.7678894316305177,\n",
              "  'fpr': array([0.        , 0.19967087, 1.        ]),\n",
              "  'tpr': array([0.        , 0.73544974, 1.        ])},\n",
              " 'NB': {'auc': 0.6115754889753793,\n",
              "  'fpr': array([0.        , 0.24245749, 1.        ]),\n",
              "  'tpr': array([0.        , 0.46560847, 1.        ])},\n",
              " 'RF': {'auc': 0.5679254209149985,\n",
              "  'fpr': array([0.        , 0.03346133, 1.        ]),\n",
              "  'tpr': array([0.        , 0.16931217, 1.        ])},\n",
              " 'SVM': {'auc': 0.7276830156698506,\n",
              "  'fpr': array([0.        , 0.09489852, 1.        ]),\n",
              "  'tpr': array([0.        , 0.55026455, 1.        ])},\n",
              " 'XGB': {'auc': 0.6979018827620034,\n",
              "  'fpr': array([0.        , 0.13329676, 1.        ]),\n",
              "  'tpr': array([0.        , 0.52910053, 1.        ])}}"
            ]
          },
          "metadata": {},
          "execution_count": 21
        }
      ]
    },
    {
      "cell_type": "markdown",
      "metadata": {
        "id": "Nq6BmSIWqrXH"
      },
      "source": [
        "# Pre-trained Models"
      ]
    },
    {
      "cell_type": "markdown",
      "metadata": {
        "id": "ym7fSdvRZGPF"
      },
      "source": [
        "## **BERT**"
      ]
    },
    {
      "cell_type": "code",
      "metadata": {
        "id": "z_-ibrO2qigP"
      },
      "source": [
        "# Required packages for BERT is moved to the top, in case restart is required"
      ],
      "execution_count": null,
      "outputs": []
    },
    {
      "cell_type": "code",
      "metadata": {
        "id": "xiRdPkXLqTlb"
      },
      "source": [
        ""
      ],
      "execution_count": null,
      "outputs": []
    },
    {
      "cell_type": "markdown",
      "metadata": {
        "id": "qjjCuLVYq-Cn"
      },
      "source": [
        "**Prepare training and testing data for BERT**"
      ]
    },
    {
      "cell_type": "code",
      "metadata": {
        "id": "IREaB2ZfrDKE",
        "colab": {
          "base_uri": "https://localhost:8080/"
        },
        "outputId": "56b35493-e24a-499c-b66c-01c63e082284"
      },
      "source": [
        "len(X_train_word_average)"
      ],
      "execution_count": null,
      "outputs": [
        {
          "output_type": "execute_result",
          "data": {
            "text/plain": [
              "8046"
            ]
          },
          "metadata": {},
          "execution_count": 19
        }
      ]
    },
    {
      "cell_type": "code",
      "metadata": {
        "id": "MG8fNFu8vWJA",
        "colab": {
          "base_uri": "https://localhost:8080/"
        },
        "outputId": "44d0c8bd-6520-4b47-ebe9-ca6f030b6eb7"
      },
      "source": [
        "len(X_train_word_average[2])"
      ],
      "execution_count": null,
      "outputs": [
        {
          "output_type": "execute_result",
          "data": {
            "text/plain": [
              "300"
            ]
          },
          "metadata": {},
          "execution_count": 20
        }
      ]
    },
    {
      "cell_type": "code",
      "metadata": {
        "id": "z1K31iUC6dly",
        "colab": {
          "base_uri": "https://localhost:8080/"
        },
        "outputId": "bb06dea3-da63-4b14-8742-b4086c6112d9"
      },
      "source": [
        "X_train_tokenized[0]"
      ],
      "execution_count": null,
      "outputs": [
        {
          "output_type": "execute_result",
          "data": {
            "text/plain": [
              "['She',\n",
              " 'learns',\n",
              " 'to',\n",
              " 'read',\n",
              " 'with',\n",
              " 'encouragement',\n",
              " 'from',\n",
              " 'her',\n",
              " 'new',\n",
              " 'family',\n",
              " 'and',\n",
              " 'Max',\n",
              " 'Jewish',\n",
              " 'refugee',\n",
              " 'who',\n",
              " 'they',\n",
              " 'are',\n",
              " 'hiding',\n",
              " 'under',\n",
              " 'the',\n",
              " 'stairs']"
            ]
          },
          "metadata": {},
          "execution_count": 21
        }
      ]
    },
    {
      "cell_type": "code",
      "metadata": {
        "id": "VEe_iAPj7u2T",
        "colab": {
          "base_uri": "https://localhost:8080/"
        },
        "outputId": "9b3070eb-71e5-4549-8b41-3f7e0aeb484a"
      },
      "source": [
        "# This func concatenate the tokenized words (which were already stripped of ,.?! and stopwords) together to create a sentence before tokenizing with BERT pretrained\n",
        "def concat_words(words, labels):\n",
        "  concat_words = []\n",
        "  for i in range(words.shape[0]):\n",
        "     concat_words.append( \" \".join(words[i]) )\n",
        "  concat_words = tuple(concat_words) \n",
        "\n",
        "  labels = tuple(labels.tolist())\n",
        "  return concat_words, labels\n",
        "\n",
        "train_texts, train_labels = concat_words(X_train_tokenized, y_train)\n",
        "test_texts, test_labels   = concat_words(X_test_tokenized,  y_test) \n",
        "\n",
        "len(train_texts), len(train_labels), len(test_texts), len(test_labels)"
      ],
      "execution_count": null,
      "outputs": [
        {
          "output_type": "execute_result",
          "data": {
            "text/plain": [
              "(8046, 8046, 2012, 2012)"
            ]
          },
          "metadata": {},
          "execution_count": 22
        }
      ]
    },
    {
      "cell_type": "code",
      "metadata": {
        "id": "-Odo91k59IJC",
        "colab": {
          "base_uri": "https://localhost:8080/"
        },
        "outputId": "475b9fa1-860e-419f-d767-879fbb1c0295"
      },
      "source": [
        "# Tokenizer \n",
        "tokenizer = BertTokenizer.from_pretrained('bert-base-uncased', do_lower_case=True)\n",
        "\n",
        "# Example\n",
        "tokenizer.tokenize(X_train[302])\n",
        "tokenizer.tokenize(train_texts[0]) "
      ],
      "execution_count": null,
      "outputs": [
        {
          "output_type": "stream",
          "name": "stderr",
          "text": [
            "100%|██████████| 231508/231508 [00:00<00:00, 919196.17B/s]\n"
          ]
        },
        {
          "output_type": "execute_result",
          "data": {
            "text/plain": [
              "['she',\n",
              " 'learns',\n",
              " 'to',\n",
              " 'read',\n",
              " 'with',\n",
              " 'encouragement',\n",
              " 'from',\n",
              " 'her',\n",
              " 'new',\n",
              " 'family',\n",
              " 'and',\n",
              " 'max',\n",
              " 'jewish',\n",
              " 'refugee',\n",
              " 'who',\n",
              " 'they',\n",
              " 'are',\n",
              " 'hiding',\n",
              " 'under',\n",
              " 'the',\n",
              " 'stairs']"
            ]
          },
          "metadata": {},
          "execution_count": 23
        }
      ]
    },
    {
      "cell_type": "code",
      "metadata": {
        "colab": {
          "base_uri": "https://localhost:8080/"
        },
        "id": "QJUNynZyYSLS",
        "outputId": "8feebbf7-01ea-4ac5-8c9a-a8c8d311cd83"
      },
      "source": [
        "# get max len in tokenized train text to set the tokens length in the next step\n",
        "MAX_LEN = max(map(len, X_train_tokenized))  # can do len(max(X_train_tokenized, key=len)) also\n",
        "print('MAX LEN of trainning sentence is:', MAX_LEN, '\\nMAX LEN > 512 is ', MAX_LEN>512)\n",
        "\n",
        "# Update MAX LEN if it's > 512, set it to be 225 \n",
        "## 512 is is the maximum seq len of BERT_BASE. But we cannot allow the seq len to be 512 since we'll run out of GPU memory --> Use max len of 225\n",
        "MAX_LEN = 225 if MAX_LEN > 512 else MAX_LEN"
      ],
      "execution_count": null,
      "outputs": [
        {
          "output_type": "stream",
          "name": "stdout",
          "text": [
            "MAX LEN of trainning sentence is: 1349 \n",
            "MAX LEN > 512 is  True\n"
          ]
        }
      ]
    },
    {
      "cell_type": "markdown",
      "metadata": {
        "id": "aoTdexdp8X-y"
      },
      "source": [
        "\n",
        "\n",
        "# Convert to tokens using tokenizer\n",
        "train_tokens = list(map(lambda t: ['[CLS]'] + tokenizer.tokenize(t)[: MAX_LEN] + ['[SEP]'], train_texts))\n",
        "test_tokens  = list(map(lambda t: ['[CLS]'] + tokenizer.tokenize(t)[: MAX_LEN] + ['[SEP]'], test_texts))\n",
        "\n",
        "print('Number of Training Sequences:',len(train_tokens), '\\nNumber of Testing Sequences:', len(test_tokens) )\n",
        "MAX_LEN"
      ]
    },
    {
      "cell_type": "markdown",
      "metadata": {
        "id": "4OlPVCzu8Z36"
      },
      "source": [
        "train_tokens[0]"
      ]
    },
    {
      "cell_type": "markdown",
      "metadata": {
        "id": "J7jyQUWEB-HV"
      },
      "source": [
        "# Following is to convert List of words to list of numbers. (Words are replaced by their index in dictionar)\n",
        "train_tokens_ids = pad_sequences(list(map(tokenizer.convert_tokens_to_ids, train_tokens)), maxlen= MAX_LEN, truncating=\"post\", padding=\"post\", dtype=\"int\")\n",
        "test_tokens_ids  = pad_sequences(list(map(tokenizer.convert_tokens_to_ids, test_tokens)),  maxlen= MAX_LEN, truncating=\"post\", padding=\"post\", dtype=\"int\")\n",
        "\n",
        "train_tokens_ids.shape, test_tokens_ids.shape"
      ]
    },
    {
      "cell_type": "markdown",
      "metadata": {
        "id": "pW8p-QXOFr7F"
      },
      "source": [
        "# Mask the paddings with 0 and words with 1\n",
        "train_masks = [[float(i > 0) for i in ii] for ii in train_tokens_ids]\n",
        "test_masks = [[float(i > 0) for i in ii] for ii in test_tokens_ids]"
      ]
    },
    {
      "cell_type": "markdown",
      "metadata": {
        "id": "UHqRlj6hFuVG"
      },
      "source": [
        "# Define BERT model\n",
        "class BertBinaryClassifier(nn.Module):\n",
        "    def __init__(self, dropout=0.1):\n",
        "        super(BertBinaryClassifier, self).__init__()\n",
        "\n",
        "        self.bert = BertModel.from_pretrained('bert-base-uncased')\n",
        "        self.dropout = nn.Dropout(dropout)\n",
        "        self.linear = nn.Linear(768, 1)\n",
        "        self.sigmoid = nn.Sigmoid()\n",
        "    \n",
        "    def forward(self, tokens, masks=None):\n",
        "        # First Layer\n",
        "        _, pooled_output = self.bert(tokens, attention_mask=masks, output_all_encoded_layers=False)\n",
        "\n",
        "        dropout_output = self.dropout(pooled_output)\n",
        "\n",
        "        linear_output = self.linear(dropout_output)\n",
        "        \n",
        "        # output layer\n",
        "        proba = self.sigmoid(linear_output)\n",
        "        \n",
        "        return proba\n",
        "      \n",
        "    def train_m(self,x,y,train_mask,epochs,batchsize):\n",
        "      train_tokens_tensor = torch.tensor(x)\n",
        "      train_y_tensor = torch.tensor(y.reshape(-1, 1)).float()\n",
        "      train_masks_tensor = torch.tensor(train_mask)\n",
        "\n",
        "      train_dataset = TensorDataset(train_tokens_tensor, train_masks_tensor, train_y_tensor)\n",
        "      train_sampler = RandomSampler(train_dataset)\n",
        "      train_dataloader = DataLoader(train_dataset, sampler=train_sampler, batch_size=batchsize) \n",
        "\n",
        "\n",
        "      param_optimizer = list(self.sigmoid.named_parameters()) \n",
        "      optimizer_grouped_parameters = [{\"params\": [p for n, p in param_optimizer]}]\n",
        "      optimizer = Adam(self.bert.parameters(), lr=2e-5)\n",
        "      for epoch_num in range(epochs):\n",
        "          self.train() # Training Flag\n",
        "          train_loss = 0\n",
        "          for step_num, batch_data in enumerate(train_dataloader):\n",
        "              \n",
        "              # Load batch on device memory\n",
        "              token_ids, masks, labels = tuple(t.to(device) for t in batch_data)\n",
        "\n",
        "              # Get the output of the model for provided input\n",
        "              logits = self(token_ids, masks)\n",
        "              \n",
        "              # Loss function\n",
        "              loss_func = nn.BCELoss()\n",
        "\n",
        "              # Calculate Loss\n",
        "              batch_loss = loss_func(logits, labels)\n",
        "              train_loss += batch_loss.item()\n",
        "              \n",
        "              # backpropagate the error\n",
        "              self.zero_grad()\n",
        "              batch_loss.backward()\n",
        "              \n",
        "              # Update the Weights of the Model\n",
        "              clip_grad_norm_(parameters=self.parameters(), max_norm=1.0)\n",
        "              optimizer.step()\n",
        "              \n",
        "              clear_output(wait=True)\n",
        "              print('Epoch: ', epoch_num + 1)\n",
        "              print(\"\\r\" + \"{0}/{1} loss: {2} \".format(step_num, len(train_labels) / batchsize, train_loss / (step_num + 1)))"
      ]
    },
    {
      "cell_type": "code",
      "metadata": {
        "id": "gIoX7sMSGepe",
        "colab": {
          "base_uri": "https://localhost:8080/"
        },
        "outputId": "3410e56c-2008-4aa2-ac20-22932e263797"
      },
      "source": [
        "device = torch.device(\"cuda\" if torch.cuda.is_available() else \"cpu\")\n",
        "device"
      ],
      "execution_count": null,
      "outputs": [
        {
          "output_type": "execute_result",
          "data": {
            "text/plain": [
              "device(type='cuda')"
            ]
          },
          "metadata": {},
          "execution_count": 25
        }
      ]
    },
    {
      "cell_type": "markdown",
      "metadata": {
        "id": "oNt9bbmTHWg0"
      },
      "source": [
        "bert_clf = BertBinaryClassifier()\n",
        "bert_clf = bert_clf.cuda()"
      ]
    },
    {
      "cell_type": "markdown",
      "metadata": {
        "id": "vvhaIun1HajW"
      },
      "source": [
        "EPOCHS = 3\n",
        "BATCH_SZ = 32\n",
        "\n",
        "# Train BERT NLP\n",
        "bert_clf.train_m(train_tokens_ids, y_train.to_numpy(),train_masks, EPOCHS, BATCH_SZ)"
      ]
    },
    {
      "cell_type": "markdown",
      "metadata": {
        "id": "jySuLyNZMPRQ"
      },
      "source": [
        "**Evaluate on Testing Set**"
      ]
    },
    {
      "cell_type": "markdown",
      "metadata": {
        "id": "7n7wbM8IItwm"
      },
      "source": [
        "## Converting test token ids, test labels and test masks to a tensor and the create a tensor dataset out of them.\n",
        "# Convert token ids to tensor \n",
        "test_tokens_tensor = torch.tensor(test_tokens_ids)\n",
        "\n",
        "# Convert labels to tensors\n",
        "test_y_tensor = torch.tensor(y_test.to_numpy().reshape(-1, 1)).float()\n",
        "\n",
        "# Convert to tensor for maks\n",
        "test_masks_tensor = torch.tensor(test_masks)\n",
        "\n",
        "\n",
        "# Load Token, token mask and label into Dataloader\n",
        "test_dataset = TensorDataset(test_tokens_tensor, test_masks_tensor, test_y_tensor)\n",
        "\n",
        "# Define sampler\n",
        "test_sampler = SequentialSampler(test_dataset)\n",
        "\n",
        "# Define test data loader\n",
        "test_dataloader = DataLoader(test_dataset, sampler=test_sampler, batch_size=16)"
      ]
    },
    {
      "cell_type": "markdown",
      "metadata": {
        "id": "-txAOZsdMn3Z"
      },
      "source": [
        "bert_clf.eval()     # Define eval\n",
        "bert_predicted = [] # To Store predicted result\n",
        "all_logits = []     # Predicted probabilities that is between 0 to 1 is stored here\n",
        "\n",
        "with torch.no_grad():\n",
        "    for step_num, batch_data in enumerate(test_dataloader):\n",
        "\n",
        "        # Load the batch on gpu memory\n",
        "        token_ids, masks, labels = tuple(t.to(device) for t in batch_data)\n",
        "\n",
        "        # Calculate ouput of bert\n",
        "        logits = bert_clf(token_ids, masks)\n",
        "\n",
        "        # Get the numpy logits\n",
        "        numpy_logits = logits.cpu().detach().numpy()  # Detach from the GPU memory\n",
        "        \n",
        "        # Using the threshold find binary \n",
        "        bert_predicted += list(numpy_logits[:, 0] > 0.5)  # Threshold conversion\n",
        "        all_logits += list(numpy_logits[:, 0])"
      ]
    },
    {
      "cell_type": "markdown",
      "metadata": {
        "id": "lt6h0N2YNhsa"
      },
      "source": [
        "# Get ROC curve measurements\n",
        "rocs['BERT'] = get_roc_cuve(y_test, bert_predicted)\n",
        "\n",
        "# Prin performance\n",
        "print('----------------------------BERT performance---------------------------')\n",
        "printing_eval_scores(y_test, bert_predicted)"
      ]
    },
    {
      "cell_type": "markdown",
      "metadata": {
        "id": "BlRbJv7mZK6F"
      },
      "source": [
        "## **GPT-2**"
      ]
    },
    {
      "cell_type": "code",
      "metadata": {
        "colab": {
          "base_uri": "https://localhost:8080/",
          "height": 825,
          "referenced_widgets": [
            "4d6ebb5de3e643739b9303828d701346",
            "78ddf78b912f4d9b894a4692c5c3aa7e",
            "4416ef382ceb4c0da289f821eb4c936e",
            "19a9a1d02166418cb132d4a9551306a9",
            "f4465a938c184168a2f972dec6790282",
            "87601f6c75aa42a7bfa8b040ee1bc7e8",
            "6d15fd825d6f4982845253c61d997c73",
            "ff10a8db2c6c407898c9151af0ec5835",
            "ca2c9127366440deba434dd879d00aa0",
            "1111a0cb63474bd5916361a2ed12ae0b",
            "b697661b4f2c4039ad3e2b4481ea36b5",
            "fac0add3ae414c51aa92572a5c46e217",
            "87f2c3093fa14b5e99b975d2764629d6",
            "b0deff253daa4899adb2a3a09afb79a2",
            "530018d060614b02b218bede295e33a9",
            "521cc4a152b5435d85dd356d98da735d",
            "1f55ae84228648569b3c7b0e4ebca258",
            "ef37edf2d67c498db66837f6c7ae9282",
            "f1a194c85d9348c992bd1c79c3fcbd66",
            "7546c971046e49b5b6c36ef33d04fe65",
            "80fdede09ef641339fa98dad3e741730",
            "bdfc2ae47c904332b75c15b99cd7af05",
            "37e202a090b740c69da5d84412a4a057",
            "aadac7f7a8574367a0b832a1033a9189",
            "3776c0617eef4f0c8020c49542eade1f",
            "8d00062147a94961be370be2dadad756",
            "a2b71670260b4284ab9a1f964a71870e",
            "d0167f291b1d4a71afa7a35e5b0cea0e",
            "64470b52b90a4a71b59529e5b8162974",
            "86598524c7d1469fa95ec310b73d9b41",
            "9738ab2c8d274014ae9872c1664582af",
            "68e90279a6d8469b85fa3f2f281b37a6",
            "f7896ebcd44f4a87adae73f7902047c7",
            "99c0374915094743ac066981f42a1baa",
            "dee28b7840034de89fcdfac8f3cc9f6f",
            "b1aab59061744df4823b3dc9c7855a4f",
            "c130c0ec419546dda963c1a77e643c29",
            "b5523473e4d149d2abc07147f486828c",
            "97ab96691b8a41a58cd70d820f6eaf55",
            "d1edbac20d4045d8b9686021db3abe45",
            "dd97302142a840a497df565503833298",
            "3463ab5e85ce47e08bffa57b0d7110b8",
            "737e1009663f4c26a3802575288c6832",
            "2d1b0361045a4ce4be2f017a1ad9ce37"
          ]
        },
        "id": "w48ScPVYZNpN",
        "outputId": "0f8bef5b-9d1f-4129-d73f-be91540e3316"
      },
      "source": [
        "!pip install transformers\n",
        "\n",
        "from transformers import GPT2Tokenizer, GPT2ForSequenceClassification\n",
        "\n",
        "# Load GPT2 tokenizer\n",
        "tokenizer = GPT2Tokenizer.from_pretrained('microsoft/DialoGPT-small')"
      ],
      "execution_count": null,
      "outputs": [
        {
          "output_type": "stream",
          "name": "stdout",
          "text": [
            "Collecting transformers\n",
            "  Downloading transformers-4.12.5-py3-none-any.whl (3.1 MB)\n",
            "\u001b[K     |████████████████████████████████| 3.1 MB 8.9 MB/s \n",
            "\u001b[?25hRequirement already satisfied: requests in /usr/local/lib/python3.7/dist-packages (from transformers) (2.23.0)\n",
            "Collecting pyyaml>=5.1\n",
            "  Downloading PyYAML-6.0-cp37-cp37m-manylinux_2_5_x86_64.manylinux1_x86_64.manylinux_2_12_x86_64.manylinux2010_x86_64.whl (596 kB)\n",
            "\u001b[K     |████████████████████████████████| 596 kB 18.2 MB/s \n",
            "\u001b[?25hRequirement already satisfied: numpy>=1.17 in /usr/local/lib/python3.7/dist-packages (from transformers) (1.19.5)\n",
            "Requirement already satisfied: importlib-metadata in /usr/local/lib/python3.7/dist-packages (from transformers) (4.8.2)\n",
            "Collecting tokenizers<0.11,>=0.10.1\n",
            "  Downloading tokenizers-0.10.3-cp37-cp37m-manylinux_2_5_x86_64.manylinux1_x86_64.manylinux_2_12_x86_64.manylinux2010_x86_64.whl (3.3 MB)\n",
            "\u001b[K     |████████████████████████████████| 3.3 MB 15.5 MB/s \n",
            "\u001b[?25hRequirement already satisfied: regex!=2019.12.17 in /usr/local/lib/python3.7/dist-packages (from transformers) (2019.12.20)\n",
            "Collecting sacremoses\n",
            "  Downloading sacremoses-0.0.46-py3-none-any.whl (895 kB)\n",
            "\u001b[K     |████████████████████████████████| 895 kB 17.4 MB/s \n",
            "\u001b[?25hRequirement already satisfied: tqdm>=4.27 in /usr/local/lib/python3.7/dist-packages (from transformers) (4.62.3)\n",
            "Collecting huggingface-hub<1.0,>=0.1.0\n",
            "  Downloading huggingface_hub-0.2.0-py3-none-any.whl (61 kB)\n",
            "\u001b[K     |████████████████████████████████| 61 kB 591 kB/s \n",
            "\u001b[?25hRequirement already satisfied: filelock in /usr/local/lib/python3.7/dist-packages (from transformers) (3.4.0)\n",
            "Requirement already satisfied: packaging>=20.0 in /usr/local/lib/python3.7/dist-packages (from transformers) (21.3)\n",
            "Requirement already satisfied: typing-extensions>=3.7.4.3 in /usr/local/lib/python3.7/dist-packages (from huggingface-hub<1.0,>=0.1.0->transformers) (3.10.0.2)\n",
            "Requirement already satisfied: pyparsing!=3.0.5,>=2.0.2 in /usr/local/lib/python3.7/dist-packages (from packaging>=20.0->transformers) (3.0.6)\n",
            "Requirement already satisfied: zipp>=0.5 in /usr/local/lib/python3.7/dist-packages (from importlib-metadata->transformers) (3.6.0)\n",
            "Requirement already satisfied: certifi>=2017.4.17 in /usr/local/lib/python3.7/dist-packages (from requests->transformers) (2021.10.8)\n",
            "Requirement already satisfied: idna<3,>=2.5 in /usr/local/lib/python3.7/dist-packages (from requests->transformers) (2.10)\n",
            "Requirement already satisfied: urllib3!=1.25.0,!=1.25.1,<1.26,>=1.21.1 in /usr/local/lib/python3.7/dist-packages (from requests->transformers) (1.25.11)\n",
            "Requirement already satisfied: chardet<4,>=3.0.2 in /usr/local/lib/python3.7/dist-packages (from requests->transformers) (3.0.4)\n",
            "Requirement already satisfied: six in /usr/local/lib/python3.7/dist-packages (from sacremoses->transformers) (1.15.0)\n",
            "Requirement already satisfied: click in /usr/local/lib/python3.7/dist-packages (from sacremoses->transformers) (7.1.2)\n",
            "Requirement already satisfied: joblib in /usr/local/lib/python3.7/dist-packages (from sacremoses->transformers) (1.1.0)\n",
            "Installing collected packages: pyyaml, tokenizers, sacremoses, huggingface-hub, transformers\n",
            "  Attempting uninstall: pyyaml\n",
            "    Found existing installation: PyYAML 3.13\n",
            "    Uninstalling PyYAML-3.13:\n",
            "      Successfully uninstalled PyYAML-3.13\n",
            "Successfully installed huggingface-hub-0.2.0 pyyaml-6.0 sacremoses-0.0.46 tokenizers-0.10.3 transformers-4.12.5\n"
          ]
        },
        {
          "output_type": "display_data",
          "data": {
            "application/vnd.jupyter.widget-view+json": {
              "model_id": "4d6ebb5de3e643739b9303828d701346",
              "version_minor": 0,
              "version_major": 2
            },
            "text/plain": [
              "Downloading:   0%|          | 0.00/0.99M [00:00<?, ?B/s]"
            ]
          },
          "metadata": {}
        },
        {
          "output_type": "display_data",
          "data": {
            "application/vnd.jupyter.widget-view+json": {
              "model_id": "fac0add3ae414c51aa92572a5c46e217",
              "version_minor": 0,
              "version_major": 2
            },
            "text/plain": [
              "Downloading:   0%|          | 0.00/446k [00:00<?, ?B/s]"
            ]
          },
          "metadata": {}
        },
        {
          "output_type": "display_data",
          "data": {
            "application/vnd.jupyter.widget-view+json": {
              "model_id": "37e202a090b740c69da5d84412a4a057",
              "version_minor": 0,
              "version_major": 2
            },
            "text/plain": [
              "Downloading:   0%|          | 0.00/26.0 [00:00<?, ?B/s]"
            ]
          },
          "metadata": {}
        },
        {
          "output_type": "display_data",
          "data": {
            "application/vnd.jupyter.widget-view+json": {
              "model_id": "99c0374915094743ac066981f42a1baa",
              "version_minor": 0,
              "version_major": 2
            },
            "text/plain": [
              "Downloading:   0%|          | 0.00/641 [00:00<?, ?B/s]"
            ]
          },
          "metadata": {}
        }
      ]
    },
    {
      "cell_type": "code",
      "metadata": {
        "id": "IxXKH8iqZZOn"
      },
      "source": [
        "# Padding sequences from the right to MAX_LEN (225)\n",
        "tokenizer.padding_side = \"right\"\n",
        "tokenizer.pad_token = tokenizer.eos_token\n",
        "train_tokens = tokenizer(train_texts, return_tensors='pt', truncation=True, padding=True, max_length = MAX_LEN)\n",
        "test_tokens  = tokenizer(test_texts,  return_tensors='pt', truncation=True, padding=True, max_length = MAX_LEN)"
      ],
      "execution_count": null,
      "outputs": []
    },
    {
      "cell_type": "code",
      "metadata": {
        "colab": {
          "base_uri": "https://localhost:8080/"
        },
        "id": "_V2ao-iQZX-t",
        "outputId": "8cc08ed5-e708-409d-9595-d0cbf75e3207"
      },
      "source": [
        "# Convert List of words to list of numbers. (Words are replaced by their index in the dictionary)\n",
        "train_tokens_ids = train_tokens.input_ids\n",
        "test_tokens_ids = test_tokens.input_ids\n",
        "\n",
        "train_tokens_ids.shape, test_tokens_ids.shape"
      ],
      "execution_count": null,
      "outputs": [
        {
          "output_type": "execute_result",
          "data": {
            "text/plain": [
              "(torch.Size([8046, 225]), torch.Size([2012, 225]))"
            ]
          },
          "metadata": {},
          "execution_count": 28
        }
      ]
    },
    {
      "cell_type": "code",
      "metadata": {
        "id": "anusyo95aAAN"
      },
      "source": [
        "train_masks = train_tokens.attention_mask\n",
        "test_masks = test_tokens.attention_mask"
      ],
      "execution_count": null,
      "outputs": []
    },
    {
      "cell_type": "code",
      "metadata": {
        "id": "TvmaGH-QczkH"
      },
      "source": [
        "class GTP2BinaryClassifier(nn.Module):\n",
        "    def __init__(self, dropout=0.1):\n",
        "        super(GTP2BinaryClassifier, self).__init__()\n",
        "        self.gtp2 = GPT2ForSequenceClassification.from_pretrained('microsoft/DialoGPT-small')\n",
        "      \n",
        "    def train_m(self,x,y,train_mask,epochs,batchsize):\n",
        "      train_tokens_tensor = torch.tensor(x)\n",
        "      train_y_tensor = torch.tensor(y.reshape(-1, 1)).long()\n",
        "      train_masks_tensor = torch.tensor(train_mask)\n",
        "\n",
        "      train_dataset = TensorDataset(train_tokens_tensor, train_masks_tensor, train_y_tensor)\n",
        "      train_sampler = RandomSampler(train_dataset)\n",
        "      train_dataloader = DataLoader(train_dataset, sampler=train_sampler, batch_size=batchsize) \n",
        "\n",
        "\n",
        "      # param_optimizer = list(self.gtp2.parameters()) \n",
        "      # optimizer_grouped_parameters = [{\"params\": [p for n, p in param_optimizer]}]\n",
        "      optimizer = Adam(self.gtp2.parameters(), lr=5e-5)\n",
        "      for epoch_num in range(epochs):\n",
        "          self.gtp2.train() # Training Flag\n",
        "          train_loss = 0\n",
        "          for step_num, batch_data in enumerate(train_dataloader):\n",
        "              \n",
        "              # Load batch on device memory\n",
        "              token_ids, masks, labels = tuple(t.to(device) for t in batch_data)\n",
        "              self.zero_grad()\n",
        "\n",
        "              # Get the output of the model for provided input\n",
        "              outputs = self.gtp2(token_ids,attention_mask=masks,labels=labels)\n",
        "              loss, logits = outputs[:2]\n",
        "              # logits = self(token_ids, masks)\n",
        "              \n",
        "              # Total Loss\n",
        "              train_loss += loss.item()\n",
        "              \n",
        "              # Backward pass the loss\n",
        "              loss.backward()\n",
        "              torch.nn.utils.clip_grad_norm_(self.gtp2.parameters(), 1.0)\n",
        "              \n",
        "              optimizer.step()\n",
        "              logits = logits.cpu().detach().numpy()\n",
        "\n",
        "              clear_output(wait=True)\n",
        "        \n",
        "              print('Epoch: ', epoch_num + 1)\n",
        "              print(\"\\r\" + \"{0}/{1} loss: {2} \".format(step_num, len(train_labels) / batchsize, train_loss / (step_num + 1)))"
      ],
      "execution_count": null,
      "outputs": []
    },
    {
      "cell_type": "code",
      "metadata": {
        "colab": {
          "base_uri": "https://localhost:8080/",
          "height": 156,
          "referenced_widgets": [
            "2e5277f8c6244e22bed1bf6408fdf235",
            "6241d3a4e41040449f185f07733f10f8",
            "db3cee42005148d89fcefce6ad0e1af2",
            "8734eb59de5a4b7a82c60159b07bb3db",
            "b3d26482a89e4f9da7669005e5e39082",
            "19bcc8cd00904567beb8452f42ca115e",
            "8b678cc65c1c41608e1c208fb2fa7ad2",
            "b75aa8bd4056435abba6718137c125d7",
            "dd8acdb214ef459792237b17ff9e8065",
            "7421fc756bb24d98a405d63e8ecee79f",
            "a5cbec71d4ab4dccbbd014424bf535f4"
          ]
        },
        "id": "Mybbry1QczgA",
        "outputId": "919eeb4e-c6b8-42b0-c85c-5f8df683048d"
      },
      "source": [
        "gtp_clf = GTP2BinaryClassifier()\n",
        "gtp_clf = gtp_clf.cuda()"
      ],
      "execution_count": null,
      "outputs": [
        {
          "output_type": "display_data",
          "data": {
            "application/vnd.jupyter.widget-view+json": {
              "model_id": "2e5277f8c6244e22bed1bf6408fdf235",
              "version_minor": 0,
              "version_major": 2
            },
            "text/plain": [
              "Downloading:   0%|          | 0.00/335M [00:00<?, ?B/s]"
            ]
          },
          "metadata": {}
        },
        {
          "output_type": "stream",
          "name": "stderr",
          "text": [
            "Some weights of the model checkpoint at microsoft/DialoGPT-small were not used when initializing GPT2ForSequenceClassification: ['lm_head.weight']\n",
            "- This IS expected if you are initializing GPT2ForSequenceClassification from the checkpoint of a model trained on another task or with another architecture (e.g. initializing a BertForSequenceClassification model from a BertForPreTraining model).\n",
            "- This IS NOT expected if you are initializing GPT2ForSequenceClassification from the checkpoint of a model that you expect to be exactly identical (initializing a BertForSequenceClassification model from a BertForSequenceClassification model).\n",
            "Some weights of GPT2ForSequenceClassification were not initialized from the model checkpoint at microsoft/DialoGPT-small and are newly initialized: ['score.weight']\n",
            "You should probably TRAIN this model on a down-stream task to be able to use it for predictions and inference.\n"
          ]
        }
      ]
    },
    {
      "cell_type": "code",
      "metadata": {
        "colab": {
          "base_uri": "https://localhost:8080/"
        },
        "id": "RIHCFROPDvEa",
        "outputId": "8995bdb6-cfe6-449a-9ddd-cfd60e440956"
      },
      "source": [
        "EPOCHS = 3\n",
        "BATCH_SZ = 32\n",
        "EPOCHS, BATCH_SZ"
      ],
      "execution_count": null,
      "outputs": [
        {
          "output_type": "execute_result",
          "data": {
            "text/plain": [
              "(3, 32)"
            ]
          },
          "metadata": {},
          "execution_count": 32
        }
      ]
    },
    {
      "cell_type": "code",
      "metadata": {
        "colab": {
          "base_uri": "https://localhost:8080/"
        },
        "id": "nt8MVtlSczc3",
        "outputId": "7d0e5b30-c8b7-4f8a-dcca-7a907ba445de"
      },
      "source": [
        "# Configure the Padding token id\n",
        "gtp_clf.gtp2.config.pad_token_id = tokenizer.eos_token_id\n",
        "gtp_clf.train_m(train_tokens_ids, y_train.to_numpy(), train_masks, EPOCHS, BATCH_SZ)"
      ],
      "execution_count": null,
      "outputs": [
        {
          "output_type": "stream",
          "name": "stdout",
          "text": [
            "Epoch:  3\n",
            "\r251/251.4375 loss: 0.18265043674332518 \n"
          ]
        }
      ]
    },
    {
      "cell_type": "markdown",
      "metadata": {
        "id": "NI61tMiaeZ_w"
      },
      "source": [
        "**Evaluate on Testing Set**"
      ]
    },
    {
      "cell_type": "code",
      "metadata": {
        "id": "h0B4ycuLczXm",
        "colab": {
          "base_uri": "https://localhost:8080/"
        },
        "outputId": "8e11a50f-d7ec-445f-a678-aeee5cc066d7"
      },
      "source": [
        "## Converting test token ids, test labels and test masks to a tensor and the create a tensor dataset out of them.\n",
        "# Convert token ids to tensor \n",
        "test_tokens_tensor = torch.tensor(test_tokens_ids)\n",
        "\n",
        "# Convert labels to tensors\n",
        "test_y_tensor = torch.tensor( y_test.to_numpy().reshape(-1, 1) ).long()\n",
        "\n",
        "# Convert masks to tensor\n",
        "test_masks_tensor = torch.tensor(test_masks)\n",
        "\n",
        "# Load Token, token mask and label into Dataloader\n",
        "test_dataset = TensorDataset(test_tokens_tensor, test_masks_tensor, test_y_tensor)\n",
        "\n",
        "# Define sampler\n",
        "test_sampler = SequentialSampler(test_dataset)\n",
        "\n",
        "# Define test data loader\n",
        "test_dataloader = DataLoader(test_dataset, sampler = test_sampler, batch_size=16)"
      ],
      "execution_count": null,
      "outputs": [
        {
          "output_type": "stream",
          "name": "stderr",
          "text": [
            "/usr/local/lib/python3.7/dist-packages/ipykernel_launcher.py:3: UserWarning: To copy construct from a tensor, it is recommended to use sourceTensor.clone().detach() or sourceTensor.clone().detach().requires_grad_(True), rather than torch.tensor(sourceTensor).\n",
            "  This is separate from the ipykernel package so we can avoid doing imports until\n",
            "/usr/local/lib/python3.7/dist-packages/ipykernel_launcher.py:9: UserWarning: To copy construct from a tensor, it is recommended to use sourceTensor.clone().detach() or sourceTensor.clone().detach().requires_grad_(True), rather than torch.tensor(sourceTensor).\n",
            "  if __name__ == '__main__':\n"
          ]
        }
      ]
    },
    {
      "cell_type": "code",
      "metadata": {
        "id": "md_tqaatfUfZ"
      },
      "source": [
        "# Evaluate Model\n",
        "gtp_clf.eval() # Define eval\n",
        "gpt_predicted = [] # Store Result\n",
        "with torch.no_grad():\n",
        "    for step_num, batch_data in enumerate(test_dataloader):\n",
        "\n",
        "        token_ids, masks, labels = tuple(t.to(device) for t in batch_data)\n",
        "\n",
        "        # ----------------------------------------------------------------\n",
        "        outputs = gtp_clf.gtp2(token_ids, attention_mask=masks, labels=labels)\n",
        "        loss, logits = outputs[:2]\n",
        "        numpy_logits = logits.detach().cpu().numpy()\n",
        "        # ----------------------------------------------------------------\n",
        "        gpt_predicted +=list(numpy_logits.argmax(axis=-1).flatten().tolist())"
      ],
      "execution_count": null,
      "outputs": []
    },
    {
      "cell_type": "code",
      "metadata": {
        "id": "6VhTgpr-hmhw",
        "colab": {
          "base_uri": "https://localhost:8080/"
        },
        "outputId": "8c0218a5-e05d-433c-cdde-a09fe9f607a2"
      },
      "source": [
        "rocs = {}\n",
        "# Get ROC curve measurements\n",
        "rocs['GPT'] = get_roc_cuve(y_test, gpt_predicted)\n",
        "\n",
        "# Prin performance\n",
        "print('----------------------------GPT performance---------------------------')\n",
        "printing_eval_scores(y_test, gpt_predicted)"
      ],
      "execution_count": null,
      "outputs": [
        {
          "output_type": "stream",
          "name": "stdout",
          "text": [
            "----------------------------GPT performance---------------------------\n",
            "accuracy score: 0.8916500994035785\n",
            "precision score: 0.9084980491685796\n",
            "recall score: 0.8916500994035785\n",
            "F1 score: 0.7240575771302028\n",
            "\n",
            "Confusion Matrix:\n",
            " [[1681  142]\n",
            " [  76  113]]\n",
            "\n",
            "               precision    recall  f1-score   support\n",
            "\n",
            "           0       0.96      0.92      0.94      1823\n",
            "           1       0.44      0.60      0.51       189\n",
            "\n",
            "    accuracy                           0.89      2012\n",
            "   macro avg       0.70      0.76      0.72      2012\n",
            "weighted avg       0.91      0.89      0.90      2012\n",
            "\n"
          ]
        }
      ]
    },
    {
      "cell_type": "code",
      "metadata": {
        "colab": {
          "base_uri": "https://localhost:8080/"
        },
        "id": "BFp_P_R2cGRr",
        "outputId": "1e19d3ed-3f97-43fc-e576-573a75090445"
      },
      "source": [
        "rocs"
      ],
      "execution_count": null,
      "outputs": [
        {
          "output_type": "execute_result",
          "data": {
            "text/plain": [
              "{'GPT': {'auc': 0.7599950079379592,\n",
              "  'fpr': array([0.        , 0.07789358, 1.        ]),\n",
              "  'tpr': array([0.       , 0.5978836, 1.       ])}}"
            ]
          },
          "metadata": {},
          "execution_count": 38
        }
      ]
    },
    {
      "cell_type": "code",
      "metadata": {
        "colab": {
          "base_uri": "https://localhost:8080/"
        },
        "id": "H2I4zPySpFtB",
        "outputId": "a1d6aef5-6c6b-45f4-ab37-2398646e98c1"
      },
      "source": [
        "for i in rocs:\n",
        "  print(i)\n",
        "  print(rocs[i])"
      ],
      "execution_count": null,
      "outputs": [
        {
          "output_type": "stream",
          "name": "stdout",
          "text": [
            "GPT\n",
            "{'fpr': array([0.        , 0.07789358, 1.        ]), 'tpr': array([0.       , 0.5978836, 1.       ]), 'auc': 0.7599950079379592}\n"
          ]
        }
      ]
    },
    {
      "cell_type": "code",
      "metadata": {
        "id": "mUMd3xudZj5a"
      },
      "source": [
        "# Export performance to a txt file\n",
        "txtfile = open('GPT_result.txt','w')\n",
        "for i in rocs:\n",
        "  txtfile.write(str(i) + '=' + str(rocs[i]))\n",
        "\n",
        "txtfile.close()"
      ],
      "execution_count": null,
      "outputs": []
    },
    {
      "cell_type": "markdown",
      "metadata": {
        "id": "7nE2wU_GNCLZ"
      },
      "source": [
        "#**Visualize all models with ROC curves**"
      ]
    },
    {
      "cell_type": "code",
      "metadata": {
        "id": "iLSNk1uWO5KD"
      },
      "source": [
        "def graph_multi_ROC (rocs):\n",
        "  # Set color for each model\n",
        "  colors = {'LGBM': 'lightcoral','LR': 'darkorange', 'SVM':'lime', 'NB': 'steelblue',\n",
        "            'XGB': 'purple','DT': 'magenta','RF': 'deeppink','KNN': 'darkturquoise',\n",
        "            'BERT': 'darkred', 'GPT': 'blue'}\n",
        "  # Set marker for each model          \n",
        "  markers = {'LGBM':'1--','LR': 'v--', 'SVM': '^--', 'XGB': '*--', 'DT': 'o--', 'RF': '+--', 'KNN': '.--', 'NB': 'x--', 'BERT':'<--', 'GPT': '>--'}\n",
        "  \n",
        "  plt.figure(figsize=(9,6))\n",
        "  for model in rocs:\n",
        "    plt.plot( rocs[model]['fpr'], rocs[model]['tpr'], markers[model], color=colors[model], label= model+' - AUC=' + str(rocs[model]['auc'].round(3)) )\n",
        "  \n",
        "  plt.plot([0,1], [0,1], 'k--', label='Random Chances')\n",
        "  plt.xlim([0.0,1.0])\n",
        "  plt.ylim([0.0,1.02])\n",
        "  plt.ylabel('Recall')\n",
        "  plt.xlabel('False Positive Rate (1-Specificity)')\n",
        "  plt.legend(loc='lower right') \n",
        "  plt.title( 'ROC Curves of all models')\n",
        "  plt.show()\n",
        "\n",
        "graph_multi_ROC(rocs)"
      ],
      "execution_count": null,
      "outputs": []
    },
    {
      "cell_type": "code",
      "metadata": {
        "id": "vY91tBEaRNh1"
      },
      "source": [
        ""
      ],
      "execution_count": null,
      "outputs": []
    }
  ]
}