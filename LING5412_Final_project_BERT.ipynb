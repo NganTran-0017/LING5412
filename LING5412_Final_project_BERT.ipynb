{
  "nbformat": 4,
  "nbformat_minor": 0,
  "metadata": {
    "colab": {
      "name": "Latest LING5412_Final_project.ipynb",
      "provenance": [],
      "collapsed_sections": [],
      "toc_visible": true,
      "include_colab_link": true
    },
    "kernelspec": {
      "name": "python3",
      "display_name": "Python 3"
    },
    "language_info": {
      "name": "python"
    },
    "accelerator": "GPU"
  },
  "cells": [
    {
      "cell_type": "markdown",
      "metadata": {
        "id": "view-in-github",
        "colab_type": "text"
      },
      "source": [
        "<a href=\"https://colab.research.google.com/github/NganTran-0017/LING5412/blob/main/LING5412_Final_project_BERT.ipynb\" target=\"_parent\"><img src=\"https://colab.research.google.com/assets/colab-badge.svg\" alt=\"Open In Colab\"/></a>"
      ]
    },
    {
      "cell_type": "code",
      "metadata": {
        "colab": {
          "base_uri": "https://localhost:8080/"
        },
        "id": "9PJwM2i9SCNP",
        "outputId": "4f4c4d31-285a-4ec6-ded8-91b1895020f6"
      },
      "source": [
        "!pip install pytorch_pretrained_bert pytorch-nlp"
      ],
      "execution_count": 1,
      "outputs": [
        {
          "output_type": "stream",
          "name": "stdout",
          "text": [
            "Collecting pytorch_pretrained_bert\n",
            "  Downloading pytorch_pretrained_bert-0.6.2-py3-none-any.whl (123 kB)\n",
            "\u001b[?25l\r\u001b[K     |██▋                             | 10 kB 35.6 MB/s eta 0:00:01\r\u001b[K     |█████▎                          | 20 kB 34.9 MB/s eta 0:00:01\r\u001b[K     |████████                        | 30 kB 20.3 MB/s eta 0:00:01\r\u001b[K     |██████████▋                     | 40 kB 16.3 MB/s eta 0:00:01\r\u001b[K     |█████████████▎                  | 51 kB 8.6 MB/s eta 0:00:01\r\u001b[K     |███████████████▉                | 61 kB 9.0 MB/s eta 0:00:01\r\u001b[K     |██████████████████▌             | 71 kB 8.8 MB/s eta 0:00:01\r\u001b[K     |█████████████████████▏          | 81 kB 9.8 MB/s eta 0:00:01\r\u001b[K     |███████████████████████▉        | 92 kB 9.9 MB/s eta 0:00:01\r\u001b[K     |██████████████████████████▌     | 102 kB 8.2 MB/s eta 0:00:01\r\u001b[K     |█████████████████████████████▏  | 112 kB 8.2 MB/s eta 0:00:01\r\u001b[K     |███████████████████████████████▊| 122 kB 8.2 MB/s eta 0:00:01\r\u001b[K     |████████████████████████████████| 123 kB 8.2 MB/s \n",
            "\u001b[?25hCollecting pytorch-nlp\n",
            "  Downloading pytorch_nlp-0.5.0-py3-none-any.whl (90 kB)\n",
            "\u001b[?25l\r\u001b[K     |███▋                            | 10 kB 50.0 MB/s eta 0:00:01\r\u001b[K     |███████▎                        | 20 kB 54.9 MB/s eta 0:00:01\r\u001b[K     |███████████                     | 30 kB 53.8 MB/s eta 0:00:01\r\u001b[K     |██████████████▌                 | 40 kB 58.1 MB/s eta 0:00:01\r\u001b[K     |██████████████████▏             | 51 kB 59.9 MB/s eta 0:00:01\r\u001b[K     |█████████████████████▉          | 61 kB 64.1 MB/s eta 0:00:01\r\u001b[K     |█████████████████████████▌      | 71 kB 65.5 MB/s eta 0:00:01\r\u001b[K     |█████████████████████████████   | 81 kB 67.8 MB/s eta 0:00:01\r\u001b[K     |████████████████████████████████| 90 kB 12.7 MB/s \n",
            "\u001b[?25hRequirement already satisfied: torch>=0.4.1 in /usr/local/lib/python3.7/dist-packages (from pytorch_pretrained_bert) (1.10.0+cu111)\n",
            "Requirement already satisfied: requests in /usr/local/lib/python3.7/dist-packages (from pytorch_pretrained_bert) (2.23.0)\n",
            "Collecting boto3\n",
            "  Downloading boto3-1.20.19-py3-none-any.whl (131 kB)\n",
            "\u001b[K     |████████████████████████████████| 131 kB 56.3 MB/s \n",
            "\u001b[?25hRequirement already satisfied: tqdm in /usr/local/lib/python3.7/dist-packages (from pytorch_pretrained_bert) (4.62.3)\n",
            "Requirement already satisfied: regex in /usr/local/lib/python3.7/dist-packages (from pytorch_pretrained_bert) (2019.12.20)\n",
            "Requirement already satisfied: numpy in /usr/local/lib/python3.7/dist-packages (from pytorch_pretrained_bert) (1.19.5)\n",
            "Requirement already satisfied: typing-extensions in /usr/local/lib/python3.7/dist-packages (from torch>=0.4.1->pytorch_pretrained_bert) (3.10.0.2)\n",
            "Collecting s3transfer<0.6.0,>=0.5.0\n",
            "  Downloading s3transfer-0.5.0-py3-none-any.whl (79 kB)\n",
            "\u001b[K     |████████████████████████████████| 79 kB 10.8 MB/s \n",
            "\u001b[?25hCollecting jmespath<1.0.0,>=0.7.1\n",
            "  Downloading jmespath-0.10.0-py2.py3-none-any.whl (24 kB)\n",
            "Collecting botocore<1.24.0,>=1.23.19\n",
            "  Downloading botocore-1.23.19-py3-none-any.whl (8.4 MB)\n",
            "\u001b[K     |████████████████████████████████| 8.4 MB 52.8 MB/s \n",
            "\u001b[?25hRequirement already satisfied: python-dateutil<3.0.0,>=2.1 in /usr/local/lib/python3.7/dist-packages (from botocore<1.24.0,>=1.23.19->boto3->pytorch_pretrained_bert) (2.8.2)\n",
            "Collecting urllib3<1.27,>=1.25.4\n",
            "  Downloading urllib3-1.26.7-py2.py3-none-any.whl (138 kB)\n",
            "\u001b[K     |████████████████████████████████| 138 kB 56.8 MB/s \n",
            "\u001b[?25hRequirement already satisfied: six>=1.5 in /usr/local/lib/python3.7/dist-packages (from python-dateutil<3.0.0,>=2.1->botocore<1.24.0,>=1.23.19->boto3->pytorch_pretrained_bert) (1.15.0)\n",
            "Requirement already satisfied: idna<3,>=2.5 in /usr/local/lib/python3.7/dist-packages (from requests->pytorch_pretrained_bert) (2.10)\n",
            "Requirement already satisfied: chardet<4,>=3.0.2 in /usr/local/lib/python3.7/dist-packages (from requests->pytorch_pretrained_bert) (3.0.4)\n",
            "Requirement already satisfied: certifi>=2017.4.17 in /usr/local/lib/python3.7/dist-packages (from requests->pytorch_pretrained_bert) (2021.10.8)\n",
            "  Downloading urllib3-1.25.11-py2.py3-none-any.whl (127 kB)\n",
            "\u001b[K     |████████████████████████████████| 127 kB 42.4 MB/s \n",
            "\u001b[?25hInstalling collected packages: urllib3, jmespath, botocore, s3transfer, boto3, pytorch-pretrained-bert, pytorch-nlp\n",
            "  Attempting uninstall: urllib3\n",
            "    Found existing installation: urllib3 1.24.3\n",
            "    Uninstalling urllib3-1.24.3:\n",
            "      Successfully uninstalled urllib3-1.24.3\n",
            "\u001b[31mERROR: pip's dependency resolver does not currently take into account all the packages that are installed. This behaviour is the source of the following dependency conflicts.\n",
            "datascience 0.10.6 requires folium==0.2.1, but you have folium 0.8.3 which is incompatible.\u001b[0m\n",
            "Successfully installed boto3-1.20.19 botocore-1.23.19 jmespath-0.10.0 pytorch-nlp-0.5.0 pytorch-pretrained-bert-0.6.2 s3transfer-0.5.0 urllib3-1.25.11\n"
          ]
        }
      ]
    },
    {
      "cell_type": "code",
      "metadata": {
        "id": "mc2pevpoSEud"
      },
      "source": [
        "from pytorch_pretrained_bert import BertModel\n",
        "from torch import nn\n",
        "from pytorch_pretrained_bert import BertTokenizer\n",
        "from keras.preprocessing.sequence import pad_sequences\n",
        "import torch\n",
        "from torch.utils.data import TensorDataset, DataLoader, RandomSampler, SequentialSampler\n",
        "from torch.optim import Adam\n",
        "from torch.nn.utils import clip_grad_norm_\n",
        "from IPython.display import clear_output"
      ],
      "execution_count": 2,
      "outputs": []
    },
    {
      "cell_type": "code",
      "metadata": {
        "id": "G99qOVzxSOwP",
        "colab": {
          "base_uri": "https://localhost:8080/"
        },
        "outputId": "e3de6048-0bd0-4fb0-db44-0e3845afaecc"
      },
      "source": [
        "import tarfile\n",
        "import pandas as pd\n",
        "import csv\n",
        "import seaborn as sns\n",
        "import matplotlib.pyplot as plt\n",
        "import sklearn\n",
        "import numpy as np\n",
        "from sklearn.linear_model import LogisticRegression\n",
        "from sklearn.ensemble import RandomForestClassifier\n",
        "from sklearn import tree             # tree.DecisionTreeClassifier()\n",
        "from sklearn.neighbors import KNeighborsClassifier\n",
        "from sklearn import svm #clf = svm.SVC(decision_function_shape='ovo')\n",
        "from sklearn.metrics import accuracy_score, classification_report, f1_score, confusion_matrix, recall_score\n",
        "from sklearn.model_selection import cross_validate\n",
        "from sklearn.model_selection import KFold\n",
        "from sklearn.model_selection import StratifiedKFold\n",
        "!pip install imbalanced-learn\n",
        "import imblearn\n",
        "from imblearn.over_sampling import RandomOverSampler\n",
        "from imblearn.over_sampling import SMOTE\n",
        "from sklearn.metrics import recall_score, roc_auc_score"
      ],
      "execution_count": 3,
      "outputs": [
        {
          "output_type": "stream",
          "name": "stdout",
          "text": [
            "Requirement already satisfied: imbalanced-learn in /usr/local/lib/python3.7/dist-packages (0.8.1)\n",
            "Requirement already satisfied: joblib>=0.11 in /usr/local/lib/python3.7/dist-packages (from imbalanced-learn) (1.1.0)\n",
            "Requirement already satisfied: scipy>=0.19.1 in /usr/local/lib/python3.7/dist-packages (from imbalanced-learn) (1.4.1)\n",
            "Requirement already satisfied: numpy>=1.13.3 in /usr/local/lib/python3.7/dist-packages (from imbalanced-learn) (1.19.5)\n",
            "Requirement already satisfied: scikit-learn>=0.24 in /usr/local/lib/python3.7/dist-packages (from imbalanced-learn) (1.0.1)\n",
            "Requirement already satisfied: threadpoolctl>=2.0.0 in /usr/local/lib/python3.7/dist-packages (from scikit-learn>=0.24->imbalanced-learn) (3.0.0)\n"
          ]
        }
      ]
    },
    {
      "cell_type": "code",
      "metadata": {
        "id": "N5u8SwyQcnwY",
        "colab": {
          "base_uri": "https://localhost:8080/"
        },
        "outputId": "fc325fdf-cb50-4a28-9be9-114b64b7c67e"
      },
      "source": [
        "import gensim\n",
        "import gensim.downloader as api\n",
        "nlp = api.load('word2vec-google-news-300')"
      ],
      "execution_count": 4,
      "outputs": [
        {
          "output_type": "stream",
          "name": "stdout",
          "text": [
            "[==================================================] 100.0% 1662.8/1662.8MB downloaded\n"
          ]
        }
      ]
    },
    {
      "cell_type": "markdown",
      "metadata": {
        "id": "eHh5b74YomXY"
      },
      "source": [
        "# Loading data"
      ]
    },
    {
      "cell_type": "code",
      "metadata": {
        "id": "qvw2VYN_dTtE",
        "colab": {
          "base_uri": "https://localhost:8080/"
        },
        "outputId": "32e6a988-99d2-4add-f177-92c8f3116430"
      },
      "source": [
        "from google.colab import drive\n",
        "drive.mount('/content/drive')\n",
        "!unzip \"/content/drive/MyDrive/dontpatrAAonizeme_v1.3.zip\" -d \"/content/drive/MyDrive/\"\n",
        "\n",
        "# Unzip the dataset\n",
        "#!unzip \"/content/dontpatronizeme_v1.3.zip\" -d \"/content/drive/MyDrive/\""
      ],
      "execution_count": 5,
      "outputs": [
        {
          "output_type": "stream",
          "name": "stdout",
          "text": [
            "Mounted at /content/drive\n",
            "unzip:  cannot find or open /content/drive/MyDrive/dontpatrAAonizeme_v1.3.zip, /content/drive/MyDrive/dontpatrAAonizeme_v1.3.zip.zip or /content/drive/MyDrive/dontpatrAAonizeme_v1.3.zip.ZIP.\n"
          ]
        }
      ]
    },
    {
      "cell_type": "code",
      "metadata": {
        "id": "K5DJ3zR_fCre"
      },
      "source": [
        "# Opening the file from MyDrive\n",
        "file = open(r'/content/drive/MyDrive/dontpatronizeme_v1.3/dontpatronizeme_pcl.tsv')\n",
        "reader = csv.reader(file, delimiter=\"\\t\")\n",
        "data = []\n",
        "for row in reader:\n",
        "  data.append(row)\n",
        "\n"
      ],
      "execution_count": 6,
      "outputs": []
    },
    {
      "cell_type": "code",
      "metadata": {
        "id": "6W8pqT5PjG-L",
        "colab": {
          "base_uri": "https://localhost:8080/",
          "height": 424
        },
        "outputId": "3201535c-0d2e-4e07-c4b0-b4d007b4195a"
      },
      "source": [
        "df = pd.DataFrame(data[5:],  columns = ['docID', 'keyword', 'country', 'paragraph', 'label' ] )\n",
        "df"
      ],
      "execution_count": 7,
      "outputs": [
        {
          "output_type": "execute_result",
          "data": {
            "text/html": [
              "<div>\n",
              "<style scoped>\n",
              "    .dataframe tbody tr th:only-of-type {\n",
              "        vertical-align: middle;\n",
              "    }\n",
              "\n",
              "    .dataframe tbody tr th {\n",
              "        vertical-align: top;\n",
              "    }\n",
              "\n",
              "    .dataframe thead th {\n",
              "        text-align: right;\n",
              "    }\n",
              "</style>\n",
              "<table border=\"1\" class=\"dataframe\">\n",
              "  <thead>\n",
              "    <tr style=\"text-align: right;\">\n",
              "      <th></th>\n",
              "      <th>docID</th>\n",
              "      <th>keyword</th>\n",
              "      <th>country</th>\n",
              "      <th>paragraph</th>\n",
              "      <th>label</th>\n",
              "    </tr>\n",
              "  </thead>\n",
              "  <tbody>\n",
              "    <tr>\n",
              "      <th>0</th>\n",
              "      <td>@@4703096</td>\n",
              "      <td>immigrant</td>\n",
              "      <td>jm</td>\n",
              "      <td>NBC and Spanish-language Univision both declin...</td>\n",
              "      <td>0</td>\n",
              "    </tr>\n",
              "    <tr>\n",
              "      <th>1</th>\n",
              "      <td>@@25567226</td>\n",
              "      <td>in-need</td>\n",
              "      <td>hk</td>\n",
              "      <td>A second T-Home project is being launched in t...</td>\n",
              "      <td>0</td>\n",
              "    </tr>\n",
              "    <tr>\n",
              "      <th>2</th>\n",
              "      <td>@@1824078</td>\n",
              "      <td>poor-families</td>\n",
              "      <td>tz</td>\n",
              "      <td>Camfed would like to see this trend reversed ....</td>\n",
              "      <td>4</td>\n",
              "    </tr>\n",
              "    <tr>\n",
              "      <th>3</th>\n",
              "      <td>@@1921089</td>\n",
              "      <td>refugee</td>\n",
              "      <td>tz</td>\n",
              "      <td>Kagunga village was reported to lack necessary...</td>\n",
              "      <td>0</td>\n",
              "    </tr>\n",
              "    <tr>\n",
              "      <th>4</th>\n",
              "      <td>@@40039380</td>\n",
              "      <td>women</td>\n",
              "      <td>ng</td>\n",
              "      <td>Haruna stressed the need for specific approach...</td>\n",
              "      <td>0</td>\n",
              "    </tr>\n",
              "    <tr>\n",
              "      <th>...</th>\n",
              "      <td>...</td>\n",
              "      <td>...</td>\n",
              "      <td>...</td>\n",
              "      <td>...</td>\n",
              "      <td>...</td>\n",
              "    </tr>\n",
              "    <tr>\n",
              "      <th>10053</th>\n",
              "      <td>@@16413808</td>\n",
              "      <td>immigrant</td>\n",
              "      <td>my</td>\n",
              "      <td>To me , I am always mindful that we are dealin...</td>\n",
              "      <td>4</td>\n",
              "    </tr>\n",
              "    <tr>\n",
              "      <th>10054</th>\n",
              "      <td>@@8676630</td>\n",
              "      <td>vulnerable</td>\n",
              "      <td>jm</td>\n",
              "      <td>Other themes included promoting the inclusion ...</td>\n",
              "      <td>0</td>\n",
              "    </tr>\n",
              "    <tr>\n",
              "      <th>10055</th>\n",
              "      <td>@@7688552</td>\n",
              "      <td>immigrant</td>\n",
              "      <td>gb</td>\n",
              "      <td>It came as the CDU was also humiliated by the ...</td>\n",
              "      <td>0</td>\n",
              "    </tr>\n",
              "    <tr>\n",
              "      <th>10056</th>\n",
              "      <td>@@4916290</td>\n",
              "      <td>hopeless</td>\n",
              "      <td>in</td>\n",
              "      <td>Those were only days of helplessness , she say...</td>\n",
              "      <td>0</td>\n",
              "    </tr>\n",
              "    <tr>\n",
              "      <th>10057</th>\n",
              "      <td>@@2973614</td>\n",
              "      <td>immigrant</td>\n",
              "      <td>ie</td>\n",
              "      <td>They include a community college student , a c...</td>\n",
              "      <td>0</td>\n",
              "    </tr>\n",
              "  </tbody>\n",
              "</table>\n",
              "<p>10058 rows × 5 columns</p>\n",
              "</div>"
            ],
            "text/plain": [
              "            docID  ... label\n",
              "0       @@4703096  ...     0\n",
              "1      @@25567226  ...     0\n",
              "2       @@1824078  ...     4\n",
              "3       @@1921089  ...     0\n",
              "4      @@40039380  ...     0\n",
              "...           ...  ...   ...\n",
              "10053  @@16413808  ...     4\n",
              "10054   @@8676630  ...     0\n",
              "10055   @@7688552  ...     0\n",
              "10056   @@4916290  ...     0\n",
              "10057   @@2973614  ...     0\n",
              "\n",
              "[10058 rows x 5 columns]"
            ]
          },
          "metadata": {},
          "execution_count": 7
        }
      ]
    },
    {
      "cell_type": "markdown",
      "metadata": {
        "id": "VtakLrrIoo9_"
      },
      "source": [
        "# Exploring data"
      ]
    },
    {
      "cell_type": "code",
      "metadata": {
        "id": "K6BfIKFam55W",
        "colab": {
          "base_uri": "https://localhost:8080/"
        },
        "outputId": "02636952-bdd0-4260-ebe5-3f00733f0123"
      },
      "source": [
        "# Length of text\n",
        "def length (txt):\n",
        "  length = len(txt.split())\n",
        "  return length\n",
        "\n",
        "txt_length = df['paragraph'].apply(lambda x: length(x))\n",
        "txt_length.sort_values(ascending = False)"
      ],
      "execution_count": 8,
      "outputs": [
        {
          "output_type": "execute_result",
          "data": {
            "text/plain": [
              "3534    1519\n",
              "6266    1095\n",
              "8519    1040\n",
              "4613     772\n",
              "8819     729\n",
              "        ... \n",
              "1930       4\n",
              "1385       3\n",
              "7375       3\n",
              "5112       3\n",
              "5742       0\n",
              "Name: paragraph, Length: 10058, dtype: int64"
            ]
          },
          "metadata": {},
          "execution_count": 8
        }
      ]
    },
    {
      "cell_type": "code",
      "metadata": {
        "colab": {
          "base_uri": "https://localhost:8080/",
          "height": 265
        },
        "id": "N7uMC5lhTWo1",
        "outputId": "877a97c3-18ff-4e1b-baf6-44e797153bae"
      },
      "source": [
        "# Plot the histogram of sentence length\n",
        "plt.hist(txt_length, 5)\n",
        "plt.show()"
      ],
      "execution_count": 9,
      "outputs": [
        {
          "output_type": "display_data",
          "data": {
            "image/png": "[encoded data removed]",
            "text/plain": [
              "<Figure size 432x288 with 1 Axes>"
            ]
          },
          "metadata": {
            "needs_background": "light"
          }
        }
      ]
    },
    {
      "cell_type": "code",
      "metadata": {
        "id": "_nAz-vJxo_wn",
        "colab": {
          "base_uri": "https://localhost:8080/"
        },
        "outputId": "c3aa621b-f3a6-4650-90e3-410650db8f3a"
      },
      "source": [
        "# Observing labels\n",
        "df['label'].value_counts()"
      ],
      "execution_count": 10,
      "outputs": [
        {
          "output_type": "execute_result",
          "data": {
            "text/plain": [
              "0    8206\n",
              "1     906\n",
              "3     435\n",
              "4     369\n",
              "2     142\n",
              "Name: label, dtype: int64"
            ]
          },
          "metadata": {},
          "execution_count": 10
        }
      ]
    },
    {
      "cell_type": "code",
      "metadata": {
        "id": "Iy38u3cFVWjW",
        "colab": {
          "base_uri": "https://localhost:8080/"
        },
        "outputId": "d3dcc1a7-4580-4ba0-db21-1358836b638f"
      },
      "source": [
        "df['label'] = df['label'].astype(str)\n",
        "df['label']"
      ],
      "execution_count": 11,
      "outputs": [
        {
          "output_type": "execute_result",
          "data": {
            "text/plain": [
              "0        0\n",
              "1        0\n",
              "2        4\n",
              "3        0\n",
              "4        0\n",
              "        ..\n",
              "10053    4\n",
              "10054    0\n",
              "10055    0\n",
              "10056    0\n",
              "10057    0\n",
              "Name: label, Length: 10058, dtype: object"
            ]
          },
          "metadata": {},
          "execution_count": 11
        }
      ]
    },
    {
      "cell_type": "code",
      "metadata": {
        "id": "WlKftt3JVk-n",
        "colab": {
          "base_uri": "https://localhost:8080/"
        },
        "outputId": "de50d886-050b-4b62-df9a-62527334f75c"
      },
      "source": [
        "# Missing data\n",
        "#checking missing values\n",
        "print('Is null: \\n', df.isnull().sum() )\n"
      ],
      "execution_count": 12,
      "outputs": [
        {
          "output_type": "stream",
          "name": "stdout",
          "text": [
            "Is null: \n",
            " docID        0\n",
            "keyword      0\n",
            "country      0\n",
            "paragraph    0\n",
            "label        0\n",
            "dtype: int64\n"
          ]
        }
      ]
    },
    {
      "cell_type": "code",
      "metadata": {
        "id": "JQyvG1B0pvEI",
        "colab": {
          "base_uri": "https://localhost:8080/",
          "height": 334
        },
        "outputId": "53add84e-1886-48b3-c83d-6a775b39fd04"
      },
      "source": [
        "# Turning labels to binary\n",
        "\n",
        "label_dic = {'0':0,\n",
        "             '1':0,\n",
        "             '2':1,\n",
        "             '3':1,\n",
        "             '4':1}\n",
        "df['label'] = df['label'].map(label_dic)\n",
        "print(df['label'].value_counts())\n",
        "sns.countplot(x='label', data=df)\n",
        "plt.show()"
      ],
      "execution_count": 13,
      "outputs": [
        {
          "output_type": "stream",
          "name": "stdout",
          "text": [
            "0    9112\n",
            "1     946\n",
            "Name: label, dtype: int64\n"
          ]
        },
        {
          "output_type": "display_data",
          "data": {
            "image/png": "[encoded data removed]",
            "text/plain": [
              "<Figure size 432x288 with 1 Axes>"
            ]
          },
          "metadata": {
            "needs_background": "light"
          }
        }
      ]
    },
    {
      "cell_type": "markdown",
      "metadata": {
        "id": "ZcAMX5reo0e1"
      },
      "source": [
        "# Developing models"
      ]
    },
    {
      "cell_type": "code",
      "metadata": {
        "id": "Nvza5K7YbJ4H",
        "colab": {
          "base_uri": "https://localhost:8080/"
        },
        "outputId": "4e113322-944e-47f7-945c-b6d0760398e3"
      },
      "source": [
        "# Splitting the data into training (80%) and test set(20%)\n",
        "from sklearn.model_selection import train_test_split\n",
        "X = df['paragraph']\n",
        "y = df['label']\n",
        "X_train, X_test, y_train, y_test = train_test_split (X, y, train_size = 0.8, random_state = 42, shuffle = True, stratify=y)\n",
        "print ('Shapes of X_train, y_train: ', X_train.shape, y_train.shape)\n",
        "print ('Shapes of X_test, y_test: ', X_test.shape, y_test.shape)\n",
        "print(y_train.value_counts())"
      ],
      "execution_count": 14,
      "outputs": [
        {
          "output_type": "stream",
          "name": "stdout",
          "text": [
            "Shapes of X_train, y_train:  (8046,) (8046,)\n",
            "Shapes of X_test, y_test:  (2012,) (2012,)\n",
            "0    7289\n",
            "1     757\n",
            "Name: label, dtype: int64\n"
          ]
        }
      ]
    },
    {
      "cell_type": "markdown",
      "metadata": {
        "id": "kso-92jebtft"
      },
      "source": [
        "### Text representation"
      ]
    },
    {
      "cell_type": "code",
      "metadata": {
        "id": "5ez7hEFCa5_U",
        "colab": {
          "base_uri": "https://localhost:8080/"
        },
        "outputId": "3de50a13-e289-4758-b0f8-0b19396b920c"
      },
      "source": [
        "!pip install stop-words\n",
        "from stop_words import get_stop_words\n",
        "stopwords = get_stop_words('en')\n",
        "from textblob import Word\n",
        "import re\n",
        "import nltk\n",
        "nltk.download('wordnet')\n",
        "\n",
        "#BOW based approaches\n",
        "nlp.init_sims(replace=True) # calling for using syn0norm\n",
        "\n",
        "def word_averaging(wv, words):\n",
        "    all_words, mean = set(), []\n",
        "    \n",
        "    for word in words:\n",
        "        if isinstance(word, np.ndarray):\n",
        "            mean.append(word)\n",
        "        elif word in wv.vocab:\n",
        "            mean.append(wv.syn0norm[wv.vocab[word].index])\n",
        "            all_words.add(wv.vocab[word].index)\n",
        "\n",
        "    if not mean:\n",
        "        logging.warning(\"cannot compute similarity with no input %s\", words)\n",
        "        # FIXME: remove these examples in pre-processing\n",
        "        return np.zeros(wv.vector_size,)\n",
        "\n",
        "    mean = gensim.matutils.unitvec(np.array(mean).mean(axis=0)).astype(np.float32)\n",
        "    return mean\n",
        "\n",
        "def  word_averaging_list(wv, text_list):\n",
        "    return np.vstack([word_averaging(wv, post) for post in text_list ])"
      ],
      "execution_count": 15,
      "outputs": [
        {
          "output_type": "stream",
          "name": "stdout",
          "text": [
            "Collecting stop-words\n",
            "  Downloading stop-words-2018.7.23.tar.gz (31 kB)\n",
            "Building wheels for collected packages: stop-words\n",
            "  Building wheel for stop-words (setup.py) ... \u001b[?25l\u001b[?25hdone\n",
            "  Created wheel for stop-words: filename=stop_words-2018.7.23-py3-none-any.whl size=32912 sha256=395059ace586c1a4f2def7b6b1c129d485a54b718a2d6bbcb2ef4ec015052126\n",
            "  Stored in directory: /root/.cache/pip/wheels/fb/86/b2/277b10b1ce9f73ce15059bf6975d4547cc4ec3feeb651978e9\n",
            "Successfully built stop-words\n",
            "Installing collected packages: stop-words\n",
            "Successfully installed stop-words-2018.7.23\n",
            "[nltk_data] Downloading package wordnet to /root/nltk_data...\n",
            "[nltk_data]   Unzipping corpora/wordnet.zip.\n"
          ]
        }
      ]
    },
    {
      "cell_type": "code",
      "metadata": {
        "id": "2aopPSRVb4lL",
        "colab": {
          "base_uri": "https://localhost:8080/"
        },
        "outputId": "98e605e1-7f24-4448-f967-727812591028"
      },
      "source": [
        "# Tokenize, and apply word vector averaging to tokenized text\n",
        "import nltk\n",
        "nltk.download('punkt')\n",
        "import logging\n",
        "def w2v_tokenize_text(text):\n",
        "    tokens = []\n",
        "    for sent in nltk.sent_tokenize(text, language='english'):\n",
        "        for word in nltk.word_tokenize(sent, language='english'):\n",
        "            if len(word) < 2:\n",
        "                continue\n",
        "            tokens.append(word)\n",
        "    return tokens\n",
        "    \n",
        "# Tokenize texts into words\n",
        "X_train_tokenized = X_train.apply(lambda x: w2v_tokenize_text(x)).values\n",
        "X_test_tokenized = X_test.apply(lambda x: w2v_tokenize_text(x)).values\n",
        "\n",
        "# Embed words into number\n",
        "X_train_word_average = word_averaging_list(nlp,X_train_tokenized)\n",
        "X_test_word_average = word_averaging_list(nlp,X_test_tokenized)"
      ],
      "execution_count": 16,
      "outputs": [
        {
          "output_type": "stream",
          "name": "stdout",
          "text": [
            "[nltk_data] Downloading package punkt to /root/nltk_data...\n",
            "[nltk_data]   Unzipping tokenizers/punkt.zip.\n"
          ]
        },
        {
          "output_type": "stream",
          "name": "stderr",
          "text": [
            "/usr/local/lib/python3.7/dist-packages/ipykernel_launcher.py:19: DeprecationWarning: Call to deprecated `syn0norm` (Attribute will be removed in 4.0.0, use self.wv.vectors_norm instead).\n",
            "WARNING:root:cannot compute similarity with no input []\n"
          ]
        }
      ]
    },
    {
      "cell_type": "markdown",
      "metadata": {
        "id": "d0O8PduWdnjt"
      },
      "source": [
        "### Creating models"
      ]
    },
    {
      "cell_type": "code",
      "metadata": {
        "id": "hJdUeuNUdmij"
      },
      "source": [
        "# Printing model performance \n",
        "def printing_eval_scores (y_true, y_pred):\n",
        "  print('accuracy score: {}'.format(sklearn.metrics.accuracy_score(y_true, y_pred)))\n",
        "  print('precision score: {}'.format(sklearn.metrics.precision_score(y_true, y_pred, average = 'weighted', zero_division=1)))\n",
        "  print('recall score: {}'.format(sklearn.metrics.recall_score(y_true, y_pred,  average = 'weighted', zero_division=1)))\n",
        "  print('F1 score: {}'.format(f1_score(y_true, y_pred,  average = 'macro', zero_division=1)))\n",
        "  print('\\nConfusion Matrix:\\n', confusion_matrix(y_true, y_pred))\n",
        "  print('\\n', classification_report(y_true, y_pred))\n",
        "\n",
        "# Get the measurements of ROC curve for each model\n",
        "def get_roc_cuve (y_true, y_pred):\n",
        "  #cmatrix = confusion_matrix(y_true, y_pred)\n",
        "\n",
        "  # Get arrays of FPR and recall using roc_curve\n",
        "  FPR, recall, threshold = sklearn.metrics.roc_curve(y_true, y_pred)\n",
        "  #print('FPR:', FPR)\n",
        "  \n",
        "  # Get auc score\n",
        "  auc = sklearn.metrics.auc(FPR, recall)\n",
        "  roc = { 'fpr': FPR, 'tpr': recall, 'auc': auc}\n",
        "  return roc"
      ],
      "execution_count": 17,
      "outputs": []
    },
    {
      "cell_type": "markdown",
      "metadata": {
        "id": "ym7fSdvRZGPF"
      },
      "source": [
        "## **BERT**"
      ]
    },
    {
      "cell_type": "code",
      "metadata": {
        "id": "z_-ibrO2qigP"
      },
      "source": [
        "# Required packages for BERT is moved to the top, in case restart is required"
      ],
      "execution_count": 98,
      "outputs": []
    },
    {
      "cell_type": "markdown",
      "metadata": {
        "id": "qjjCuLVYq-Cn"
      },
      "source": [
        "**Prepare training and testing data for BERT**"
      ]
    },
    {
      "cell_type": "code",
      "metadata": {
        "id": "VEe_iAPj7u2T",
        "colab": {
          "base_uri": "https://localhost:8080/"
        },
        "outputId": "92bb3baa-3dad-4e70-982d-fdb18c11d115"
      },
      "source": [
        "# This func concatenate the tokenized words (which were already stripped of ,.?! and stopwords) together to create a sentence before tokenizing with BERT pretrained\n",
        "def concat_words(words, labels):\n",
        "  concat_words = []\n",
        "  for i in range(words.shape[0]):\n",
        "     concat_words.append( \" \".join(words[i]) )\n",
        "  concat_words = tuple(concat_words) \n",
        "\n",
        "  labels = tuple(labels.tolist())\n",
        "  return concat_words, labels\n",
        "\n",
        "\n",
        "train_texts, train_labels = concat_words(X_train_tokenized, y_train)\n",
        "test_texts, test_labels   = concat_words(X_test_tokenized,  y_test) \n",
        "\n",
        "len(train_texts), len(train_labels), len(test_texts), len(test_labels)"
      ],
      "execution_count": 20,
      "outputs": [
        {
          "output_type": "execute_result",
          "data": {
            "text/plain": [
              "(8046, 8046, 2012, 2012)"
            ]
          },
          "metadata": {},
          "execution_count": 20
        }
      ]
    },
    {
      "cell_type": "code",
      "metadata": {
        "id": "-Odo91k59IJC",
        "colab": {
          "base_uri": "https://localhost:8080/"
        },
        "outputId": "c5277be3-1174-4a9e-feb2-9b6344bb2a82"
      },
      "source": [
        "# Tokenizer \n",
        "tokenizer = BertTokenizer.from_pretrained('bert-base-uncased', do_lower_case=True)\n",
        "\n",
        "# Example\n",
        "tokenizer.tokenize(X_train[302])\n",
        "tokenizer.tokenize(train_texts[0]) "
      ],
      "execution_count": 21,
      "outputs": [
        {
          "output_type": "stream",
          "name": "stderr",
          "text": [
            "100%|██████████| 231508/231508 [00:00<00:00, 901597.34B/s]\n"
          ]
        },
        {
          "output_type": "execute_result",
          "data": {
            "text/plain": [
              "['she',\n",
              " 'learns',\n",
              " 'to',\n",
              " 'read',\n",
              " 'with',\n",
              " 'encouragement',\n",
              " 'from',\n",
              " 'her',\n",
              " 'new',\n",
              " 'family',\n",
              " 'and',\n",
              " 'max',\n",
              " 'jewish',\n",
              " 'refugee',\n",
              " 'who',\n",
              " 'they',\n",
              " 'are',\n",
              " 'hiding',\n",
              " 'under',\n",
              " 'the',\n",
              " 'stairs']"
            ]
          },
          "metadata": {},
          "execution_count": 21
        }
      ]
    },
    {
      "cell_type": "code",
      "metadata": {
        "id": "aoTdexdp8X-y",
        "colab": {
          "base_uri": "https://localhost:8080/"
        },
        "outputId": "2725bdfe-7685-4c2a-a592-50561129da5e"
      },
      "source": [
        "# get max len in tokenized train text to set the tokens length in the next step\n",
        "MAX_LEN = max(map(len, X_train_tokenized))  # can do len(max(X_train_tokenized, key=len)) also\n",
        "print('MAX LEN of trainning sentence is:', MAX_LEN, '\\nMAX LEN > 512 is ', MAX_LEN>512)\n",
        "\n",
        "# Update MAX LEN if it's > 512, set it to be 225 \n",
        "## 512 is is the maximum seq len of BERT_BASE. But we cannot allow the seq len to be 512 since we'll run out of GPU memory --> Use max len of 225\n",
        "MAX_LEN = 225 if MAX_LEN > 512 else MAX_LEN\n",
        "\n",
        "# Convert to tokens using tokenizer\n",
        "train_tokens = list(map(lambda t: ['[CLS]'] + tokenizer.tokenize(t)[: MAX_LEN] + ['[SEP]'], train_texts))\n",
        "test_tokens  = list(map(lambda t: ['[CLS]'] + tokenizer.tokenize(t)[: MAX_LEN] + ['[SEP]'], test_texts))\n",
        "\n",
        "print('Number of Training Sequences:',len(train_tokens), '\\nNumber of Testing Sequences:', len(test_tokens) )\n",
        "MAX_LEN"
      ],
      "execution_count": 22,
      "outputs": [
        {
          "output_type": "stream",
          "name": "stdout",
          "text": [
            "MAX LEN of trainning sentence is: 1349 \n",
            "MAX LEN > 512 is  True\n",
            "Number of Training Sequences: 8046 \n",
            "Number of Testing Sequences: 2012\n"
          ]
        },
        {
          "output_type": "execute_result",
          "data": {
            "text/plain": [
              "225"
            ]
          },
          "metadata": {},
          "execution_count": 22
        }
      ]
    },
    {
      "cell_type": "code",
      "metadata": {
        "id": "4OlPVCzu8Z36",
        "colab": {
          "base_uri": "https://localhost:8080/"
        },
        "outputId": "b03e24fd-d318-4e73-955d-7e5a9672178b"
      },
      "source": [
        "len(train_tokens), train_tokens[0]"
      ],
      "execution_count": 23,
      "outputs": [
        {
          "output_type": "execute_result",
          "data": {
            "text/plain": [
              "(8046,\n",
              " ['[CLS]',\n",
              "  'she',\n",
              "  'learns',\n",
              "  'to',\n",
              "  'read',\n",
              "  'with',\n",
              "  'encouragement',\n",
              "  'from',\n",
              "  'her',\n",
              "  'new',\n",
              "  'family',\n",
              "  'and',\n",
              "  'max',\n",
              "  'jewish',\n",
              "  'refugee',\n",
              "  'who',\n",
              "  'they',\n",
              "  'are',\n",
              "  'hiding',\n",
              "  'under',\n",
              "  'the',\n",
              "  'stairs',\n",
              "  '[SEP]'])"
            ]
          },
          "metadata": {},
          "execution_count": 23
        }
      ]
    },
    {
      "cell_type": "code",
      "metadata": {
        "id": "J7jyQUWEB-HV",
        "colab": {
          "base_uri": "https://localhost:8080/"
        },
        "outputId": "1290c357-f982-4acb-c1ef-2fc20e010074"
      },
      "source": [
        "# Following is to convert List of words to list of numbers. (Words are replaced by their index in dictionar)\n",
        "train_tokens_ids = pad_sequences(list(map(tokenizer.convert_tokens_to_ids, train_tokens)), maxlen= MAX_LEN, truncating=\"post\", padding=\"post\", dtype=\"int\")\n",
        "test_tokens_ids  = pad_sequences(list(map(tokenizer.convert_tokens_to_ids, test_tokens)),  maxlen= MAX_LEN, truncating=\"post\", padding=\"post\", dtype=\"int\")\n",
        "\n",
        "train_tokens_ids.shape, test_tokens_ids.shape"
      ],
      "execution_count": 24,
      "outputs": [
        {
          "output_type": "execute_result",
          "data": {
            "text/plain": [
              "((8046, 225), (2012, 225))"
            ]
          },
          "metadata": {},
          "execution_count": 24
        }
      ]
    },
    {
      "cell_type": "code",
      "metadata": {
        "id": "apIoa19q_lyD",
        "colab": {
          "base_uri": "https://localhost:8080/"
        },
        "outputId": "98107188-4917-4287-e3c0-6b9cf0603651"
      },
      "source": [
        "train_tokens_ids"
      ],
      "execution_count": 25,
      "outputs": [
        {
          "output_type": "execute_result",
          "data": {
            "text/plain": [
              "array([[  101,  2016, 10229, ...,     0,     0,     0],\n",
              "       [  101,  2045,  1005, ...,     0,     0,     0],\n",
              "       [  101,  1996,  6505, ...,     0,     0,     0],\n",
              "       ...,\n",
              "       [  101,  2247,  2007, ...,     0,     0,     0],\n",
              "       [  101,  5564,  2014, ...,     0,     0,     0],\n",
              "       [  101,  1996,  2204, ...,     0,     0,     0]])"
            ]
          },
          "metadata": {},
          "execution_count": 25
        }
      ]
    },
    {
      "cell_type": "code",
      "metadata": {
        "colab": {
          "base_uri": "https://localhost:8080/"
        },
        "id": "JcyZqZD9_hTx",
        "outputId": "c6700c81-8619-4bb8-8853-f8e670ec9cea"
      },
      "source": [
        "# Required packages for BERT is moved to the top, in case restart is required\n",
        "\n",
        "# Upsmapled training data for BERT\n",
        "oversampler = SMOTE(random_state=42)\n",
        "train_tokens_ids, train_labels = oversampler.fit_resample(train_tokens_ids, y_train)\n",
        "\n",
        "train_tokens_ids.shape, train_labels.shape"
      ],
      "execution_count": 26,
      "outputs": [
        {
          "output_type": "execute_result",
          "data": {
            "text/plain": [
              "((14578, 225), (14578,))"
            ]
          },
          "metadata": {},
          "execution_count": 26
        }
      ]
    },
    {
      "cell_type": "code",
      "metadata": {
        "id": "pW8p-QXOFr7F"
      },
      "source": [
        "# Mask the paddings with 0 and words with 1\n",
        "train_masks = [[float(i > 0) for i in ii] for ii in train_tokens_ids]\n",
        "test_masks = [[float(i > 0) for i in ii] for ii in test_tokens_ids]"
      ],
      "execution_count": 27,
      "outputs": []
    },
    {
      "cell_type": "code",
      "metadata": {
        "id": "UHqRlj6hFuVG"
      },
      "source": [
        "# Define BERT model\n",
        "class BertBinaryClassifier(nn.Module):\n",
        "    def __init__(self, dropout=0.1):\n",
        "        super(BertBinaryClassifier, self).__init__()\n",
        "\n",
        "        self.bert = BertModel.from_pretrained('bert-base-uncased')\n",
        "        self.dropout = nn.Dropout(dropout)\n",
        "        self.linear = nn.Linear(768, 1)\n",
        "        self.sigmoid = nn.Sigmoid()\n",
        "    \n",
        "    def forward(self, tokens, masks=None):\n",
        "        # First Layer\n",
        "        _, pooled_output = self.bert(tokens, attention_mask=masks, output_all_encoded_layers=False)\n",
        "\n",
        "        dropout_output = self.dropout(pooled_output)\n",
        "\n",
        "        linear_output = self.linear(dropout_output)\n",
        "        \n",
        "        # output layer\n",
        "        proba = self.sigmoid(linear_output)\n",
        "        \n",
        "        return proba\n",
        "      \n",
        "    def train_m(self,x,y,train_mask,epochs,batchsize):\n",
        "      train_tokens_tensor = torch.tensor(x)\n",
        "      train_y_tensor = torch.tensor(y.reshape(-1, 1)).float()\n",
        "      train_masks_tensor = torch.tensor(train_mask)\n",
        "\n",
        "      train_dataset = TensorDataset(train_tokens_tensor, train_masks_tensor, train_y_tensor)\n",
        "      train_sampler = RandomSampler(train_dataset)\n",
        "      train_dataloader = DataLoader(train_dataset, sampler=train_sampler, batch_size=batchsize) \n",
        "\n",
        "\n",
        "      param_optimizer = list(self.sigmoid.named_parameters()) \n",
        "      optimizer_grouped_parameters = [{\"params\": [p for n, p in param_optimizer]}]\n",
        "      optimizer = Adam(self.bert.parameters(), lr=2e-5)\n",
        "      for epoch_num in range(epochs):\n",
        "          self.train() # Training Flag\n",
        "          train_loss = 0\n",
        "          for step_num, batch_data in enumerate(train_dataloader):\n",
        "              \n",
        "              # Load batch on device memory\n",
        "              token_ids, masks, labels = tuple(t.to(device) for t in batch_data)\n",
        "\n",
        "              # Get the output of the model for provided input\n",
        "              logits = self(token_ids, masks)\n",
        "              \n",
        "              # Loss function\n",
        "              loss_func = nn.BCELoss()\n",
        "\n",
        "              # Calculate Loss\n",
        "              batch_loss = loss_func(logits, labels)\n",
        "              train_loss += batch_loss.item()\n",
        "              \n",
        "              # backpropagate the error\n",
        "              self.zero_grad()\n",
        "              batch_loss.backward()\n",
        "              \n",
        "              # Update the Weights of the Model\n",
        "              clip_grad_norm_(parameters=self.parameters(), max_norm=1.0)\n",
        "              optimizer.step()\n",
        "              \n",
        "              clear_output(wait=True)\n",
        "              print('Epoch: ', epoch_num + 1)\n",
        "              print(\"\\r\" + \"{0}/{1} loss: {2} \".format(step_num, len(train_labels) / batchsize, train_loss / (step_num + 1)))"
      ],
      "execution_count": 28,
      "outputs": []
    },
    {
      "cell_type": "code",
      "metadata": {
        "id": "gIoX7sMSGepe",
        "colab": {
          "base_uri": "https://localhost:8080/"
        },
        "outputId": "cb6889ed-ae87-4a6d-f982-ae987c247c58"
      },
      "source": [
        "device = torch.device(\"cuda\" if torch.cuda.is_available() else \"cpu\")\n",
        "device"
      ],
      "execution_count": 29,
      "outputs": [
        {
          "output_type": "execute_result",
          "data": {
            "text/plain": [
              "device(type='cuda')"
            ]
          },
          "metadata": {},
          "execution_count": 29
        }
      ]
    },
    {
      "cell_type": "code",
      "metadata": {
        "id": "oNt9bbmTHWg0",
        "colab": {
          "base_uri": "https://localhost:8080/"
        },
        "outputId": "1bb3ae50-6b6a-4486-d815-95848daa5910"
      },
      "source": [
        "bert_clf = BertBinaryClassifier()\n",
        "bert_clf = bert_clf.cuda()"
      ],
      "execution_count": 30,
      "outputs": [
        {
          "output_type": "stream",
          "name": "stderr",
          "text": [
            "100%|██████████| 407873900/407873900 [00:18<00:00, 22210162.09B/s]\n"
          ]
        }
      ]
    },
    {
      "cell_type": "code",
      "metadata": {
        "id": "vvhaIun1HajW",
        "colab": {
          "base_uri": "https://localhost:8080/"
        },
        "outputId": "3dfbc28c-e5ca-4eec-fd44-ff9f05c5d6d1"
      },
      "source": [
        "EPOCHS = 3\n",
        "BATCH_SZ = 32\n",
        "\n",
        "# Train BERT NLP\n",
        "bert_clf.train_m(train_tokens_ids, train_labels.to_numpy(),train_masks, EPOCHS, BATCH_SZ)"
      ],
      "execution_count": 31,
      "outputs": [
        {
          "output_type": "stream",
          "name": "stdout",
          "text": [
            "Epoch:  3\n",
            "\r455/455.5625 loss: 0.046951847203512954 \n"
          ]
        }
      ]
    },
    {
      "cell_type": "code",
      "metadata": {
        "colab": {
          "base_uri": "https://localhost:8080/"
        },
        "id": "SOzb8YRiE4kj",
        "outputId": "48bbe29d-81a4-4465-bf3b-cfac04c2683d"
      },
      "source": [
        "train_tokens_ids.shape"
      ],
      "execution_count": 32,
      "outputs": [
        {
          "output_type": "execute_result",
          "data": {
            "text/plain": [
              "(14578, 225)"
            ]
          },
          "metadata": {},
          "execution_count": 32
        }
      ]
    },
    {
      "cell_type": "markdown",
      "metadata": {
        "id": "jySuLyNZMPRQ"
      },
      "source": [
        "**Evaluate on Testing Set**"
      ]
    },
    {
      "cell_type": "code",
      "metadata": {
        "id": "7n7wbM8IItwm"
      },
      "source": [
        "## Converting test token ids, test labels and test masks to a tensor and the create a tensor dataset out of them.\n",
        "# Convert token ids to tensor \n",
        "test_tokens_tensor = torch.tensor(test_tokens_ids)\n",
        "\n",
        "# Convert labels to tensors\n",
        "test_y_tensor = torch.tensor(y_test.to_numpy().reshape(-1, 1)).float()\n",
        "\n",
        "# Convert to tensor for maks\n",
        "test_masks_tensor = torch.tensor(test_masks)\n",
        "\n",
        "\n",
        "# Load Token, token mask and label into Dataloader\n",
        "test_dataset = TensorDataset(test_tokens_tensor, test_masks_tensor, test_y_tensor)\n",
        "\n",
        "# Define sampler\n",
        "test_sampler = SequentialSampler(test_dataset)\n",
        "\n",
        "# Define test data loader\n",
        "test_dataloader = DataLoader(test_dataset, sampler=test_sampler, batch_size=16)"
      ],
      "execution_count": 33,
      "outputs": []
    },
    {
      "cell_type": "code",
      "metadata": {
        "id": "-txAOZsdMn3Z"
      },
      "source": [
        "bert_clf.eval()     # Define eval\n",
        "bert_predicted = [] # To Store predicted result\n",
        "all_logits = []     # Predicted probabilities that is between 0 to 1 is stored here\n",
        "\n",
        "with torch.no_grad():\n",
        "    for step_num, batch_data in enumerate(test_dataloader):\n",
        "\n",
        "        # Load the batch on gpu memory\n",
        "        token_ids, masks, labels = tuple(t.to(device) for t in batch_data)\n",
        "\n",
        "        # Calculate ouput of bert\n",
        "        logits = bert_clf(token_ids, masks)\n",
        "\n",
        "        # Get the numpy logits\n",
        "        numpy_logits = logits.cpu().detach().numpy()  # Detach from the GPU memory\n",
        "        \n",
        "        # Using the threshold find binary \n",
        "        bert_predicted += list(numpy_logits[:, 0] > 0.5)  # Threshold conversion\n",
        "        all_logits += list(numpy_logits[:, 0])"
      ],
      "execution_count": 34,
      "outputs": []
    },
    {
      "cell_type": "code",
      "metadata": {
        "id": "lt6h0N2YNhsa",
        "colab": {
          "base_uri": "https://localhost:8080/"
        },
        "outputId": "f3f78c99-eb17-4c40-9605-e3b11a381ff7"
      },
      "source": [
        "rocs = {}\n",
        "# Get ROC curve measurements\n",
        "rocs['BERT'] = get_roc_cuve(y_test, bert_predicted)\n",
        "\n",
        "# Prin performance\n",
        "print('----------------------------BERT performance---------------------------')\n",
        "printing_eval_scores(y_test, bert_predicted)"
      ],
      "execution_count": 36,
      "outputs": [
        {
          "output_type": "stream",
          "name": "stdout",
          "text": [
            "----------------------------BERT performance---------------------------\n",
            "accuracy score: 0.8886679920477137\n",
            "precision score: 0.9163249185184639\n",
            "recall score: 0.8886679920477137\n",
            "F1 score: 0.7369566232432181\n",
            "\n",
            "Confusion Matrix:\n",
            " [[1658  165]\n",
            " [  59  130]]\n",
            "\n",
            "               precision    recall  f1-score   support\n",
            "\n",
            "           0       0.97      0.91      0.94      1823\n",
            "           1       0.44      0.69      0.54       189\n",
            "\n",
            "    accuracy                           0.89      2012\n",
            "   macro avg       0.70      0.80      0.74      2012\n",
            "weighted avg       0.92      0.89      0.90      2012\n",
            "\n"
          ]
        }
      ]
    },
    {
      "cell_type": "code",
      "metadata": {
        "id": "uLPDjc-gZzib"
      },
      "source": [
        "# Export performance to a txt file\n",
        "txtfile = open('BERT_result.txt','w')\n",
        "#for i in rocs:\n",
        "txtfile.write('BERT=' + str(rocs['BERT'])+'\\n')\n",
        "\n",
        "txtfile.close()"
      ],
      "execution_count": 37,
      "outputs": []
    },
    {
      "cell_type": "code",
      "metadata": {
        "id": "fEFT_EkbM73O"
      },
      "source": [
        ""
      ],
      "execution_count": null,
      "outputs": []
    },
    {
      "cell_type": "code",
      "metadata": {
        "id": "xUK2c6VCEVr6"
      },
      "source": [
        "# Export performance to a txt file\n",
        "txtfile = open('results.txt','w')\n",
        "for i in report_scores_all.keys():\n",
        "  txtfile.write(str(i) + '=' + str(report_scores_all[i])+'\\n')\n",
        "  #print(report_scores_all[i])\n",
        "txtfile.close()"
      ],
      "execution_count": null,
      "outputs": []
    },
    {
      "cell_type": "markdown",
      "metadata": {
        "id": "7nE2wU_GNCLZ"
      },
      "source": [
        "#**Visualize all models with ROC curves**"
      ]
    },
    {
      "cell_type": "code",
      "metadata": {
        "id": "iLSNk1uWO5KD",
        "colab": {
          "base_uri": "https://localhost:8080/",
          "height": 404
        },
        "outputId": "53325b9c-d5d6-4711-e0b9-275051a28720"
      },
      "source": [
        "def graph_multi_ROC (rocs):\n",
        "  # Set color for each model\n",
        "  colors = {'LGBM': 'lightcoral','LR': 'darkorange', 'SVM':'lime', 'NB': 'steelblue',\n",
        "            'XGB': 'purple','DT': 'magenta','RF': 'deeppink','KNN': 'darkturquoise',\n",
        "            'BERT': 'darkred', 'GPT': 'blue'}\n",
        "  # Set marker for each model          \n",
        "  markers = {'LGBM':'1--','LR': 'v--', 'SVM': '^--', 'XGB': '*--', 'DT': 'o--', 'RF': '+--', 'KNN': '.--', 'NB': 'x--', 'BERT':'<--', 'GPT': '>--'}\n",
        "  \n",
        "  plt.figure(figsize=(9,6))\n",
        "  for model in rocs:\n",
        "    plt.plot( rocs[model]['fpr'], rocs[model]['tpr'], markers[model], color=colors[model], label= model+' - AUC=' + str(rocs[model]['auc'].round(3)) )\n",
        "  \n",
        "  plt.plot([0,1], [0,1], 'k--', label='Random Chances')\n",
        "  plt.xlim([0.0,1.0])\n",
        "  plt.ylim([0.0,1.02])\n",
        "  plt.ylabel('Recall')\n",
        "  plt.xlabel('False Positive Rate (1-Specificity)')\n",
        "  plt.legend(loc='lower right') \n",
        "  plt.title( 'ROC Curves of all models')\n",
        "  plt.show()\n",
        "\n",
        "graph_multi_ROC(rocs)"
      ],
      "execution_count": 39,
      "outputs": [
        {
          "output_type": "display_data",
          "data": {
            "image/png": "[encoded data removed]",
            "text/plain": [
              "<Figure size 648x432 with 1 Axes>"
            ]
          },
          "metadata": {
            "needs_background": "light"
          }
        }
      ]
    },
    {
      "cell_type": "code",
      "metadata": {
        "id": "vY91tBEaRNh1"
      },
      "source": [
        ""
      ],
      "execution_count": null,
      "outputs": []
    },
    {
      "cell_type": "code",
      "metadata": {
        "id": "sRrh13vHDl9a"
      },
      "source": [
        ""
      ],
      "execution_count": null,
      "outputs": []
    },
    {
      "cell_type": "markdown",
      "metadata": {
        "id": "BlRbJv7mZK6F"
      },
      "source": [
        "## **GPT-2**"
      ]
    },
    {
      "cell_type": "code",
      "metadata": {
        "id": "w48ScPVYZNpN"
      },
      "source": [
        "!pip install transformers\n",
        "\n",
        "from transformers import GPT2Tokenizer, GPT2ForSequenceClassification\n",
        "\n",
        "# Load GPT2 tokenizer\n",
        "tokenizer = GPT2Tokenizer.from_pretrained('microsoft/DialoGPT-small')"
      ],
      "execution_count": null,
      "outputs": []
    },
    {
      "cell_type": "code",
      "metadata": {
        "id": "IxXKH8iqZZOn"
      },
      "source": [
        "# Padding sequences from the right to MAX_LEN (225)\n",
        "tokenizer.padding_side = \"right\"\n",
        "tokenizer.pad_token = tokenizer.eos_token\n",
        "train_tokens = tokenizer(train_texts, return_tensors='pt', truncation=True, padding=True, max_length = MAX_LEN)\n",
        "test_tokens  = tokenizer(test_texts,  return_tensors='pt', truncation=True, padding=True, max_length = MAX_LEN)"
      ],
      "execution_count": null,
      "outputs": []
    },
    {
      "cell_type": "code",
      "metadata": {
        "id": "_V2ao-iQZX-t"
      },
      "source": [
        "# Convert List of words to list of numbers. (Words are replaced by their index in the dictionary)\n",
        "train_tokens_ids = train_tokens.input_ids\n",
        "test_tokens_ids = test_tokens.input_ids\n",
        "\n",
        "train_tokens_ids.shape, test_tokens_ids.shape"
      ],
      "execution_count": null,
      "outputs": []
    },
    {
      "cell_type": "code",
      "metadata": {
        "id": "anusyo95aAAN"
      },
      "source": [
        "train_masks = train_tokens.attention_mask\n",
        "test_masks = test_tokens.attention_mask"
      ],
      "execution_count": null,
      "outputs": []
    },
    {
      "cell_type": "code",
      "metadata": {
        "id": "TvmaGH-QczkH"
      },
      "source": [
        "class GTP2BinaryClassifier(nn.Module):\n",
        "    def __init__(self, dropout=0.1):\n",
        "        super(GTP2BinaryClassifier, self).__init__()\n",
        "        self.gtp2 = GPT2ForSequenceClassification.from_pretrained('microsoft/DialoGPT-small')\n",
        "      \n",
        "    def train_m(self,x,y,train_mask,epochs,batchsize):\n",
        "      train_tokens_tensor = torch.tensor(x)\n",
        "      train_y_tensor = torch.tensor(y.reshape(-1, 1)).long()\n",
        "      train_masks_tensor = torch.tensor(train_mask)\n",
        "\n",
        "      train_dataset = TensorDataset(train_tokens_tensor, train_masks_tensor, train_y_tensor)\n",
        "      train_sampler = RandomSampler(train_dataset)\n",
        "      train_dataloader = DataLoader(train_dataset, sampler=train_sampler, batch_size=batchsize) \n",
        "\n",
        "\n",
        "      # param_optimizer = list(self.gtp2.parameters()) \n",
        "      # optimizer_grouped_parameters = [{\"params\": [p for n, p in param_optimizer]}]\n",
        "      optimizer = Adam(self.gtp2.parameters(), lr=5e-5)\n",
        "      for epoch_num in range(epochs):\n",
        "          self.gtp2.train() # Training Flag\n",
        "          train_loss = 0\n",
        "          for step_num, batch_data in enumerate(train_dataloader):\n",
        "              \n",
        "              # Load batch on device memory\n",
        "              token_ids, masks, labels = tuple(t.to(device) for t in batch_data)\n",
        "              self.zero_grad()\n",
        "\n",
        "              # Get the output of the model for provided input\n",
        "              outputs = self.gtp2(token_ids,attention_mask=masks,labels=labels)\n",
        "              loss, logits = outputs[:2]\n",
        "              # logits = self(token_ids, masks)\n",
        "              \n",
        "              # Total Loss\n",
        "              train_loss += loss.item()\n",
        "              \n",
        "              # Backward pass the loss\n",
        "              loss.backward()\n",
        "              torch.nn.utils.clip_grad_norm_(self.gtp2.parameters(), 1.0)\n",
        "              \n",
        "              optimizer.step()\n",
        "              logits = logits.cpu().detach().numpy()\n",
        "\n",
        "              clear_output(wait=True)\n",
        "        \n",
        "              print('Epoch: ', epoch_num + 1)\n",
        "              print(\"\\r\" + \"{0}/{1} loss: {2} \".format(step_num, len(train_labels) / batchsize, train_loss / (step_num + 1)))"
      ],
      "execution_count": null,
      "outputs": []
    },
    {
      "cell_type": "code",
      "metadata": {
        "id": "Mybbry1QczgA"
      },
      "source": [
        "gtp_clf = GTP2BinaryClassifier()\n",
        "gtp_clf = gtp_clf.cuda()"
      ],
      "execution_count": null,
      "outputs": []
    },
    {
      "cell_type": "code",
      "metadata": {
        "id": "RIHCFROPDvEa"
      },
      "source": [
        "EPOCHS, BATCH_SZ"
      ],
      "execution_count": null,
      "outputs": []
    },
    {
      "cell_type": "code",
      "metadata": {
        "id": "nt8MVtlSczc3"
      },
      "source": [
        "# Configure the Padding token id\n",
        "gtp_clf.gtp2.config.pad_token_id = tokenizer.eos_token_id\n",
        "gtp_clf.train_m(train_tokens_ids, y_train.to_numpy(), train_masks, EPOCHS, BATCH_SZ)"
      ],
      "execution_count": null,
      "outputs": []
    },
    {
      "cell_type": "markdown",
      "metadata": {
        "id": "NI61tMiaeZ_w"
      },
      "source": [
        "**Evaluate on Testing Set**"
      ]
    },
    {
      "cell_type": "code",
      "metadata": {
        "id": "h0B4ycuLczXm"
      },
      "source": [
        "## Converting test token ids, test labels and test masks to a tensor and the create a tensor dataset out of them.\n",
        "# Convert token ids to tensor \n",
        "test_tokens_tensor = torch.tensor(test_tokens_ids)\n",
        "\n",
        "# Convert labels to tensors\n",
        "test_y_tensor = torch.tensor( y_test.to_numpy().reshape(-1, 1) ).long()\n",
        "\n",
        "# Convert masks to tensor\n",
        "test_masks_tensor = torch.tensor(test_masks)\n",
        "\n",
        "# Load Token, token mask and label into Dataloader\n",
        "test_dataset = TensorDataset(test_tokens_tensor, test_masks_tensor, test_y_tensor)\n",
        "\n",
        "# Define sampler\n",
        "test_sampler = SequentialSampler(test_dataset)\n",
        "\n",
        "# Define test data loader\n",
        "test_dataloader = DataLoader(test_dataset, sampler = test_sampler, batch_size=16)"
      ],
      "execution_count": null,
      "outputs": []
    },
    {
      "cell_type": "code",
      "metadata": {
        "id": "md_tqaatfUfZ"
      },
      "source": [
        "# Evaluate Model\n",
        "gtp_clf.eval() # Define eval\n",
        "gpt_predicted = [] # Store Result\n",
        "with torch.no_grad():\n",
        "    for step_num, batch_data in enumerate(test_dataloader):\n",
        "\n",
        "        token_ids, masks, labels = tuple(t.to(device) for t in batch_data)\n",
        "\n",
        "        # ----------------------------------------------------------------\n",
        "        outputs = gtp_clf.gtp2(token_ids, attention_mask=masks, labels=labels)\n",
        "        loss, logits = outputs[:2]\n",
        "        numpy_logits = logits.detach().cpu().numpy()\n",
        "        # ----------------------------------------------------------------\n",
        "        gpt_predicted +=list(numpy_logits.argmax(axis=-1).flatten().tolist())"
      ],
      "execution_count": null,
      "outputs": []
    },
    {
      "cell_type": "code",
      "metadata": {
        "id": "6VhTgpr-hmhw"
      },
      "source": [
        "# Get ROC curve measurements\n",
        "rocs['GPT'] = get_roc_cuve(y_test, gpt_predicted)\n",
        "\n",
        "# Prin performance\n",
        "print('----------------------------GPT performance---------------------------')\n",
        "printing_eval_scores(y_test, gpt_predicted)"
      ],
      "execution_count": null,
      "outputs": []
    }
  ]
}