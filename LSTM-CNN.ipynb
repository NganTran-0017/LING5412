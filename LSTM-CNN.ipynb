{
  "nbformat": 4,
  "nbformat_minor": 0,
  "metadata": {
    "colab": {
      "name": "LING5412_Final_project.ipynb",
      "provenance": [],
      "collapsed_sections": [],
      "toc_visible": true,
      "mount_file_id": "https://github.com/HuyenNguyenHelen/LING-5412/blob/main/Final_project/LSTM-CNN.ipynb",
      "authorship_tag": "ABX9TyMsj6mdfMaD6ObRQiN7/HnP",
      "include_colab_link": true
    },
    "kernelspec": {
      "name": "python3",
      "display_name": "Python 3"
    },
    "language_info": {
      "name": "python"
    },
    "accelerator": "GPU"
  },
  "cells": [
    {
      "cell_type": "markdown",
      "metadata": {
        "id": "view-in-github",
        "colab_type": "text"
      },
      "source": [
        "<a href=\"https://colab.research.google.com/github/NganTran-0017/LING5412/blob/main/LSTM-CNN.ipynb\" target=\"_parent\"><img src=\"https://colab.research.google.com/assets/colab-badge.svg\" alt=\"Open In Colab\"/></a>"
      ]
    },
    {
      "cell_type": "markdown",
      "metadata": {
        "id": "Q1hfFdjb12US"
      },
      "source": [
        "# **DEEP LEARNING MODELS**\n",
        "Recently, deep learning has been proven to be outperformed in most NLP tasks. LSTM, a special model of RNN, is able to learn long-term dependencies, overcoming the vanishing gradient problem of RNN. Additional, LSTM can learn the sequence bidirectionally (one at a time). CNN was originally produced for image classification, but later on it also achieves a good performance for the text classification. However, a drawback of such deep learning models is that it requires a lot of data to learn. Our dataset is imbalanced in nature. The class 1 (possitive) only has 946 instances (nearly 10% of the dataset), so it may be not sufficient for the deep learning model to be optimized. Data augmentation, and oversampling should be considered to increase the size of this minor class.\n",
        "\n",
        "We are going to build and train the following models:\n",
        "\n",
        "*   LSTM-based models: Vanilla biLSTM, Stacked biLSTM, biLSTM with attention layer\n",
        "*   CNN\n",
        "\n"
      ]
    },
    {
      "cell_type": "code",
      "metadata": {
        "id": "G99qOVzxSOwP",
        "colab": {
          "base_uri": "https://localhost:8080/"
        },
        "outputId": "c216b72b-122b-4ccc-ff9c-b4da029f0101"
      },
      "source": [
        "# Loading libraries\n",
        "import os\n",
        "import tarfile\n",
        "import pandas as pd\n",
        "import csv\n",
        "import seaborn as sns\n",
        "import matplotlib.pyplot as plt\n",
        "import sklearn\n",
        "import numpy as np\n",
        "from sklearn.metrics import accuracy_score, classification_report\n",
        "from sklearn.model_selection import train_test_split\n",
        "!pip install imbalanced-learn\n",
        "import imblearn\n",
        "from imblearn.over_sampling import RandomOverSampler\n",
        "from imblearn.over_sampling import SMOTE\n",
        "from sklearn.metrics import recall_score, roc_auc_score\n",
        "import tensorflow_datasets as tfds\n",
        "import tensorflow as tf\n",
        "import torch\n",
        "import sklearn\n",
        "tfds.disable_progress_bar()\n",
        "from keras import backend as K\n"
      ],
      "execution_count": null,
      "outputs": [
        {
          "output_type": "stream",
          "name": "stdout",
          "text": [
            "Requirement already satisfied: imbalanced-learn in /usr/local/lib/python3.7/dist-packages (0.8.1)\n",
            "Requirement already satisfied: scipy>=0.19.1 in /usr/local/lib/python3.7/dist-packages (from imbalanced-learn) (1.4.1)\n",
            "Requirement already satisfied: numpy>=1.13.3 in /usr/local/lib/python3.7/dist-packages (from imbalanced-learn) (1.19.5)\n",
            "Requirement already satisfied: joblib>=0.11 in /usr/local/lib/python3.7/dist-packages (from imbalanced-learn) (1.1.0)\n",
            "Requirement already satisfied: scikit-learn>=0.24 in /usr/local/lib/python3.7/dist-packages (from imbalanced-learn) (1.0.1)\n",
            "Requirement already satisfied: threadpoolctl>=2.0.0 in /usr/local/lib/python3.7/dist-packages (from scikit-learn>=0.24->imbalanced-learn) (3.0.0)\n"
          ]
        }
      ]
    },
    {
      "cell_type": "code",
      "metadata": {
        "colab": {
          "base_uri": "https://localhost:8080/"
        },
        "id": "4AkyZvLy5g72",
        "outputId": "d4b8f718-bc74-4dc4-e879-733d743736c7"
      },
      "source": [
        "# Get the GPU device name.\n",
        "device_name = tf.test.gpu_device_name()\n",
        "\n",
        "# The device name should look like the following:\n",
        "if device_name == '/device:GPU:0':\n",
        "    print('Found GPU at: {}'.format(device_name))\n",
        "else:\n",
        "    raise SystemError('GPU device not found')\n",
        "\n",
        "# If there's a GPU available...\n",
        "if torch.cuda.is_available():    \n",
        "\n",
        "    # Tell PyTorch to use the GPU.    \n",
        "    device = torch.device(\"cuda\")\n",
        "\n",
        "    print('There are %d GPU(s) available.' % torch.cuda.device_count())\n",
        "\n",
        "    print('We will use the GPU:', torch.cuda.get_device_name(0))\n",
        "\n",
        "# If not...\n",
        "else:\n",
        "    print('No GPU available, using the CPU instead.')\n",
        "    device = torch.device(\"cpu\")"
      ],
      "execution_count": null,
      "outputs": [
        {
          "output_type": "stream",
          "name": "stdout",
          "text": [
            "Found GPU at: /device:GPU:0\n",
            "There are 1 GPU(s) available.\n",
            "We will use the GPU: Tesla K80\n"
          ]
        }
      ]
    },
    {
      "cell_type": "markdown",
      "metadata": {
        "id": "eHh5b74YomXY"
      },
      "source": [
        "# Loading data"
      ]
    },
    {
      "cell_type": "code",
      "metadata": {
        "id": "qvw2VYN_dTtE"
      },
      "source": [
        "# Uncomment this line if running with a different account\n",
        "# Unzip the dataset\n",
        "#!unzip \"/content/dontpatronizeme_v1.3.zip\" -d \"/content/drive/MyDrive/\""
      ],
      "execution_count": null,
      "outputs": []
    },
    {
      "cell_type": "code",
      "metadata": {
        "id": "K5DJ3zR_fCre"
      },
      "source": [
        "# Opening the file from MyDrive\n",
        "file = open(r'/content/drive/MyDrive/dontpatronizeme_v1.3/dontpatronizeme_pcl.tsv')\n",
        "reader = csv.reader(file, delimiter=\"\\t\")\n",
        "data = []\n",
        "for row in reader:\n",
        "  data.append(row)\n"
      ],
      "execution_count": null,
      "outputs": []
    },
    {
      "cell_type": "code",
      "metadata": {
        "colab": {
          "base_uri": "https://localhost:8080/",
          "height": 424
        },
        "id": "6W8pqT5PjG-L",
        "outputId": "bf7f04f1-ed93-4bd9-c221-70c06e231772"
      },
      "source": [
        "df = pd.DataFrame(data[5:],  columns = ['docID', 'keyword', 'country', 'paragraph', 'label' ] )\n",
        "df"
      ],
      "execution_count": null,
      "outputs": [
        {
          "output_type": "execute_result",
          "data": {
            "text/html": [
              "<div>\n",
              "<style scoped>\n",
              "    .dataframe tbody tr th:only-of-type {\n",
              "        vertical-align: middle;\n",
              "    }\n",
              "\n",
              "    .dataframe tbody tr th {\n",
              "        vertical-align: top;\n",
              "    }\n",
              "\n",
              "    .dataframe thead th {\n",
              "        text-align: right;\n",
              "    }\n",
              "</style>\n",
              "<table border=\"1\" class=\"dataframe\">\n",
              "  <thead>\n",
              "    <tr style=\"text-align: right;\">\n",
              "      <th></th>\n",
              "      <th>docID</th>\n",
              "      <th>keyword</th>\n",
              "      <th>country</th>\n",
              "      <th>paragraph</th>\n",
              "      <th>label</th>\n",
              "    </tr>\n",
              "  </thead>\n",
              "  <tbody>\n",
              "    <tr>\n",
              "      <th>0</th>\n",
              "      <td>@@4703096</td>\n",
              "      <td>immigrant</td>\n",
              "      <td>jm</td>\n",
              "      <td>NBC and Spanish-language Univision both declin...</td>\n",
              "      <td>0</td>\n",
              "    </tr>\n",
              "    <tr>\n",
              "      <th>1</th>\n",
              "      <td>@@25567226</td>\n",
              "      <td>in-need</td>\n",
              "      <td>hk</td>\n",
              "      <td>A second T-Home project is being launched in t...</td>\n",
              "      <td>0</td>\n",
              "    </tr>\n",
              "    <tr>\n",
              "      <th>2</th>\n",
              "      <td>@@1824078</td>\n",
              "      <td>poor-families</td>\n",
              "      <td>tz</td>\n",
              "      <td>Camfed would like to see this trend reversed ....</td>\n",
              "      <td>4</td>\n",
              "    </tr>\n",
              "    <tr>\n",
              "      <th>3</th>\n",
              "      <td>@@1921089</td>\n",
              "      <td>refugee</td>\n",
              "      <td>tz</td>\n",
              "      <td>Kagunga village was reported to lack necessary...</td>\n",
              "      <td>0</td>\n",
              "    </tr>\n",
              "    <tr>\n",
              "      <th>4</th>\n",
              "      <td>@@40039380</td>\n",
              "      <td>women</td>\n",
              "      <td>ng</td>\n",
              "      <td>Haruna stressed the need for specific approach...</td>\n",
              "      <td>0</td>\n",
              "    </tr>\n",
              "    <tr>\n",
              "      <th>...</th>\n",
              "      <td>...</td>\n",
              "      <td>...</td>\n",
              "      <td>...</td>\n",
              "      <td>...</td>\n",
              "      <td>...</td>\n",
              "    </tr>\n",
              "    <tr>\n",
              "      <th>10053</th>\n",
              "      <td>@@16413808</td>\n",
              "      <td>immigrant</td>\n",
              "      <td>my</td>\n",
              "      <td>To me , I am always mindful that we are dealin...</td>\n",
              "      <td>4</td>\n",
              "    </tr>\n",
              "    <tr>\n",
              "      <th>10054</th>\n",
              "      <td>@@8676630</td>\n",
              "      <td>vulnerable</td>\n",
              "      <td>jm</td>\n",
              "      <td>Other themes included promoting the inclusion ...</td>\n",
              "      <td>0</td>\n",
              "    </tr>\n",
              "    <tr>\n",
              "      <th>10055</th>\n",
              "      <td>@@7688552</td>\n",
              "      <td>immigrant</td>\n",
              "      <td>gb</td>\n",
              "      <td>It came as the CDU was also humiliated by the ...</td>\n",
              "      <td>0</td>\n",
              "    </tr>\n",
              "    <tr>\n",
              "      <th>10056</th>\n",
              "      <td>@@4916290</td>\n",
              "      <td>hopeless</td>\n",
              "      <td>in</td>\n",
              "      <td>Those were only days of helplessness , she say...</td>\n",
              "      <td>0</td>\n",
              "    </tr>\n",
              "    <tr>\n",
              "      <th>10057</th>\n",
              "      <td>@@2973614</td>\n",
              "      <td>immigrant</td>\n",
              "      <td>ie</td>\n",
              "      <td>They include a community college student , a c...</td>\n",
              "      <td>0</td>\n",
              "    </tr>\n",
              "  </tbody>\n",
              "</table>\n",
              "<p>10058 rows × 5 columns</p>\n",
              "</div>"
            ],
            "text/plain": [
              "            docID  ... label\n",
              "0       @@4703096  ...     0\n",
              "1      @@25567226  ...     0\n",
              "2       @@1824078  ...     4\n",
              "3       @@1921089  ...     0\n",
              "4      @@40039380  ...     0\n",
              "...           ...  ...   ...\n",
              "10053  @@16413808  ...     4\n",
              "10054   @@8676630  ...     0\n",
              "10055   @@7688552  ...     0\n",
              "10056   @@4916290  ...     0\n",
              "10057   @@2973614  ...     0\n",
              "\n",
              "[10058 rows x 5 columns]"
            ]
          },
          "metadata": {},
          "execution_count": 5
        }
      ]
    },
    {
      "cell_type": "markdown",
      "metadata": {
        "id": "VtakLrrIoo9_"
      },
      "source": [
        "# Data pre-processing"
      ]
    },
    {
      "cell_type": "markdown",
      "metadata": {
        "id": "ZujCIS9lTsyH"
      },
      "source": [
        "As we participate in Task 1 - binary classification. We need to convert the 5-class lables into binary."
      ]
    },
    {
      "cell_type": "code",
      "metadata": {
        "colab": {
          "base_uri": "https://localhost:8080/",
          "height": 334
        },
        "id": "JQyvG1B0pvEI",
        "outputId": "96bd768b-2629-4839-f4a4-530055e45e35"
      },
      "source": [
        "# Turning labels to binary\n",
        "df['label'] = df['label'].astype(str)\n",
        "label_dic = {'0':0,\n",
        "             '1':0,\n",
        "             '2':1,\n",
        "             '3':1,\n",
        "             '4':1}\n",
        "df['label'] = df['label'].map(label_dic)\n",
        "print(df['label'].value_counts())\n",
        "sns.countplot(x='label', data=df)\n",
        "plt.show()"
      ],
      "execution_count": null,
      "outputs": [
        {
          "output_type": "stream",
          "name": "stdout",
          "text": [
            "0    9112\n",
            "1     946\n",
            "Name: label, dtype: int64\n"
          ]
        },
        {
          "output_type": "display_data",
          "data": {
            "image/png": "[encoded data removed]",
            "text/plain": [
              "<Figure size 432x288 with 1 Axes>"
            ]
          },
          "metadata": {
            "needs_background": "light"
          }
        }
      ]
    },
    {
      "cell_type": "markdown",
      "metadata": {
        "id": "ZcAMX5reo0e1"
      },
      "source": [
        "# Developing models"
      ]
    },
    {
      "cell_type": "markdown",
      "metadata": {
        "id": "1ZnV3gTKUY5X"
      },
      "source": [
        "### Creating helper functions"
      ]
    },
    {
      "cell_type": "code",
      "metadata": {
        "id": "I4rpOk5O7i0r"
      },
      "source": [
        "# Defining an evaluation metric function\n",
        "\n",
        "# Get the measurements of ROC curve for each model\n",
        "def get_roc_curve (y_true, y_pred):\n",
        "  # Get arrays of FPR and recall using roc_curve\n",
        "  FPR, recall, threshold = sklearn.metrics.roc_curve(y_true, y_pred)\n",
        "  # Get testing accuracy:\n",
        "  acc = sklearn.metrics.accuracy_score( y_test,y_pred)\n",
        "  # Get testing macro-f1:\n",
        "  f1 = sklearn.metrics.f1_score(y_test, y_pred,  average = 'macro', zero_division=1)\n",
        "  # Get auc score\n",
        "  auc = sklearn.metrics.auc(FPR, recall)\n",
        "  roc = {'fpr': FPR, 'tpr': recall, 'auc': auc, 'accuracy': acc, 'macro-F1': f1}\n",
        "  return roc\n",
        "\n",
        "# Defining a function to print out performance of models in classification metric \n",
        "def printing_eval_scores (y_true, y_pred, report=''):\n",
        "  accuracy = sklearn.metrics.accuracy_score(y_true, y_pred)\n",
        "  precision = sklearn.metrics.precision_score(y_true, y_pred, average='macro', zero_division = 1)\n",
        "  recall = sklearn.metrics.recall_score(y_true, y_pred, average='macro', zero_division = 1)\n",
        "  f1 = sklearn.metrics.f1_score(y_true, y_pred , average='macro', zero_division = 1)\n",
        "  cmatrix = sklearn.metrics.confusion_matrix(y_true, y_pred)\n",
        "  print('accuracy score: {:.3f}'.format(accuracy))\n",
        "  print('precision score: {:.3f}'.format(precision))\n",
        "  print('recall score: {:.3f}'.format(recall))\n",
        "  print('F1 score: {:.3f}'.format(f1))\n",
        "  if report is True:\n",
        "    print(classification_report(y_true, y_pred))\n",
        "  else:\n",
        "    pass\n",
        "  return accuracy, precision, recall, f1\n",
        "\n",
        "# Creating an empty dictionary to save ROC scores of all models\n",
        "roc = {}"
      ],
      "execution_count": null,
      "outputs": []
    },
    {
      "cell_type": "markdown",
      "metadata": {
        "id": "SJaYiGQqHekG"
      },
      "source": [
        "### Spliting data"
      ]
    },
    {
      "cell_type": "code",
      "metadata": {
        "colab": {
          "base_uri": "https://localhost:8080/"
        },
        "id": "Nvza5K7YbJ4H",
        "outputId": "024e4dba-c53a-4181-90d5-57ddf54563c0"
      },
      "source": [
        "# Splitting the data into training (80%) and test sets(20%), \n",
        "# then spliting the training set into training and validation subsets with the same rate\n",
        "X = df['paragraph']\n",
        "y = df['label']\n",
        "X_train_large, X_test, y_train_large, y_test = train_test_split (X, y, train_size = 0.8, random_state = 42, shuffle = True, stratify=y)\n",
        "X_train, X_val, y_train, y_val = train_test_split (X_train_large, y_train_large, train_size = 0.8, random_state = 42, shuffle = True, stratify=y_train_large)\n",
        "\n",
        "print ('Shapes of X_train, y_train: ', X_train.shape, y_train.shape)\n",
        "print ('Shapes of X_val, y_val: ', X_test.shape, y_test.shape)\n",
        "print ('Shapes of X_test, y_test: ', X_test.shape, y_test.shape)\n",
        "print(y_train.value_counts())"
      ],
      "execution_count": null,
      "outputs": [
        {
          "output_type": "stream",
          "name": "stdout",
          "text": [
            "Shapes of X_train, y_train:  (6436,) (6436,)\n",
            "Shapes of X_val, y_val:  (2012,) (2012,)\n",
            "Shapes of X_test, y_test:  (2012,) (2012,)\n",
            "0    5830\n",
            "1     606\n",
            "Name: label, dtype: int64\n"
          ]
        }
      ]
    },
    {
      "cell_type": "markdown",
      "metadata": {
        "id": "N4C5VWM4FZlo"
      },
      "source": [
        "### Oversampling\n",
        "To handle class imbalance issue, we oversample the minor class so that both classes have  equal numbers of examples. We generate new instances for the class 1 by randomly duplicating instances from training set of this class. Note that we only oversample for the train set, so that it will not affect reliability of the models. "
      ]
    },
    {
      "cell_type": "code",
      "metadata": {
        "colab": {
          "base_uri": "https://localhost:8080/"
        },
        "id": "kUe9hwGSR4Pl",
        "outputId": "603fffcd-77a7-4968-c2cd-ad88a77eb751"
      },
      "source": [
        "# Getting instances of each class \n",
        "bool1_train_labels = y_train != 0\n",
        "X_train_1 = X_train[bool1_train_labels]\n",
        "X_train_0 = X_train[~bool1_train_labels]\n",
        "y_train_1 = y_train[bool1_train_labels]\n",
        "y_train_0 = y_train[~bool1_train_labels]\n",
        "\n",
        "print('shape of X_train - Class 1: {}, Class 0: {}'.format(X_train_1.shape, X_train_0.shape))\n",
        "print('shape of y_train - Class 1: {}, Class 0: {}'.format(y_train_1.shape, y_train_0.shape))\n",
        "\n",
        "\n",
        "# Oversampling the class 1 on train set\n",
        "ids = np.arange(len(X_train_1.to_list())) # getting index of instance in class 1 in train set\n",
        "choices = np.random.choice(ids, size = len(X_train_0.to_list())) # randomly duplicate index of instances in class 1 until it gets a size of the class 0\n",
        "\n",
        "res_X_train_1 = np.array(X_train_1.to_list())[choices] # having the resampled train set of class 1\n",
        "res_y_train_1 = np.array(y_train_1)[choices]\n",
        "\n",
        "print('\\nWith oversampling: \\nshape of X_train - Class 1: {}, Class 0: {}'.format(res_X_train_1.shape, X_train_0.shape))\n",
        "print('shape of y_train - Class 1: {}, Class 0: {}'.format(res_y_train_1.shape, y_train_0.shape))\n",
        "\n",
        "# Concatenate oversalmpled class 1, and class 0 into train set\n",
        "res_X_train = np.concatenate([res_X_train_1, X_train_0], axis=0)\n",
        "res_y_train = np.concatenate([res_y_train_1, y_train_0], axis=0)\n",
        "\n",
        "# Shuffle after concatenate the two-class data.\n",
        "order = np.arange(len(res_y_train))\n",
        "np.random.shuffle(order)\n",
        "res_X_train = res_X_train[order]\n",
        "res_y_train = res_y_train[order]\n",
        "\n",
        "print('\\nWith oversampling and shuffling: \\nshape of resampled_X_train: {}, resampled_y_train: {}'.format(res_X_train.shape, res_y_train.shape))\n"
      ],
      "execution_count": null,
      "outputs": [
        {
          "output_type": "stream",
          "name": "stdout",
          "text": [
            "shape of X_train - Class 1: (606,), Class 0: (5830,)\n",
            "shape of y_train - Class 1: (606,), Class 0: (5830,)\n",
            "\n",
            "With oversampling: \n",
            "shape of X_train - Class 1: (5830,), Class 0: (5830,)\n",
            "shape of y_train - Class 1: (5830,), Class 0: (5830,)\n",
            "\n",
            "With oversampling and shuffling: \n",
            "shape of resampled_X_train: (11660,), resampled_y_train: (11660,)\n"
          ]
        }
      ]
    },
    {
      "cell_type": "markdown",
      "metadata": {
        "id": "ucPDcY6JZvoh"
      },
      "source": [
        "### Text representation"
      ]
    },
    {
      "cell_type": "markdown",
      "metadata": {
        "id": "1S9amoxBdpxg"
      },
      "source": [
        "**Text vectorization**"
      ]
    },
    {
      "cell_type": "code",
      "metadata": {
        "id": "IP9gtaG4bnHV"
      },
      "source": [
        "# Uncomment these codes for running with other Google account\n",
        "# !wget http://nlp.stanford.edu/data/glove.6B.zip\n",
        "# !unzip -q glove.6B.zip -d \"/content/drive/MyDrive/\""
      ],
      "execution_count": null,
      "outputs": []
    },
    {
      "cell_type": "code",
      "metadata": {
        "id": "-1oWkmp-21cO",
        "colab": {
          "base_uri": "https://localhost:8080/"
        },
        "outputId": "cb37cd2d-b091-4abd-cab9-b7b66497f6c4"
      },
      "source": [
        "# Create vectorizer \n",
        "from tensorflow.keras.layers import TextVectorization\n",
        "vectorizer = TextVectorization(max_tokens=20000, output_sequence_length=225) # Tokennize documents\n",
        "\n",
        "text_ds = tf.data.Dataset.from_tensor_slices(X_train.to_list()+X_val.to_list()).batch(32) \n",
        "vectorizer.adapt(text_ds)\n",
        "\n",
        "# Create vocabulary \n",
        "voc = vectorizer.get_vocabulary()\n",
        "print(vectorizer.get_vocabulary()[:5])\n",
        "word_index = dict(zip(voc, range(len(voc))))"
      ],
      "execution_count": null,
      "outputs": [
        {
          "output_type": "stream",
          "name": "stdout",
          "text": [
            "['', '[UNK]', 'the', 'to', 'of']\n"
          ]
        }
      ]
    },
    {
      "cell_type": "code",
      "metadata": {
        "id": "EqfU7beN24Ud"
      },
      "source": [
        "# Vectorize documents of the train, validation, and test set\n",
        "X_train_vec = vectorizer(np.array(res_X_train)).numpy()\n",
        "X_val_vec = vectorizer(np.array([[s] for s in X_val.to_list()])).numpy()\n",
        "X_test_vec = vectorizer(np.array([[s] for s in X_test.to_list()])).numpy()\n",
        "\n",
        "y_train = res_y_train \n",
        "y_val = np.array(y_val)\n",
        "y_test = np.array(y_test)"
      ],
      "execution_count": null,
      "outputs": []
    },
    {
      "cell_type": "markdown",
      "metadata": {
        "id": "GGIa9ydSdzyN"
      },
      "source": [
        "**Loading GloVe pretrained embedding model**"
      ]
    },
    {
      "cell_type": "code",
      "metadata": {
        "colab": {
          "base_uri": "https://localhost:8080/"
        },
        "id": "XRSicYM4Zz5z",
        "outputId": "90ea454a-ef52-409b-e884-11412d2f3c49"
      },
      "source": [
        "embeddings_index = {}\n",
        "EMBEDDING_DIM = 300\n",
        "hits = 0\n",
        "misses = 0\n",
        "\n",
        "f = open(os.path.join('/content/drive/MyDrive', 'glove.6B.300d.txt')) # Download the GloVe embeddings\n",
        "for line in f:\n",
        "    values = line.split()\n",
        "    word = values[0]\n",
        "    coefs = np.asarray(values[1:], dtype='float32')\n",
        "    embeddings_index[word] = coefs\n",
        "f.close()\n",
        "\n",
        "print('Found %s word vectors.' % len(embeddings_index))\n",
        "\n",
        "embedding_matrix = np.zeros((len(word_index) + 1, EMBEDDING_DIM))\n",
        "for word, i in word_index.items():\n",
        "    embedding_vector = embeddings_index.get(word)\n",
        "    if embedding_vector is not None:\n",
        "        # words not found in embedding index will be all-zeros.\n",
        "        embedding_matrix[i] = embedding_vector\n",
        "        hits += 1\n",
        "    else:\n",
        "        misses += 1\n",
        "print(\"Converted %d words (%d misses)\" % (hits, misses))"
      ],
      "execution_count": null,
      "outputs": [
        {
          "output_type": "stream",
          "name": "stdout",
          "text": [
            "Found 400000 word vectors.\n",
            "Converted 17967 words (2033 misses)\n"
          ]
        }
      ]
    },
    {
      "cell_type": "code",
      "metadata": {
        "colab": {
          "base_uri": "https://localhost:8080/"
        },
        "id": "Xq8F9wBNmBrL",
        "outputId": "d54db2d6-ef88-494a-eaa0-00995b703c87"
      },
      "source": [
        "embedding_matrix.shape"
      ],
      "execution_count": null,
      "outputs": [
        {
          "output_type": "execute_result",
          "data": {
            "text/plain": [
              "(20001, 300)"
            ]
          },
          "metadata": {},
          "execution_count": 15
        }
      ]
    },
    {
      "cell_type": "markdown",
      "metadata": {
        "id": "JkAskEnKHBaQ"
      },
      "source": [
        "## LSTM-based models"
      ]
    },
    {
      "cell_type": "code",
      "metadata": {
        "id": "KlJERbvJ8Kzz"
      },
      "source": [
        "# Set up parameters\n",
        "n_epochs = 15\n",
        "n_units = 64\n",
        "optimizer = 'rmsprop'\n",
        "MAX_SEQUENCE_LENGTH = 225"
      ],
      "execution_count": null,
      "outputs": []
    },
    {
      "cell_type": "markdown",
      "metadata": {
        "id": "DkjIdh7WFuTV"
      },
      "source": [
        "### Vanilla biLSTM"
      ]
    },
    {
      "cell_type": "code",
      "metadata": {
        "colab": {
          "base_uri": "https://localhost:8080/"
        },
        "id": "4TrNNAsjJxaX",
        "outputId": "f3fdd142-d472-4659-becb-57ffe52a9738"
      },
      "source": [
        "#### Creating the model ########\n",
        "input_dim = len(word_index) + 1\n",
        "\n",
        "## Block 1\n",
        "embedding_layer = tf.keras.layers.Embedding(input_dim = input_dim,\n",
        "                                            output_dim = EMBEDDING_DIM, \n",
        "                                            weights=[embedding_matrix],   \n",
        "                                            trainable=True,\n",
        "                                            mask_zero = True) # turn into dense vector representation\n",
        "sequence_input = tf.keras.Input(shape=(X_train_vec.shape[1],), dtype=tf.int64)\n",
        "embedded_sequences = embedding_layer(sequence_input)\n",
        "\n",
        "x = tf.keras.layers.Bidirectional(tf.keras.layers.LSTM(n_units,  return_sequences = False,  trainable=True)) (embedded_sequences) # take inputs of embeddings, and all output hidden states with return_sequences = True\n",
        "x = tf.keras.layers.Dense(32, activation = 'relu') (x)\n",
        "x = tf.keras.layers.Dropout(0.2) (x)\n",
        "\n",
        "## output layer\n",
        "output = tf.keras.layers.Dense(1, activation = 'sigmoid') (x)\n",
        "\n",
        "## combine in one\n",
        "model = tf.keras.Model(sequence_input,output)\n",
        "print(model.summary())\n",
        "\n",
        "## Compile the model for training\n",
        "model.compile(loss = tf.keras.losses.BinaryCrossentropy(from_logits = False),\n",
        "              optimizer = optimizer, \n",
        "              metrics = ['accuracy'])\n",
        "\n",
        "# Training the model\n",
        "\n",
        "history = model.fit(X_train_vec, y_train, validation_data=(X_val_vec, y_val),\n",
        "          epochs=n_epochs, batch_size=32)\n",
        "\n",
        "\n",
        "# testing the model\n",
        "### pred_label = tf.argmax(model.predict(test),1)\n",
        "pred_label = (model.predict(X_test_vec) > 0.5).astype(\"int32\")\n",
        "true_label = y_test \n",
        "\n",
        "test_loss, test_acc = model.evaluate (X_test_vec,y_test)\n",
        "print('Test acurracy: ', test_acc)\n",
        "print('\\nTesting performance:\\n Loss: {:.3f} - Accuracy: {:.3f}'. format(test_loss, test_acc))\n",
        "printing_eval_scores (true_label, pred_label, report=True)\n",
        "roc['vanila-biLSTM'] = get_roc_curve(true_label, pred_label)"
      ],
      "execution_count": null,
      "outputs": [
        {
          "output_type": "stream",
          "name": "stdout",
          "text": [
            "Model: \"model_1\"\n",
            "_________________________________________________________________\n",
            " Layer (type)                Output Shape              Param #   \n",
            "=================================================================\n",
            " input_2 (InputLayer)        [(None, 225)]             0         \n",
            "                                                                 \n",
            " embedding_1 (Embedding)     (None, 225, 300)          6000300   \n",
            "                                                                 \n",
            " bidirectional_1 (Bidirectio  (None, 64)               85248     \n",
            " nal)                                                            \n",
            "                                                                 \n",
            " dense_2 (Dense)             (None, 32)                2080      \n",
            "                                                                 \n",
            " dropout_1 (Dropout)         (None, 32)                0         \n",
            "                                                                 \n",
            " dense_3 (Dense)             (None, 1)                 33        \n",
            "                                                                 \n",
            "=================================================================\n",
            "Total params: 6,087,661\n",
            "Trainable params: 6,087,661\n",
            "Non-trainable params: 0\n",
            "_________________________________________________________________\n",
            "None\n",
            "Epoch 1/15\n",
            "365/365 [==============================] - 42s 88ms/step - loss: 0.3794 - accuracy: 0.8229 - val_loss: 0.3004 - val_accuracy: 0.9062\n",
            "Epoch 2/15\n",
            "365/365 [==============================] - 29s 79ms/step - loss: 0.0669 - accuracy: 0.9772 - val_loss: 0.4584 - val_accuracy: 0.9056\n",
            "Epoch 3/15\n",
            "365/365 [==============================] - 29s 79ms/step - loss: 0.0101 - accuracy: 0.9969 - val_loss: 0.7906 - val_accuracy: 0.9106\n",
            "Epoch 4/15\n",
            "365/365 [==============================] - 29s 79ms/step - loss: 0.0055 - accuracy: 0.9988 - val_loss: 1.2160 - val_accuracy: 0.9087\n",
            "Epoch 5/15\n",
            "365/365 [==============================] - 29s 80ms/step - loss: 0.0017 - accuracy: 0.9996 - val_loss: 1.3287 - val_accuracy: 0.9106\n",
            "Epoch 6/15\n",
            "365/365 [==============================] - 29s 80ms/step - loss: 0.0025 - accuracy: 0.9996 - val_loss: 1.1536 - val_accuracy: 0.9062\n",
            "Epoch 7/15\n",
            "365/365 [==============================] - 29s 80ms/step - loss: 0.0017 - accuracy: 0.9998 - val_loss: 1.3238 - val_accuracy: 0.9062\n",
            "Epoch 8/15\n",
            "365/365 [==============================] - 29s 81ms/step - loss: 0.0016 - accuracy: 0.9998 - val_loss: 1.5708 - val_accuracy: 0.9075\n",
            "Epoch 9/15\n",
            "365/365 [==============================] - 29s 80ms/step - loss: 0.0015 - accuracy: 0.9999 - val_loss: 1.6171 - val_accuracy: 0.9056\n",
            "Epoch 10/15\n",
            "365/365 [==============================] - 30s 81ms/step - loss: 0.0012 - accuracy: 0.9998 - val_loss: 1.8917 - val_accuracy: 0.9075\n",
            "Epoch 11/15\n",
            "365/365 [==============================] - 29s 79ms/step - loss: 0.0022 - accuracy: 0.9997 - val_loss: 1.5638 - val_accuracy: 0.9006\n",
            "Epoch 12/15\n",
            "365/365 [==============================] - 29s 80ms/step - loss: 0.0014 - accuracy: 0.9998 - val_loss: 1.7651 - val_accuracy: 0.9037\n",
            "Epoch 13/15\n",
            "365/365 [==============================] - 29s 80ms/step - loss: 0.0013 - accuracy: 0.9998 - val_loss: 1.7128 - val_accuracy: 0.9025\n",
            "Epoch 14/15\n",
            "365/365 [==============================] - 29s 80ms/step - loss: 0.0012 - accuracy: 0.9999 - val_loss: 2.1565 - val_accuracy: 0.9093\n",
            "Epoch 15/15\n",
            "365/365 [==============================] - 29s 80ms/step - loss: 9.2015e-04 - accuracy: 0.9999 - val_loss: 2.1792 - val_accuracy: 0.9087\n",
            "63/63 [==============================] - 2s 28ms/step - loss: 2.5643 - accuracy: 0.8991\n",
            "Test acurracy:  0.8991053700447083\n",
            "\n",
            "Testing performance:\n",
            " Loss: 2.564 - Accuracy: 0.899\n",
            "accuracy score: 0.899\n",
            "precision score: 0.645\n",
            "recall score: 0.546\n",
            "F1 score: 0.559\n",
            "              precision    recall  f1-score   support\n",
            "\n",
            "           0       0.91      0.98      0.95      1823\n",
            "           1       0.38      0.11      0.17       189\n",
            "\n",
            "    accuracy                           0.90      2012\n",
            "   macro avg       0.64      0.55      0.56      2012\n",
            "weighted avg       0.86      0.90      0.87      2012\n",
            "\n"
          ]
        }
      ]
    },
    {
      "cell_type": "markdown",
      "metadata": {
        "id": "nfHepla4thHx"
      },
      "source": [
        "### Stacked biLSTM"
      ]
    },
    {
      "cell_type": "code",
      "metadata": {
        "colab": {
          "base_uri": "https://localhost:8080/"
        },
        "id": "Z8frtcdr6ZFl",
        "outputId": "ec1dfa71-f007-4ad4-83f2-4b446b23a3be"
      },
      "source": [
        "#### Creating the model ########\n",
        "input_dim = len(word_index) + 1\n",
        "\n",
        "## Block 1\n",
        "#x = encoder (_input) # vectorize the data input \n",
        "embedding_layer = tf.keras.layers.Embedding(input_dim = input_dim,\n",
        "                                            output_dim = EMBEDDING_DIM, \n",
        "                                            weights=[embedding_matrix],  #embeddings_initializer=tf.keras.initializers.Constant(embedding_matrix), \n",
        "                                            trainable=True,\n",
        "                                            mask_zero = True) # turn into dense vector representation\n",
        "sequence_input = tf.keras.Input(shape=(X_train_vec.shape[1],), dtype=tf.int64)\n",
        "embedded_sequences = embedding_layer(sequence_input)\n",
        "\n",
        "x = tf.keras.layers.Bidirectional(tf.keras.layers.LSTM(n_units,  return_sequences = True,  trainable=True)) (embedded_sequences) # take inputs of embeddings, and all output hidden states with return_sequences = True\n",
        "x = tf.keras.layers.Bidirectional(tf.keras.layers.LSTM(n_units,  return_sequences = False,  trainable=True)) (x) \n",
        "x = tf.keras.layers.Dense(32, activation = 'relu') (x)\n",
        "x = tf.keras.layers.Dropout(0.2) (x)\n",
        "## output layer\n",
        "output = tf.keras.layers.Dense(1, activation = 'sigmoid') (x)\n",
        "\n",
        "## combine in one\n",
        "model = tf.keras.Model(sequence_input,output)\n",
        "print(model.summary())\n",
        "\n",
        "## Compile the model for training\n",
        "model.compile(loss = tf.keras.losses.BinaryCrossentropy(from_logits = False),\n",
        "              optimizer = optimizer, \n",
        "              metrics = ['accuracy'])\n",
        "\n",
        "# Training the model\n",
        "\n",
        "history = model.fit(X_train_vec, y_train, validation_data=(X_val_vec, y_val),\n",
        "          epochs=n_epochs, batch_size=32)\n",
        "\n",
        "\n",
        "# testing the model\n",
        "### pred_label = tf.argmax(model.predict(test),1)\n",
        "pred_label = (model.predict(X_test_vec) > 0.5).astype(\"int32\")\n",
        "true_label = y_test #np.concatenate([y for x, y in test_dataset], axis=0)\n",
        "\n",
        "test_loss, test_acc = model.evaluate (X_test_vec,y_test)\n",
        "print('Test acurracy: ', test_acc)\n",
        "print('\\nTesting performance:\\n Loss: {:.3f} - Accuracy: {:.3f}'. format(test_loss, test_acc))\n",
        "printing_eval_scores (true_label, pred_label, report=True)\n",
        "roc['stacked-biLSTM'] = get_roc_curve(true_label, pred_label)"
      ],
      "execution_count": null,
      "outputs": [
        {
          "output_type": "stream",
          "name": "stdout",
          "text": [
            "Model: \"model_2\"\n",
            "_________________________________________________________________\n",
            " Layer (type)                Output Shape              Param #   \n",
            "=================================================================\n",
            " input_3 (InputLayer)        [(None, 225)]             0         \n",
            "                                                                 \n",
            " embedding_2 (Embedding)     (None, 225, 300)          6000300   \n",
            "                                                                 \n",
            " bidirectional_2 (Bidirectio  (None, 225, 64)          85248     \n",
            " nal)                                                            \n",
            "                                                                 \n",
            " bidirectional_3 (Bidirectio  (None, 64)               24832     \n",
            " nal)                                                            \n",
            "                                                                 \n",
            " dense_4 (Dense)             (None, 32)                2080      \n",
            "                                                                 \n",
            " dropout_2 (Dropout)         (None, 32)                0         \n",
            "                                                                 \n",
            " dense_5 (Dense)             (None, 1)                 33        \n",
            "                                                                 \n",
            "=================================================================\n",
            "Total params: 6,112,493\n",
            "Trainable params: 6,112,493\n",
            "Non-trainable params: 0\n",
            "_________________________________________________________________\n",
            "None\n",
            "Epoch 1/15\n",
            "365/365 [==============================] - 78s 160ms/step - loss: 0.3740 - accuracy: 0.8283 - val_loss: 0.3277 - val_accuracy: 0.8901\n",
            "Epoch 2/15\n",
            "365/365 [==============================] - 53s 145ms/step - loss: 0.0696 - accuracy: 0.9754 - val_loss: 0.5422 - val_accuracy: 0.8534\n",
            "Epoch 3/15\n",
            "365/365 [==============================] - 52s 143ms/step - loss: 0.0138 - accuracy: 0.9955 - val_loss: 0.9336 - val_accuracy: 0.9087\n",
            "Epoch 4/15\n",
            "365/365 [==============================] - 53s 144ms/step - loss: 0.0057 - accuracy: 0.9985 - val_loss: 0.7559 - val_accuracy: 0.9025\n",
            "Epoch 5/15\n",
            "365/365 [==============================] - 52s 144ms/step - loss: 0.0031 - accuracy: 0.9994 - val_loss: 1.0505 - val_accuracy: 0.9019\n",
            "Epoch 6/15\n",
            "365/365 [==============================] - 52s 142ms/step - loss: 0.0019 - accuracy: 0.9995 - val_loss: 1.3251 - val_accuracy: 0.9031\n",
            "Epoch 7/15\n",
            "365/365 [==============================] - 53s 144ms/step - loss: 0.0031 - accuracy: 0.9994 - val_loss: 1.3437 - val_accuracy: 0.9006\n",
            "Epoch 8/15\n",
            "365/365 [==============================] - 53s 144ms/step - loss: 0.0012 - accuracy: 0.9997 - val_loss: 1.9621 - val_accuracy: 0.9068\n",
            "Epoch 9/15\n",
            "365/365 [==============================] - 52s 142ms/step - loss: 0.0018 - accuracy: 0.9999 - val_loss: 1.4829 - val_accuracy: 0.9081\n",
            "Epoch 10/15\n",
            "365/365 [==============================] - 52s 142ms/step - loss: 0.0032 - accuracy: 0.9997 - val_loss: 1.8648 - val_accuracy: 0.9087\n",
            "Epoch 11/15\n",
            "365/365 [==============================] - 52s 142ms/step - loss: 0.0019 - accuracy: 0.9999 - val_loss: 2.1389 - val_accuracy: 0.9093\n",
            "Epoch 12/15\n",
            "365/365 [==============================] - 52s 144ms/step - loss: 0.0017 - accuracy: 0.9999 - val_loss: 1.7639 - val_accuracy: 0.9062\n",
            "Epoch 13/15\n",
            "365/365 [==============================] - 52s 143ms/step - loss: 0.0020 - accuracy: 0.9998 - val_loss: 2.4325 - val_accuracy: 0.9093\n",
            "Epoch 14/15\n",
            "365/365 [==============================] - 52s 144ms/step - loss: 0.0024 - accuracy: 0.9996 - val_loss: 2.2859 - val_accuracy: 0.9068\n",
            "Epoch 15/15\n",
            "365/365 [==============================] - 52s 142ms/step - loss: 0.0014 - accuracy: 0.9999 - val_loss: 2.1407 - val_accuracy: 0.9062\n",
            "63/63 [==============================] - 3s 48ms/step - loss: 2.3042 - accuracy: 0.9036\n",
            "Test acurracy:  0.903578519821167\n",
            "\n",
            "Testing performance:\n",
            " Loss: 2.304 - Accuracy: 0.904\n",
            "accuracy score: 0.904\n",
            "precision score: 0.682\n",
            "recall score: 0.551\n",
            "F1 score: 0.567\n",
            "              precision    recall  f1-score   support\n",
            "\n",
            "           0       0.91      0.99      0.95      1823\n",
            "           1       0.45      0.12      0.18       189\n",
            "\n",
            "    accuracy                           0.90      2012\n",
            "   macro avg       0.68      0.55      0.57      2012\n",
            "weighted avg       0.87      0.90      0.88      2012\n",
            "\n"
          ]
        }
      ]
    },
    {
      "cell_type": "markdown",
      "metadata": {
        "id": "KVXX5Q_Qtvt1"
      },
      "source": [
        "### biLSTM with attention"
      ]
    },
    {
      "cell_type": "code",
      "metadata": {
        "colab": {
          "base_uri": "https://localhost:8080/"
        },
        "id": "niMMyDMZtvGA",
        "outputId": "e704e458-ece9-44ae-b285-ab51f4aa2760"
      },
      "source": [
        "#### Creating the model ########\n",
        "input_dim = len(word_index) + 1\n",
        "\n",
        "## Block 1\n",
        "embedding_layer = tf.keras.layers.Embedding(input_dim = input_dim,\n",
        "                                            output_dim = EMBEDDING_DIM, \n",
        "                                            weights=[embedding_matrix],  #embeddings_initializer=tf.keras.initializers.Constant(embedding_matrix), \n",
        "                                            trainable=True,\n",
        "                                            mask_zero = True) # turn into dense vector representation\n",
        "sequence_input = tf.keras.Input(shape=(X_train_vec.shape[1],), dtype=tf.int64)\n",
        "embedded_sequences = embedding_layer(sequence_input)\n",
        "\n",
        "lstm_hs = tf.keras.layers.Bidirectional(tf.keras.layers.LSTM(n_units,  return_sequences = True,  trainable=True)) (embedded_sequences) # take inputs of embeddings, and all output hidden states with return_sequences = True\n",
        "\n",
        "# attention layer\n",
        "attention = tf.keras.layers.Dense(1, activation = 'tanh') (lstm_hs) #apply tanh activation function for all hidden states LSTM produced\n",
        "attention = tf.keras.layers.Flatten()(attention) # transform tensor of attention weights in a vector \n",
        "attention = tf.keras.layers.Activation('softmax') (attention) # applying softmax activation function of the hidden states output to get attention weights between 0 and 1, and sum to 1\n",
        "attention = tf.keras.layers.RepeatVector (n_units*2) (attention) # repeat attention weights to have same dimensions with hidden states (= unit*2 as it's biLSTM) for compute element-wise multiplying\n",
        "attention = tf.keras.layers.Permute ([2,1]) (attention) # permute the dimension of the attention weight for being able to multiply with hidden states\n",
        "\n",
        "attention_weight = tf.keras.layers.Multiply()([lstm_hs, attention]) # computing element-wise mutiplying hidden states with the attention weight as updated sentence representations\n",
        "attention_weight = tf.keras.layers.Lambda(lambda x: K.sum(x, axis = 1)) (attention_weight) # summing up all weights in the updated sentence representation for unputing into a fully-connected layer at the end \n",
        "\n",
        "## output layer\n",
        "dropout = tf.keras.layers.Dropout(0.2) (attention_weight)\n",
        "output = tf.keras.layers.Dense(1, activation = 'sigmoid') (dropout)\n",
        "\n",
        "## combine in one\n",
        "model = tf.keras.Model(sequence_input,output)\n",
        "print(model.summary())\n",
        "\n",
        "## Compile the model for training\n",
        "model.compile(loss = tf.keras.losses.BinaryCrossentropy(from_logits = False),\n",
        "              optimizer = optimizer, #tf.keras.optimizers.Adam(learning_rate=1e-4),\n",
        "              metrics = ['accuracy'])\n",
        "\n",
        "# Training the model\n",
        "\n",
        "history = model.fit(X_train_vec, y_train, validation_data=(X_val_vec, y_val),\n",
        "          epochs=n_epochs, batch_size=32)\n",
        "\n",
        "\n",
        "# testing the model\n",
        "pred_label = (model.predict(X_test_vec) > 0.5).astype(\"int32\")\n",
        "true_label = y_test #np.concatenate([y for x, y in test_dataset], axis=0)\n",
        "\n",
        "test_loss, test_acc = model.evaluate (X_test_vec,y_test)\n",
        "print('Test acurracy: ', test_acc)\n",
        "print('\\nTesting performance:\\n Loss: {:.3f} - Accuracy: {:.3f}'. format(test_loss, test_acc))\n",
        "printing_eval_scores (true_label, pred_label, report=True)\n",
        "roc['att-biLSTM'] = get_roc_curve(true_label, pred_label)"
      ],
      "execution_count": null,
      "outputs": [
        {
          "output_type": "stream",
          "name": "stdout",
          "text": [
            "Model: \"model_5\"\n",
            "__________________________________________________________________________________________________\n",
            " Layer (type)                   Output Shape         Param #     Connected to                     \n",
            "==================================================================================================\n",
            " input_6 (InputLayer)           [(None, 225)]        0           []                               \n",
            "                                                                                                  \n",
            " embedding_5 (Embedding)        (None, 225, 300)     6000300     ['input_6[0][0]']                \n",
            "                                                                                                  \n",
            " bidirectional_5 (Bidirectional  (None, 225, 128)    186880      ['embedding_5[0][0]']            \n",
            " )                                                                                                \n",
            "                                                                                                  \n",
            " dense_10 (Dense)               (None, 225, 1)       129         ['bidirectional_5[0][0]']        \n",
            "                                                                                                  \n",
            " flatten_2 (Flatten)            (None, 225)          0           ['dense_10[0][0]']               \n",
            "                                                                                                  \n",
            " activation_1 (Activation)      (None, 225)          0           ['flatten_2[0][0]']              \n",
            "                                                                                                  \n",
            " repeat_vector_1 (RepeatVector)  (None, 128, 225)    0           ['activation_1[0][0]']           \n",
            "                                                                                                  \n",
            " permute_1 (Permute)            (None, 225, 128)     0           ['repeat_vector_1[0][0]']        \n",
            "                                                                                                  \n",
            " multiply_1 (Multiply)          (None, 225, 128)     0           ['bidirectional_5[0][0]',        \n",
            "                                                                  'permute_1[0][0]']              \n",
            "                                                                                                  \n",
            " lambda_1 (Lambda)              (None, 128)          0           ['multiply_1[0][0]']             \n",
            "                                                                                                  \n",
            " dropout_5 (Dropout)            (None, 128)          0           ['lambda_1[0][0]']               \n",
            "                                                                                                  \n",
            " dense_11 (Dense)               (None, 1)            129         ['dropout_5[0][0]']              \n",
            "                                                                                                  \n",
            "==================================================================================================\n",
            "Total params: 6,187,438\n",
            "Trainable params: 6,187,438\n",
            "Non-trainable params: 0\n",
            "__________________________________________________________________________________________________\n",
            "None\n",
            "Epoch 1/15\n",
            "365/365 [==============================] - 47s 96ms/step - loss: 0.4458 - accuracy: 0.8035 - val_loss: 0.4525 - val_accuracy: 0.8292\n",
            "Epoch 2/15\n",
            "365/365 [==============================] - 31s 86ms/step - loss: 0.1641 - accuracy: 0.9468 - val_loss: 0.4006 - val_accuracy: 0.8963\n",
            "Epoch 3/15\n",
            "365/365 [==============================] - 32s 87ms/step - loss: 0.0541 - accuracy: 0.9860 - val_loss: 0.6150 - val_accuracy: 0.9056\n",
            "Epoch 4/15\n",
            "365/365 [==============================] - 32s 87ms/step - loss: 0.0184 - accuracy: 0.9959 - val_loss: 0.8237 - val_accuracy: 0.9043\n",
            "Epoch 5/15\n",
            "365/365 [==============================] - 31s 86ms/step - loss: 0.0084 - accuracy: 0.9980 - val_loss: 0.8866 - val_accuracy: 0.9012\n",
            "Epoch 6/15\n",
            "365/365 [==============================] - 32s 86ms/step - loss: 0.0072 - accuracy: 0.9985 - val_loss: 0.8388 - val_accuracy: 0.9031\n",
            "Epoch 7/15\n",
            "365/365 [==============================] - 32s 86ms/step - loss: 0.0041 - accuracy: 0.9989 - val_loss: 1.4217 - val_accuracy: 0.9037\n",
            "Epoch 8/15\n",
            "365/365 [==============================] - 32s 87ms/step - loss: 0.0022 - accuracy: 0.9997 - val_loss: 1.7048 - val_accuracy: 0.9043\n",
            "Epoch 9/15\n",
            "365/365 [==============================] - 31s 86ms/step - loss: 0.0085 - accuracy: 0.9988 - val_loss: 1.4365 - val_accuracy: 0.9050\n",
            "Epoch 10/15\n",
            "365/365 [==============================] - 32s 87ms/step - loss: 0.0054 - accuracy: 0.9993 - val_loss: 1.5818 - val_accuracy: 0.9056\n",
            "Epoch 11/15\n",
            "365/365 [==============================] - 31s 86ms/step - loss: 0.0061 - accuracy: 0.9995 - val_loss: 1.5664 - val_accuracy: 0.8950\n",
            "Epoch 12/15\n",
            "365/365 [==============================] - 31s 86ms/step - loss: 0.0040 - accuracy: 0.9993 - val_loss: 2.0714 - val_accuracy: 0.9025\n",
            "Epoch 13/15\n",
            "365/365 [==============================] - 31s 86ms/step - loss: 0.0025 - accuracy: 0.9997 - val_loss: 1.9171 - val_accuracy: 0.9006\n",
            "Epoch 14/15\n",
            "365/365 [==============================] - 31s 86ms/step - loss: 0.0011 - accuracy: 0.9999 - val_loss: 1.8067 - val_accuracy: 0.8944\n",
            "Epoch 15/15\n",
            "365/365 [==============================] - 32s 87ms/step - loss: 0.0025 - accuracy: 0.9996 - val_loss: 1.9601 - val_accuracy: 0.8919\n",
            "63/63 [==============================] - 2s 29ms/step - loss: 1.9665 - accuracy: 0.8907\n",
            "Test acurracy:  0.890656054019928\n",
            "\n",
            "Testing performance:\n",
            " Loss: 1.967 - Accuracy: 0.891\n",
            "accuracy score: 0.891\n",
            "precision score: 0.650\n",
            "recall score: 0.603\n",
            "F1 score: 0.620\n",
            "              precision    recall  f1-score   support\n",
            "\n",
            "           0       0.92      0.96      0.94      1823\n",
            "           1       0.38      0.25      0.30       189\n",
            "\n",
            "    accuracy                           0.89      2012\n",
            "   macro avg       0.65      0.60      0.62      2012\n",
            "weighted avg       0.87      0.89      0.88      2012\n",
            "\n"
          ]
        }
      ]
    },
    {
      "cell_type": "markdown",
      "metadata": {
        "id": "6d4V2HXl3ddD"
      },
      "source": [
        "## CNN"
      ]
    },
    {
      "cell_type": "code",
      "metadata": {
        "id": "Jqq0ZJVc3trL",
        "colab": {
          "base_uri": "https://localhost:8080/"
        },
        "outputId": "54167f8b-3fd4-4df2-83b4-760eb7961540"
      },
      "source": [
        "n_epochs = 20\n",
        "n_units = 64\n",
        "optimizer = 'adam'\n",
        "MAX_SEQUENCE_LENGTH = 225\n",
        "\n",
        "#### Creating the model ########\n",
        "input_dim = len(word_index) + 1\n",
        "\n",
        "## Embedding layer\n",
        "embedding_layer = tf.keras.layers.Embedding(input_dim = input_dim,\n",
        "                                            output_dim = EMBEDDING_DIM, \n",
        "                                            weights=[embedding_matrix],  #embeddings_initializer=tf.keras.initializers.Constant(embedding_matrix), \n",
        "                                            trainable=True,\n",
        "                                            mask_zero = True) # turn into dense vector representation\n",
        "sequence_input = tf.keras.Input(shape=(X_train_vec.shape[1],), dtype=tf.int64)\n",
        "embedded_sequences = embedding_layer(sequence_input)\n",
        "\n",
        "# CNN layers\n",
        "x = tf.keras.layers.Conv1D(n_units, 5 , activation='relu') (embedded_sequences)\n",
        "x = tf.keras.layers.MaxPooling1D() (x)\n",
        "x = tf.keras.layers.Flatten() (x)\n",
        "x = tf.keras.layers.Dense(32, activation='relu') (x) #\n",
        "x = tf.keras.layers.Dropout(0.2) (x)\n",
        "\n",
        "## output layer\n",
        "output = tf.keras.layers.Dense(1, activation = 'sigmoid') (x)\n",
        "\n",
        "## combine in one\n",
        "model = tf.keras.Model(sequence_input,output)\n",
        "print(model.summary())\n",
        "\n",
        "## Compile the model for training\n",
        "model.compile(loss = tf.keras.losses.BinaryCrossentropy(from_logits = False),\n",
        "              optimizer = optimizer, #tf.keras.optimizers.Adam(learning_rate=1e-4),\n",
        "              metrics = ['accuracy'])\n",
        "\n",
        "# Training the model\n",
        "\n",
        "history = model.fit(X_train_vec, y_train, validation_data=(X_val_vec, y_val),\n",
        "          epochs=n_epochs, batch_size=32)\n",
        "\n",
        "\n",
        "# testing the model\n",
        "### pred_label = tf.argmax(model.predict(test),1)\n",
        "pred_label = (model.predict(X_test_vec) > 0.5).astype(\"int32\")\n",
        "true_label = y_test #np.concatenate([y for x, y in test_dataset], axis=0)\n",
        "\n",
        "test_loss, test_acc = model.evaluate (X_test_vec,y_test)\n",
        "print('Test acurracy: ', test_acc)\n",
        "print('\\nTesting performance:\\n Loss: {:.3f} - Accuracy: {:.3f}'. format(test_loss, test_acc))\n",
        "printing_eval_scores (true_label, pred_label, report=True)\n",
        "roc['CNN'] = get_roc_curve(true_label, pred_label)"
      ],
      "execution_count": null,
      "outputs": [
        {
          "output_type": "stream",
          "name": "stdout",
          "text": [
            "Model: \"model_4\"\n",
            "_________________________________________________________________\n",
            " Layer (type)                Output Shape              Param #   \n",
            "=================================================================\n",
            " input_5 (InputLayer)        [(None, 225)]             0         \n",
            "                                                                 \n",
            " embedding_4 (Embedding)     (None, 225, 300)          6000300   \n",
            "                                                                 \n",
            " conv1d (Conv1D)             (None, 221, 64)           96064     \n",
            "                                                                 \n",
            " max_pooling1d (MaxPooling1D  (None, 110, 64)          0         \n",
            " )                                                               \n",
            "                                                                 \n",
            " flatten_1 (Flatten)         (None, 7040)              0         \n",
            "                                                                 \n",
            " dense_8 (Dense)             (None, 32)                225312    \n",
            "                                                                 \n",
            " dropout_4 (Dropout)         (None, 32)                0         \n",
            "                                                                 \n",
            " dense_9 (Dense)             (None, 1)                 33        \n",
            "                                                                 \n",
            "=================================================================\n",
            "Total params: 6,321,709\n",
            "Trainable params: 6,321,709\n",
            "Non-trainable params: 0\n",
            "_________________________________________________________________\n",
            "None\n",
            "Epoch 1/20\n",
            "365/365 [==============================] - 13s 17ms/step - loss: 0.2548 - accuracy: 0.8856 - val_loss: 0.4349 - val_accuracy: 0.9093\n",
            "Epoch 2/20\n",
            "365/365 [==============================] - 6s 16ms/step - loss: 0.0112 - accuracy: 0.9980 - val_loss: 0.6378 - val_accuracy: 0.9118\n",
            "Epoch 3/20\n",
            "365/365 [==============================] - 6s 16ms/step - loss: 0.0027 - accuracy: 0.9997 - val_loss: 0.6010 - val_accuracy: 0.9099\n",
            "Epoch 4/20\n",
            "365/365 [==============================] - 6s 17ms/step - loss: 0.0016 - accuracy: 0.9999 - val_loss: 0.7112 - val_accuracy: 0.9087\n",
            "Epoch 5/20\n",
            "365/365 [==============================] - 6s 16ms/step - loss: 9.6580e-04 - accuracy: 0.9999 - val_loss: 0.7124 - val_accuracy: 0.9087\n",
            "Epoch 6/20\n",
            "365/365 [==============================] - 6s 16ms/step - loss: 6.8200e-04 - accuracy: 0.9998 - val_loss: 0.6934 - val_accuracy: 0.9106\n",
            "Epoch 7/20\n",
            "365/365 [==============================] - 6s 16ms/step - loss: 8.2126e-04 - accuracy: 0.9997 - val_loss: 0.7745 - val_accuracy: 0.9112\n",
            "Epoch 8/20\n",
            "365/365 [==============================] - 6s 16ms/step - loss: 9.1510e-04 - accuracy: 0.9996 - val_loss: 0.7559 - val_accuracy: 0.9081\n",
            "Epoch 9/20\n",
            "365/365 [==============================] - 6s 16ms/step - loss: 8.3271e-04 - accuracy: 0.9996 - val_loss: 0.8396 - val_accuracy: 0.9087\n",
            "Epoch 10/20\n",
            "365/365 [==============================] - 6s 16ms/step - loss: 0.0115 - accuracy: 0.9965 - val_loss: 0.6225 - val_accuracy: 0.8994\n",
            "Epoch 11/20\n",
            "365/365 [==============================] - 6s 16ms/step - loss: 0.0289 - accuracy: 0.9902 - val_loss: 0.9042 - val_accuracy: 0.9037\n",
            "Epoch 12/20\n",
            "365/365 [==============================] - 6s 16ms/step - loss: 0.0015 - accuracy: 0.9997 - val_loss: 0.8922 - val_accuracy: 0.9043\n",
            "Epoch 13/20\n",
            "365/365 [==============================] - 6s 17ms/step - loss: 6.3648e-04 - accuracy: 0.9997 - val_loss: 1.0238 - val_accuracy: 0.9062\n",
            "Epoch 14/20\n",
            "365/365 [==============================] - 6s 16ms/step - loss: 4.5240e-04 - accuracy: 0.9999 - val_loss: 1.0363 - val_accuracy: 0.9056\n",
            "Epoch 15/20\n",
            "365/365 [==============================] - 6s 16ms/step - loss: 7.8864e-04 - accuracy: 0.9998 - val_loss: 1.1025 - val_accuracy: 0.9068\n",
            "Epoch 16/20\n",
            "365/365 [==============================] - 6s 16ms/step - loss: 7.3238e-04 - accuracy: 0.9997 - val_loss: 1.1437 - val_accuracy: 0.9062\n",
            "Epoch 17/20\n",
            "365/365 [==============================] - 6s 16ms/step - loss: 5.3978e-04 - accuracy: 0.9998 - val_loss: 1.1522 - val_accuracy: 0.9056\n",
            "Epoch 18/20\n",
            "365/365 [==============================] - 6s 16ms/step - loss: 1.9611e-04 - accuracy: 1.0000 - val_loss: 1.2047 - val_accuracy: 0.9075\n",
            "Epoch 19/20\n",
            "365/365 [==============================] - 6s 16ms/step - loss: 0.0011 - accuracy: 0.9998 - val_loss: 0.8241 - val_accuracy: 0.9031\n",
            "Epoch 20/20\n",
            "365/365 [==============================] - 6s 16ms/step - loss: 8.5238e-04 - accuracy: 0.9999 - val_loss: 1.0863 - val_accuracy: 0.9025\n",
            "63/63 [==============================] - 0s 5ms/step - loss: 1.1708 - accuracy: 0.9081\n",
            "Test acurracy:  0.9080516695976257\n",
            "\n",
            "Testing performance:\n",
            " Loss: 1.171 - Accuracy: 0.908\n",
            "accuracy score: 0.908\n",
            "precision score: 0.742\n",
            "recall score: 0.539\n",
            "F1 score: 0.549\n",
            "              precision    recall  f1-score   support\n",
            "\n",
            "           0       0.91      0.99      0.95      1823\n",
            "           1       0.57      0.08      0.15       189\n",
            "\n",
            "    accuracy                           0.91      2012\n",
            "   macro avg       0.74      0.54      0.55      2012\n",
            "weighted avg       0.88      0.91      0.88      2012\n",
            "\n"
          ]
        }
      ]
    },
    {
      "cell_type": "code",
      "metadata": {
        "id": "WSq2qaTFUb2h",
        "colab": {
          "base_uri": "https://localhost:8080/",
          "height": 404
        },
        "outputId": "7a28d3e7-b17d-4c5f-f874-a2c353a06685"
      },
      "source": [
        "def graph_multi_ROC (rocs):\n",
        "  # Set color for each model\n",
        "  colors = {'vanila-biLSTM': 'lightcoral','stacked-biLSTM': 'darkorange', 'att-biLSTM':'lime', 'CNN': 'deeppink'} #, 'NB': 'steelblue',  'XGB': 'purple','DT': 'magenta','RF': 'deeppink','KNN': 'darkturquoise','BERT': 'darkred', 'GPT': 'blue'\n",
        "  # Set marker for each model          \n",
        "  markers = {'vanila-biLSTM':'1--','stacked-biLSTM': 'v--', 'att-biLSTM': '^--', 'CNN':'<--'} #, 'XGB': '*--', 'DT': 'o--', 'RF': '+--', 'KNN': '.--', 'NB': 'x--', 'BERT':'<--', 'GPT': '>--'}\n",
        "  \n",
        "  plt.figure(figsize=(9,6))\n",
        "  for model in rocs:\n",
        "    plt.plot( rocs[model]['fpr'], rocs[model]['tpr'], markers[model], color=colors[model], label= model+' - AUC=' + str(rocs[model]['auc'].round(3)) )\n",
        "  \n",
        "  plt.plot([0,1], [0,1], 'k--', label='Random Chances')\n",
        "  plt.xlim([0.0,1.0])\n",
        "  plt.ylim([0.0,1.02])\n",
        "  plt.ylabel('Recall')\n",
        "  plt.xlabel('False Positive Rate (1-Specificity)')\n",
        "  plt.legend(loc='lower right') \n",
        "  plt.title( 'ROC Curves of all models')\n",
        "  plt.show()\n",
        "\n",
        "graph_multi_ROC(roc)"
      ],
      "execution_count": null,
      "outputs": [
        {
          "output_type": "display_data",
          "data": {
            "image/png": "[encoded data removed]",
            "text/plain": [
              "<Figure size 648x432 with 1 Axes>"
            ]
          },
          "metadata": {
            "needs_background": "light"
          }
        }
      ]
    },
    {
      "cell_type": "code",
      "metadata": {
        "colab": {
          "base_uri": "https://localhost:8080/"
        },
        "id": "0MSu-yXTGBmS",
        "outputId": "7b7d886d-7dff-4b10-f190-d074cddcd49c"
      },
      "source": [
        "# Export performance to a txt file\n",
        "txtfile = open('LSTM-CNN_rocs2.txt','w')\n",
        "for i in roc.keys():\n",
        "  txtfile.write(str(i) + '=' + str(roc[i])+'\\n')\n",
        "  print(roc[i])\n",
        "txtfile.close()"
      ],
      "execution_count": null,
      "outputs": [
        {
          "output_type": "stream",
          "name": "stdout",
          "text": [
            "{'fpr': array([0.        , 0.01919912, 1.        ]), 'tpr': array([0.        , 0.11111111, 1.        ]), 'auc': 0.5459559943926373, 'accuracy': 0.8991053677932406, 'macro-F1': 0.5588553283181492}\n",
            "{'fpr': array([0.        , 0.01481075, 1.        ]), 'tpr': array([0.        , 0.11640212, 1.        ]), 'auc': 0.5507956824468069, 'accuracy': 0.9035785288270378, 'macro-F1': 0.5668162669188119}\n",
            "{'fpr': array([0.        , 0.04278662, 1.        ]), 'tpr': array([0.        , 0.24867725, 1.        ]), 'auc': 0.6029453166041208, 'accuracy': 0.8906560636182903, 'macro-F1': 0.6200319329750889}\n",
            "{'fpr': array([0.        , 0.00658256, 1.        ]), 'tpr': array([0.        , 0.08465608, 1.        ]), 'auc': 0.5390367642150418, 'accuracy': 0.908051689860835, 'macro-F1': 0.5494353719016267}\n"
          ]
        }
      ]
    }
  ]
}