{
  "nbformat": 4,
  "nbformat_minor": 0,
  "metadata": {
    "colab": {
      "name": "LING5412_Final_project_Classic ML",
      "provenance": [],
      "collapsed_sections": [],
      "include_colab_link": true
    },
    "kernelspec": {
      "name": "python3",
      "display_name": "Python 3"
    },
    "language_info": {
      "name": "python"
    }
  },
  "cells": [
    {
      "cell_type": "markdown",
      "metadata": {
        "id": "view-in-github",
        "colab_type": "text"
      },
      "source": [
        "<a href=\"https://colab.research.google.com/github/NganTran-0017/LING5412/blob/main/LING5412_Final_project_Classic_ML.ipynb\" target=\"_parent\"><img src=\"https://colab.research.google.com/assets/colab-badge.svg\" alt=\"Open In Colab\"/></a>"
      ]
    },
    {
      "cell_type": "code",
      "metadata": {
        "colab": {
          "base_uri": "https://localhost:8080/"
        },
        "id": "9PJwM2i9SCNP",
        "outputId": "d1639f43-2448-42cf-bd03-e3e4b6d48b58"
      },
      "source": [
        "!pip install pytorch_pretrained_bert pytorch-nlp\n",
        "\n",
        "from pytorch_pretrained_bert import BertModel\n",
        "from torch import nn\n",
        "from pytorch_pretrained_bert import BertTokenizer\n",
        "from keras.preprocessing.sequence import pad_sequences\n",
        "import torch\n",
        "from torch.utils.data import TensorDataset, DataLoader, RandomSampler, SequentialSampler\n",
        "from torch.optim import Adam\n",
        "from torch.nn.utils import clip_grad_norm_\n",
        "from IPython.display import clear_output"
      ],
      "execution_count": 1,
      "outputs": [
        {
          "output_type": "stream",
          "name": "stdout",
          "text": [
            "Requirement already satisfied: pytorch_pretrained_bert in /usr/local/lib/python3.7/dist-packages (0.6.2)\n",
            "Requirement already satisfied: pytorch-nlp in /usr/local/lib/python3.7/dist-packages (0.5.0)\n",
            "Requirement already satisfied: numpy in /usr/local/lib/python3.7/dist-packages (from pytorch_pretrained_bert) (1.19.5)\n",
            "Requirement already satisfied: boto3 in /usr/local/lib/python3.7/dist-packages (from pytorch_pretrained_bert) (1.20.19)\n",
            "Requirement already satisfied: torch>=0.4.1 in /usr/local/lib/python3.7/dist-packages (from pytorch_pretrained_bert) (1.10.0+cu111)\n",
            "Requirement already satisfied: regex in /usr/local/lib/python3.7/dist-packages (from pytorch_pretrained_bert) (2019.12.20)\n",
            "Requirement already satisfied: tqdm in /usr/local/lib/python3.7/dist-packages (from pytorch_pretrained_bert) (4.62.3)\n",
            "Requirement already satisfied: requests in /usr/local/lib/python3.7/dist-packages (from pytorch_pretrained_bert) (2.23.0)\n",
            "Requirement already satisfied: typing-extensions in /usr/local/lib/python3.7/dist-packages (from torch>=0.4.1->pytorch_pretrained_bert) (3.10.0.2)\n",
            "Requirement already satisfied: botocore<1.24.0,>=1.23.19 in /usr/local/lib/python3.7/dist-packages (from boto3->pytorch_pretrained_bert) (1.23.19)\n",
            "Requirement already satisfied: s3transfer<0.6.0,>=0.5.0 in /usr/local/lib/python3.7/dist-packages (from boto3->pytorch_pretrained_bert) (0.5.0)\n",
            "Requirement already satisfied: jmespath<1.0.0,>=0.7.1 in /usr/local/lib/python3.7/dist-packages (from boto3->pytorch_pretrained_bert) (0.10.0)\n",
            "Requirement already satisfied: python-dateutil<3.0.0,>=2.1 in /usr/local/lib/python3.7/dist-packages (from botocore<1.24.0,>=1.23.19->boto3->pytorch_pretrained_bert) (2.8.2)\n",
            "Requirement already satisfied: urllib3<1.27,>=1.25.4 in /usr/local/lib/python3.7/dist-packages (from botocore<1.24.0,>=1.23.19->boto3->pytorch_pretrained_bert) (1.25.11)\n",
            "Requirement already satisfied: six>=1.5 in /usr/local/lib/python3.7/dist-packages (from python-dateutil<3.0.0,>=2.1->botocore<1.24.0,>=1.23.19->boto3->pytorch_pretrained_bert) (1.15.0)\n",
            "Requirement already satisfied: chardet<4,>=3.0.2 in /usr/local/lib/python3.7/dist-packages (from requests->pytorch_pretrained_bert) (3.0.4)\n",
            "Requirement already satisfied: certifi>=2017.4.17 in /usr/local/lib/python3.7/dist-packages (from requests->pytorch_pretrained_bert) (2021.10.8)\n",
            "Requirement already satisfied: idna<3,>=2.5 in /usr/local/lib/python3.7/dist-packages (from requests->pytorch_pretrained_bert) (2.10)\n"
          ]
        }
      ]
    },
    {
      "cell_type": "code",
      "metadata": {
        "id": "G99qOVzxSOwP",
        "colab": {
          "base_uri": "https://localhost:8080/"
        },
        "outputId": "b5001e59-2342-4555-9f2c-2ba6d518d1c3"
      },
      "source": [
        "import tarfile\n",
        "import pandas as pd\n",
        "import csv\n",
        "import seaborn as sns\n",
        "import matplotlib.pyplot as plt\n",
        "import sklearn\n",
        "import numpy as np\n",
        "from sklearn.linear_model import LogisticRegression\n",
        "from sklearn.ensemble import RandomForestClassifier\n",
        "from sklearn import tree             # tree.DecisionTreeClassifier()\n",
        "from sklearn.neighbors import KNeighborsClassifier\n",
        "from sklearn import svm #clf = svm.SVC(decision_function_shape='ovo')\n",
        "from sklearn.metrics import accuracy_score, classification_report, f1_score, confusion_matrix, recall_score\n",
        "from sklearn.model_selection import cross_validate\n",
        "from sklearn.model_selection import KFold\n",
        "from sklearn.model_selection import StratifiedKFold\n",
        "!pip install imbalanced-learn\n",
        "import imblearn\n",
        "from imblearn.over_sampling import RandomOverSampler\n",
        "from imblearn.over_sampling import SMOTE\n",
        "from sklearn.metrics import recall_score, roc_auc_score"
      ],
      "execution_count": 2,
      "outputs": [
        {
          "output_type": "stream",
          "name": "stdout",
          "text": [
            "Requirement already satisfied: imbalanced-learn in /usr/local/lib/python3.7/dist-packages (0.8.1)\n",
            "Requirement already satisfied: scipy>=0.19.1 in /usr/local/lib/python3.7/dist-packages (from imbalanced-learn) (1.4.1)\n",
            "Requirement already satisfied: scikit-learn>=0.24 in /usr/local/lib/python3.7/dist-packages (from imbalanced-learn) (1.0.1)\n",
            "Requirement already satisfied: joblib>=0.11 in /usr/local/lib/python3.7/dist-packages (from imbalanced-learn) (1.1.0)\n",
            "Requirement already satisfied: numpy>=1.13.3 in /usr/local/lib/python3.7/dist-packages (from imbalanced-learn) (1.19.5)\n",
            "Requirement already satisfied: threadpoolctl>=2.0.0 in /usr/local/lib/python3.7/dist-packages (from scikit-learn>=0.24->imbalanced-learn) (3.0.0)\n"
          ]
        }
      ]
    },
    {
      "cell_type": "code",
      "metadata": {
        "id": "N5u8SwyQcnwY"
      },
      "source": [
        "import gensim\n",
        "import gensim.downloader as api\n",
        "nlp = api.load('word2vec-google-news-300')"
      ],
      "execution_count": 3,
      "outputs": []
    },
    {
      "cell_type": "markdown",
      "metadata": {
        "id": "eHh5b74YomXY"
      },
      "source": [
        "# Loading data"
      ]
    },
    {
      "cell_type": "code",
      "metadata": {
        "id": "qvw2VYN_dTtE",
        "colab": {
          "base_uri": "https://localhost:8080/"
        },
        "outputId": "454bf2d2-dd85-4521-db21-7f73ed521c90"
      },
      "source": [
        "from google.colab import drive\n",
        "drive.mount('/content/drive')\n",
        "!unzip \"/content/drive/MyDrive/dontpatrAAonizeme_v1.3.zip\" -d \"/content/drive/MyDrive/\"\n",
        "\n",
        "# Unzip the dataset\n",
        "#!unzip \"/content/dontpatronizeme_v1.3.zip\" -d \"/content/drive/MyDrive/\""
      ],
      "execution_count": 4,
      "outputs": [
        {
          "output_type": "stream",
          "name": "stdout",
          "text": [
            "Drive already mounted at /content/drive; to attempt to forcibly remount, call drive.mount(\"/content/drive\", force_remount=True).\n",
            "unzip:  cannot find or open /content/drive/MyDrive/dontpatrAAonizeme_v1.3.zip, /content/drive/MyDrive/dontpatrAAonizeme_v1.3.zip.zip or /content/drive/MyDrive/dontpatrAAonizeme_v1.3.zip.ZIP.\n"
          ]
        }
      ]
    },
    {
      "cell_type": "code",
      "metadata": {
        "id": "K5DJ3zR_fCre"
      },
      "source": [
        "# Opening the file from MyDrive\n",
        "file = open(r'/content/drive/MyDrive/dontpatronizeme_v1.3/dontpatronizeme_pcl.tsv')\n",
        "reader = csv.reader(file, delimiter=\"\\t\")\n",
        "data = []\n",
        "for row in reader:\n",
        "  data.append(row)\n",
        "\n"
      ],
      "execution_count": 5,
      "outputs": []
    },
    {
      "cell_type": "code",
      "metadata": {
        "id": "6W8pqT5PjG-L",
        "colab": {
          "base_uri": "https://localhost:8080/",
          "height": 424
        },
        "outputId": "4b134f20-68c7-476d-841d-39851eac7177"
      },
      "source": [
        "df = pd.DataFrame(data[5:],  columns = ['docID', 'keyword', 'country', 'paragraph', 'label' ] )\n",
        "df"
      ],
      "execution_count": 6,
      "outputs": [
        {
          "output_type": "execute_result",
          "data": {
            "text/html": [
              "<div>\n",
              "<style scoped>\n",
              "    .dataframe tbody tr th:only-of-type {\n",
              "        vertical-align: middle;\n",
              "    }\n",
              "\n",
              "    .dataframe tbody tr th {\n",
              "        vertical-align: top;\n",
              "    }\n",
              "\n",
              "    .dataframe thead th {\n",
              "        text-align: right;\n",
              "    }\n",
              "</style>\n",
              "<table border=\"1\" class=\"dataframe\">\n",
              "  <thead>\n",
              "    <tr style=\"text-align: right;\">\n",
              "      <th></th>\n",
              "      <th>docID</th>\n",
              "      <th>keyword</th>\n",
              "      <th>country</th>\n",
              "      <th>paragraph</th>\n",
              "      <th>label</th>\n",
              "    </tr>\n",
              "  </thead>\n",
              "  <tbody>\n",
              "    <tr>\n",
              "      <th>0</th>\n",
              "      <td>@@4703096</td>\n",
              "      <td>immigrant</td>\n",
              "      <td>jm</td>\n",
              "      <td>NBC and Spanish-language Univision both declin...</td>\n",
              "      <td>0</td>\n",
              "    </tr>\n",
              "    <tr>\n",
              "      <th>1</th>\n",
              "      <td>@@25567226</td>\n",
              "      <td>in-need</td>\n",
              "      <td>hk</td>\n",
              "      <td>A second T-Home project is being launched in t...</td>\n",
              "      <td>0</td>\n",
              "    </tr>\n",
              "    <tr>\n",
              "      <th>2</th>\n",
              "      <td>@@1824078</td>\n",
              "      <td>poor-families</td>\n",
              "      <td>tz</td>\n",
              "      <td>Camfed would like to see this trend reversed ....</td>\n",
              "      <td>4</td>\n",
              "    </tr>\n",
              "    <tr>\n",
              "      <th>3</th>\n",
              "      <td>@@1921089</td>\n",
              "      <td>refugee</td>\n",
              "      <td>tz</td>\n",
              "      <td>Kagunga village was reported to lack necessary...</td>\n",
              "      <td>0</td>\n",
              "    </tr>\n",
              "    <tr>\n",
              "      <th>4</th>\n",
              "      <td>@@40039380</td>\n",
              "      <td>women</td>\n",
              "      <td>ng</td>\n",
              "      <td>Haruna stressed the need for specific approach...</td>\n",
              "      <td>0</td>\n",
              "    </tr>\n",
              "    <tr>\n",
              "      <th>...</th>\n",
              "      <td>...</td>\n",
              "      <td>...</td>\n",
              "      <td>...</td>\n",
              "      <td>...</td>\n",
              "      <td>...</td>\n",
              "    </tr>\n",
              "    <tr>\n",
              "      <th>10053</th>\n",
              "      <td>@@16413808</td>\n",
              "      <td>immigrant</td>\n",
              "      <td>my</td>\n",
              "      <td>To me , I am always mindful that we are dealin...</td>\n",
              "      <td>4</td>\n",
              "    </tr>\n",
              "    <tr>\n",
              "      <th>10054</th>\n",
              "      <td>@@8676630</td>\n",
              "      <td>vulnerable</td>\n",
              "      <td>jm</td>\n",
              "      <td>Other themes included promoting the inclusion ...</td>\n",
              "      <td>0</td>\n",
              "    </tr>\n",
              "    <tr>\n",
              "      <th>10055</th>\n",
              "      <td>@@7688552</td>\n",
              "      <td>immigrant</td>\n",
              "      <td>gb</td>\n",
              "      <td>It came as the CDU was also humiliated by the ...</td>\n",
              "      <td>0</td>\n",
              "    </tr>\n",
              "    <tr>\n",
              "      <th>10056</th>\n",
              "      <td>@@4916290</td>\n",
              "      <td>hopeless</td>\n",
              "      <td>in</td>\n",
              "      <td>Those were only days of helplessness , she say...</td>\n",
              "      <td>0</td>\n",
              "    </tr>\n",
              "    <tr>\n",
              "      <th>10057</th>\n",
              "      <td>@@2973614</td>\n",
              "      <td>immigrant</td>\n",
              "      <td>ie</td>\n",
              "      <td>They include a community college student , a c...</td>\n",
              "      <td>0</td>\n",
              "    </tr>\n",
              "  </tbody>\n",
              "</table>\n",
              "<p>10058 rows × 5 columns</p>\n",
              "</div>"
            ],
            "text/plain": [
              "            docID  ... label\n",
              "0       @@4703096  ...     0\n",
              "1      @@25567226  ...     0\n",
              "2       @@1824078  ...     4\n",
              "3       @@1921089  ...     0\n",
              "4      @@40039380  ...     0\n",
              "...           ...  ...   ...\n",
              "10053  @@16413808  ...     4\n",
              "10054   @@8676630  ...     0\n",
              "10055   @@7688552  ...     0\n",
              "10056   @@4916290  ...     0\n",
              "10057   @@2973614  ...     0\n",
              "\n",
              "[10058 rows x 5 columns]"
            ]
          },
          "metadata": {},
          "execution_count": 6
        }
      ]
    },
    {
      "cell_type": "markdown",
      "metadata": {
        "id": "VtakLrrIoo9_"
      },
      "source": [
        "# Exploring data"
      ]
    },
    {
      "cell_type": "code",
      "metadata": {
        "id": "K6BfIKFam55W",
        "colab": {
          "base_uri": "https://localhost:8080/"
        },
        "outputId": "3ff2359f-5bfc-4e9b-9ac5-3c86fbcc3cc0"
      },
      "source": [
        "# Length of text\n",
        "def length (txt):\n",
        "  length = len(txt.split())\n",
        "  return length\n",
        "\n",
        "txt_length = df['paragraph'].apply(lambda x: length(x))\n",
        "txt_length.sort_values(ascending = False)"
      ],
      "execution_count": 7,
      "outputs": [
        {
          "output_type": "execute_result",
          "data": {
            "text/plain": [
              "3534    1519\n",
              "6266    1095\n",
              "8519    1040\n",
              "4613     772\n",
              "8819     729\n",
              "        ... \n",
              "1930       4\n",
              "1385       3\n",
              "7375       3\n",
              "5112       3\n",
              "5742       0\n",
              "Name: paragraph, Length: 10058, dtype: int64"
            ]
          },
          "metadata": {},
          "execution_count": 7
        }
      ]
    },
    {
      "cell_type": "code",
      "metadata": {
        "colab": {
          "base_uri": "https://localhost:8080/",
          "height": 265
        },
        "id": "N7uMC5lhTWo1",
        "outputId": "36bfe628-20a0-48dd-8153-6d0168c887e3"
      },
      "source": [
        "# Plot the histogram of sentence length\n",
        "plt.hist(txt_length, 5)\n",
        "plt.show()"
      ],
      "execution_count": 8,
      "outputs": [
        {
          "output_type": "display_data",
          "data": {
            "image/png": "[encoded data removed]",
            "text/plain": [
              "<Figure size 432x288 with 1 Axes>"
            ]
          },
          "metadata": {
            "needs_background": "light"
          }
        }
      ]
    },
    {
      "cell_type": "code",
      "metadata": {
        "id": "_nAz-vJxo_wn",
        "colab": {
          "base_uri": "https://localhost:8080/"
        },
        "outputId": "bf885fb2-6fa9-471d-f7d5-a60a082a6807"
      },
      "source": [
        "# Observing labels\n",
        "df['label'].value_counts()"
      ],
      "execution_count": 9,
      "outputs": [
        {
          "output_type": "execute_result",
          "data": {
            "text/plain": [
              "0    8206\n",
              "1     906\n",
              "3     435\n",
              "4     369\n",
              "2     142\n",
              "Name: label, dtype: int64"
            ]
          },
          "metadata": {},
          "execution_count": 9
        }
      ]
    },
    {
      "cell_type": "code",
      "metadata": {
        "id": "Iy38u3cFVWjW",
        "colab": {
          "base_uri": "https://localhost:8080/"
        },
        "outputId": "3310bbea-7f86-434f-d5ba-a3258511f5c5"
      },
      "source": [
        "df['label'] = df['label'].astype(str)\n",
        "df['label']"
      ],
      "execution_count": 10,
      "outputs": [
        {
          "output_type": "execute_result",
          "data": {
            "text/plain": [
              "0        0\n",
              "1        0\n",
              "2        4\n",
              "3        0\n",
              "4        0\n",
              "        ..\n",
              "10053    4\n",
              "10054    0\n",
              "10055    0\n",
              "10056    0\n",
              "10057    0\n",
              "Name: label, Length: 10058, dtype: object"
            ]
          },
          "metadata": {},
          "execution_count": 10
        }
      ]
    },
    {
      "cell_type": "code",
      "metadata": {
        "id": "WlKftt3JVk-n",
        "colab": {
          "base_uri": "https://localhost:8080/"
        },
        "outputId": "c0a67b29-4bcc-4f19-e804-bae4d1fee132"
      },
      "source": [
        "# Missing data\n",
        "#checking missing values\n",
        "print('Is null: \\n', df.isnull().sum() )\n"
      ],
      "execution_count": 11,
      "outputs": [
        {
          "output_type": "stream",
          "name": "stdout",
          "text": [
            "Is null: \n",
            " docID        0\n",
            "keyword      0\n",
            "country      0\n",
            "paragraph    0\n",
            "label        0\n",
            "dtype: int64\n"
          ]
        }
      ]
    },
    {
      "cell_type": "code",
      "metadata": {
        "id": "JQyvG1B0pvEI",
        "colab": {
          "base_uri": "https://localhost:8080/",
          "height": 334
        },
        "outputId": "6e7ee989-a4ea-43fb-c55e-901f39adb042"
      },
      "source": [
        "# Turning labels to binary\n",
        "\n",
        "label_dic = {'0':0,\n",
        "             '1':0,\n",
        "             '2':1,\n",
        "             '3':1,\n",
        "             '4':1}\n",
        "df['label'] = df['label'].map(label_dic)\n",
        "print(df['label'].value_counts())\n",
        "sns.countplot(x='label', data=df)\n",
        "plt.show()"
      ],
      "execution_count": 12,
      "outputs": [
        {
          "output_type": "stream",
          "name": "stdout",
          "text": [
            "0    9112\n",
            "1     946\n",
            "Name: label, dtype: int64\n"
          ]
        },
        {
          "output_type": "display_data",
          "data": {
            "image/png": "[encoded data removed]",
            "text/plain": [
              "<Figure size 432x288 with 1 Axes>"
            ]
          },
          "metadata": {
            "needs_background": "light"
          }
        }
      ]
    },
    {
      "cell_type": "markdown",
      "metadata": {
        "id": "ZcAMX5reo0e1"
      },
      "source": [
        "# Developing models"
      ]
    },
    {
      "cell_type": "code",
      "metadata": {
        "id": "Nvza5K7YbJ4H",
        "colab": {
          "base_uri": "https://localhost:8080/"
        },
        "outputId": "d1f7889b-2d69-4cbb-fcf3-24739572aab6"
      },
      "source": [
        "# Splitting the data into training (80%) and test set(20%)\n",
        "from sklearn.model_selection import train_test_split\n",
        "X = df['paragraph']\n",
        "y = df['label']\n",
        "X_train, X_test, y_train, y_test = train_test_split (X, y, train_size = 0.8, random_state = 42, shuffle = True, stratify=y)\n",
        "print ('Shapes of X_train, y_train: ', X_train.shape, y_train.shape)\n",
        "print ('Shapes of X_test, y_test: ', X_test.shape, y_test.shape)\n",
        "print(y_train.value_counts())"
      ],
      "execution_count": 13,
      "outputs": [
        {
          "output_type": "stream",
          "name": "stdout",
          "text": [
            "Shapes of X_train, y_train:  (8046,) (8046,)\n",
            "Shapes of X_test, y_test:  (2012,) (2012,)\n",
            "0    7289\n",
            "1     757\n",
            "Name: label, dtype: int64\n"
          ]
        }
      ]
    },
    {
      "cell_type": "markdown",
      "metadata": {
        "id": "UvxZkMMco7sB"
      },
      "source": [
        "## **Classic ML models**"
      ]
    },
    {
      "cell_type": "markdown",
      "metadata": {
        "id": "kso-92jebtft"
      },
      "source": [
        "### Text representation"
      ]
    },
    {
      "cell_type": "code",
      "metadata": {
        "id": "5ez7hEFCa5_U",
        "colab": {
          "base_uri": "https://localhost:8080/"
        },
        "outputId": "64c51317-9cbf-41f1-e20b-ac7a74e77653"
      },
      "source": [
        "!pip install stop-words\n",
        "from stop_words import get_stop_words\n",
        "stopwords = get_stop_words('en')\n",
        "from textblob import Word\n",
        "import re\n",
        "import nltk\n",
        "nltk.download('wordnet')\n",
        "\n",
        "#BOW based approaches\n",
        "nlp.init_sims(replace=True) # calling for using syn0norm\n",
        "\n",
        "def word_averaging(wv, words):\n",
        "    all_words, mean = set(), []\n",
        "    \n",
        "    for word in words:\n",
        "        if isinstance(word, np.ndarray):\n",
        "            mean.append(word)\n",
        "        elif word in wv.vocab:\n",
        "            mean.append(wv.syn0norm[wv.vocab[word].index])\n",
        "            all_words.add(wv.vocab[word].index)\n",
        "\n",
        "    if not mean:\n",
        "        logging.warning(\"cannot compute similarity with no input %s\", words)\n",
        "        # FIXME: remove these examples in pre-processing\n",
        "        return np.zeros(wv.vector_size,)\n",
        "\n",
        "    mean = gensim.matutils.unitvec(np.array(mean).mean(axis=0)).astype(np.float32)\n",
        "    return mean\n",
        "\n",
        "def  word_averaging_list(wv, text_list):\n",
        "    return np.vstack([word_averaging(wv, post) for post in text_list ])"
      ],
      "execution_count": 14,
      "outputs": [
        {
          "output_type": "stream",
          "name": "stdout",
          "text": [
            "Requirement already satisfied: stop-words in /usr/local/lib/python3.7/dist-packages (2018.7.23)\n",
            "[nltk_data] Downloading package wordnet to /root/nltk_data...\n",
            "[nltk_data]   Package wordnet is already up-to-date!\n"
          ]
        }
      ]
    },
    {
      "cell_type": "code",
      "metadata": {
        "id": "2aopPSRVb4lL",
        "colab": {
          "base_uri": "https://localhost:8080/"
        },
        "outputId": "db9fa265-f6b6-4971-d39c-a124b1b770c6"
      },
      "source": [
        "# Tokenize, and apply word vector averaging to tokenized text\n",
        "import nltk\n",
        "nltk.download('punkt')\n",
        "import logging\n",
        "def w2v_tokenize_text(text):\n",
        "    tokens = []\n",
        "    for sent in nltk.sent_tokenize(text, language='english'):\n",
        "        for word in nltk.word_tokenize(sent, language='english'):\n",
        "            if len(word) < 2:\n",
        "                continue\n",
        "            tokens.append(word)\n",
        "    return tokens\n",
        "    \n",
        "# Tokenize texts into words\n",
        "X_train_tokenized = X_train.apply(lambda x: w2v_tokenize_text(x)).values\n",
        "X_test_tokenized = X_test.apply(lambda x: w2v_tokenize_text(x)).values\n",
        "\n",
        "# Embed words into number\n",
        "X_train_word_average = word_averaging_list(nlp,X_train_tokenized)\n",
        "X_test_word_average = word_averaging_list(nlp,X_test_tokenized)"
      ],
      "execution_count": 15,
      "outputs": [
        {
          "output_type": "stream",
          "name": "stdout",
          "text": [
            "[nltk_data] Downloading package punkt to /root/nltk_data...\n",
            "[nltk_data]   Package punkt is already up-to-date!\n"
          ]
        },
        {
          "output_type": "stream",
          "name": "stderr",
          "text": [
            "/usr/local/lib/python3.7/dist-packages/ipykernel_launcher.py:19: DeprecationWarning: Call to deprecated `syn0norm` (Attribute will be removed in 4.0.0, use self.wv.vectors_norm instead).\n",
            "WARNING:root:cannot compute similarity with no input []\n"
          ]
        }
      ]
    },
    {
      "cell_type": "markdown",
      "metadata": {
        "id": "d0O8PduWdnjt"
      },
      "source": [
        "### Creating models"
      ]
    },
    {
      "cell_type": "code",
      "metadata": {
        "id": "hJdUeuNUdmij"
      },
      "source": [
        "# Printing model performance \n",
        "def printing_eval_scores (y_true, y_pred):\n",
        "  print('accuracy score: {}'.format(sklearn.metrics.accuracy_score(y_true, y_pred)))\n",
        "  print('precision score: {}'.format(sklearn.metrics.precision_score(y_true, y_pred, average = 'weighted', zero_division=1)))\n",
        "  print('recall score: {}'.format(sklearn.metrics.recall_score(y_true, y_pred,  average = 'weighted', zero_division=1)))\n",
        "  print('F1 score: {}'.format(f1_score(y_true, y_pred,  average = 'macro', zero_division=1)))\n",
        "  print('\\nConfusion Matrix:\\n', confusion_matrix(y_true, y_pred))\n",
        "  print('\\n', classification_report(y_true, y_pred))\n",
        "\n",
        "# Get the measurements of ROC curve for each model\n",
        "def get_roc_cuve (y_true, y_pred):\n",
        "  # Get arrays of FPR and recall using roc_curve\n",
        "  FPR, recall, threshold = sklearn.metrics.roc_curve(y_true, y_pred)\n",
        "\n",
        "  # Get testing accuracy:\n",
        "  acc = accuracy_score( y_test,y_pred)\n",
        "\n",
        "  # Get testing macro-f1:\n",
        "  f1 = f1_score(y_test, y_pred,  average = 'macro', zero_division=1)\n",
        "\n",
        "  # Get auc score\n",
        "  auc = sklearn.metrics.auc(FPR, recall)\n",
        "  roc = {'fpr': FPR, 'tpr': recall, 'auc': auc, 'accuracy': acc, 'macro-F1': f1}\n",
        "  return roc"
      ],
      "execution_count": 24,
      "outputs": []
    },
    {
      "cell_type": "code",
      "metadata": {
        "id": "Y2JRHYC7dxi8"
      },
      "source": [
        "# Define a function for creating over sampling \n",
        "def score_model(name,model):\n",
        "    cv = StratifiedKFold(n_splits=5, random_state=42, shuffle = True)\n",
        "\n",
        "    oversampler = SMOTE(random_state=42)\n",
        "    #oversampler = RandomOverSampler(sampling_strategy='minority')\n",
        "    scores = []\n",
        "    f1_scores = []\n",
        "    \n",
        "    ## on training set, do cv\n",
        "    for train_fold_index, val_fold_index in cv.split(X_train_word_average, y_train):\n",
        "        # Get the training data\n",
        "        X_train_fold, y_train_fold = X_train_word_average[train_fold_index], y_train.iloc[train_fold_index]\n",
        "        # Get the validation data\n",
        "        X_val_fold, y_val_fold = X_train_word_average[val_fold_index], y_train.iloc[val_fold_index]\n",
        "\n",
        "        # Upsample only the data in the training section\n",
        "        X_train_fold_upsample, y_train_fold_upsample = oversampler.fit_resample(X_train_fold,\n",
        "                                                                           y_train_fold)\n",
        "        # Fit the model on the upsampled training data\n",
        "        model.fit(X_train_fold_upsample, y_train_fold_upsample)\n",
        "        # Score the model on the (non-upsampled) validation data\n",
        "        score = accuracy_score(y_val_fold, model.predict(X_val_fold)) #  average= 'weighted' for F1\n",
        "        f1 = sklearn.metrics.f1_score(y_val_fold, model.predict(X_val_fold),  average = 'macro', zero_division=1)  #f1_scores.append(f1_score)\n",
        "        scores.append(score)\n",
        "        f1_scores.append(f1)\n",
        "        \n",
        "    print('Average of acuracy score in training: %s' % np.array(scores).mean())\n",
        "    print('Average of Macro F1-score in training: %s' % np.array(f1_scores).mean())\n",
        "\n",
        "    ## on test set\n",
        "    y_pred = model.predict(X_test_word_average)\n",
        "    test_score = accuracy_score( y_test,y_pred)\n",
        "    macro_f1_test = f1_score(y_test, y_pred,  average = 'macro', zero_division=1)\n",
        "    printing_eval_scores (y_test, y_pred)\n",
        "    roc = get_roc_cuve(y_test, y_pred)\n",
        "    report_scores = {'accuracy_folds':np.array(scores),'accuracy_test':test_score, 'macro_f1_test': macro_f1_test, 'y_predicted':y_pred, 'roc': roc }\n",
        "    return report_scores #(np.array(scores),test_score,y_pred )       #(np.array(scores).mean(), np.array(scores).std())"
      ],
      "execution_count": 17,
      "outputs": []
    },
    {
      "cell_type": "code",
      "metadata": {
        "id": "DzbE1tOCiUp9",
        "colab": {
          "base_uri": "https://localhost:8080/",
          "height": 1000
        },
        "outputId": "53d9bf1f-4563-446b-bb14-f9e8d8e5c932"
      },
      "source": [
        "# Running all models together\n",
        "# Compare Algorithms\n",
        "import pandas\n",
        "import matplotlib.pyplot as plt\n",
        "from sklearn import model_selection\n",
        "from sklearn.linear_model import LogisticRegression\n",
        "from sklearn.tree import DecisionTreeClassifier\n",
        "from sklearn.neighbors import KNeighborsClassifier\n",
        "from sklearn.naive_bayes import GaussianNB\n",
        "from sklearn.svm import SVC\n",
        "from lightgbm import LGBMClassifier\n",
        "from xgboost import XGBClassifier\n",
        "\n",
        "models = []\n",
        "models.append(('LR', LogisticRegression(solver='lbfgs', max_iter=700)))\n",
        "models.append(('RF', RandomForestClassifier()))\n",
        "models.append(('KNN', KNeighborsClassifier()))\n",
        "models.append(('DT', DecisionTreeClassifier()))\n",
        "models.append(('NB', GaussianNB()))\n",
        "models.append(('SVM', SVC(decision_function_shape='ovo', probability=True)))\n",
        "models.append(('LGBM', LGBMClassifier(objective= 'binary')))\n",
        "models.append(('XGB', XGBClassifier(eval_metric=\"mlogloss\", objective = \"reg:logistic\") ))\n",
        "\n",
        "\n",
        "# evaluate each model in turn\n",
        "results = []\n",
        "score_test = []\n",
        "macro_f1 = {}\n",
        "names = []\n",
        "rocs = {}\n",
        "report_scores_all = {}\n",
        "for name, model in models:\n",
        "  #fold_scores, test_score = score_model(model)\n",
        "  report_scores = score_model(name, model)\n",
        "  report_scores_all[name] = report_scores\n",
        "  #results.append(fold_scores)\n",
        "  #score_test.append(test_score)\n",
        "  results.append(report_scores['accuracy_folds'])\n",
        "  score_test.append(report_scores['accuracy_test'])\n",
        "  macro_f1[name] = (report_scores['macro_f1_test'])\n",
        "  rocs[name] = (report_scores['roc'])\n",
        "  names.append(name)\n",
        "  # msg = \"%s: %f (%f)\" % (name, fold_scores.mean(), fold_scores.std())\n",
        "  msg = \"%s: %f (%f)\" % (name, report_scores['accuracy_folds'].mean(), report_scores['accuracy_folds'].std())\n",
        "  print(msg)\n",
        "# boxplot algorithm comparison\n",
        "fig = plt.figure()\n",
        "fig.suptitle('Algorithms Comparison in Terms of Accuracy')\n",
        "ax = fig.add_subplot(111)\n",
        "plt.boxplot(results)\n",
        "ax.set_xticklabels(names)\n",
        "plt.show()"
      ],
      "execution_count": 25,
      "outputs": [
        {
          "output_type": "stream",
          "name": "stdout",
          "text": [
            "Average of acuracy score in training: 0.7895843643480578\n",
            "Average of Macro F1-score in training: 0.6328994844641667\n",
            "accuracy score: 0.794234592445328\n",
            "precision score: 0.9020001923515237\n",
            "recall score: 0.794234592445328\n",
            "F1 score: 0.6387422020831454\n",
            "\n",
            "Confusion Matrix:\n",
            " [[1459  364]\n",
            " [  50  139]]\n",
            "\n",
            "               precision    recall  f1-score   support\n",
            "\n",
            "           0       0.97      0.80      0.88      1823\n",
            "           1       0.28      0.74      0.40       189\n",
            "\n",
            "    accuracy                           0.79      2012\n",
            "   macro avg       0.62      0.77      0.64      2012\n",
            "weighted avg       0.90      0.79      0.83      2012\n",
            "\n",
            "LR: 0.789584 (0.014373)\n",
            "Average of acuracy score in training: 0.8989562592405298\n",
            "Average of Macro F1-score in training: 0.6096053097014081\n",
            "accuracy score: 0.8891650099403579\n",
            "precision score: 0.8638470225765824\n",
            "recall score: 0.8891650099403579\n",
            "F1 score: 0.586969749692305\n",
            "\n",
            "Confusion Matrix:\n",
            " [[1755   68]\n",
            " [ 155   34]]\n",
            "\n",
            "               precision    recall  f1-score   support\n",
            "\n",
            "           0       0.92      0.96      0.94      1823\n",
            "           1       0.33      0.18      0.23       189\n",
            "\n",
            "    accuracy                           0.89      2012\n",
            "   macro avg       0.63      0.57      0.59      2012\n",
            "weighted avg       0.86      0.89      0.87      2012\n",
            "\n",
            "RF: 0.898956 (0.002585)\n",
            "Average of acuracy score in training: 0.29505599326768295\n",
            "Average of Macro F1-score in training: 0.2855396784454691\n",
            "accuracy score: 0.3290258449304175\n",
            "precision score: 0.9005722590905837\n",
            "recall score: 0.3290258449304175\n",
            "F1 score: 0.31356047855160807\n",
            "\n",
            "Confusion Matrix:\n",
            " [[ 482 1341]\n",
            " [   9  180]]\n",
            "\n",
            "               precision    recall  f1-score   support\n",
            "\n",
            "           0       0.98      0.26      0.42      1823\n",
            "           1       0.12      0.95      0.21       189\n",
            "\n",
            "    accuracy                           0.33      2012\n",
            "   macro avg       0.55      0.61      0.31      2012\n",
            "weighted avg       0.90      0.33      0.40      2012\n",
            "\n",
            "KNN: 0.295056 (0.020794)\n",
            "Average of acuracy score in training: 0.7897088967724254\n",
            "Average of Macro F1-score in training: 0.5588166936580451\n",
            "accuracy score: 0.7882703777335984\n",
            "precision score: 0.8531343550642281\n",
            "recall score: 0.7882703777335984\n",
            "F1 score: 0.5527825085153276\n",
            "\n",
            "Confusion Matrix:\n",
            " [[1523  300]\n",
            " [ 126   63]]\n",
            "\n",
            "               precision    recall  f1-score   support\n",
            "\n",
            "           0       0.92      0.84      0.88      1823\n",
            "           1       0.17      0.33      0.23       189\n",
            "\n",
            "    accuracy                           0.79      2012\n",
            "   macro avg       0.55      0.58      0.55      2012\n",
            "weighted avg       0.85      0.79      0.82      2012\n",
            "\n",
            "DT: 0.789709 (0.018354)\n",
            "Average of acuracy score in training: 0.731544688456624\n",
            "Average of Macro F1-score in training: 0.5515656169784451\n",
            "accuracy score: 0.7301192842942346\n",
            "precision score: 0.859911327492484\n",
            "recall score: 0.7301192842942346\n",
            "F1 score: 0.5402439511929285\n",
            "\n",
            "Confusion Matrix:\n",
            " [[1381  442]\n",
            " [ 101   88]]\n",
            "\n",
            "               precision    recall  f1-score   support\n",
            "\n",
            "           0       0.93      0.76      0.84      1823\n",
            "           1       0.17      0.47      0.24       189\n",
            "\n",
            "    accuracy                           0.73      2012\n",
            "   macro avg       0.55      0.61      0.54      2012\n",
            "weighted avg       0.86      0.73      0.78      2012\n",
            "\n",
            "NB: 0.731545 (0.007794)\n",
            "Average of acuracy score in training: 0.8698731900142445\n",
            "Average of Macro F1-score in training: 0.6727650382094061\n",
            "accuracy score: 0.8717693836978131\n",
            "precision score: 0.8969428676021772\n",
            "recall score: 0.8717693836978131\n",
            "F1 score: 0.686919641887833\n",
            "\n",
            "Confusion Matrix:\n",
            " [[1650  173]\n",
            " [  85  104]]\n",
            "\n",
            "               precision    recall  f1-score   support\n",
            "\n",
            "           0       0.95      0.91      0.93      1823\n",
            "           1       0.38      0.55      0.45       189\n",
            "\n",
            "    accuracy                           0.87      2012\n",
            "   macro avg       0.66      0.73      0.69      2012\n",
            "weighted avg       0.90      0.87      0.88      2012\n",
            "\n",
            "SVM: 0.869873 (0.004544)\n",
            "Average of acuracy score in training: 0.8921191743646955\n",
            "Average of Macro F1-score in training: 0.6623082732892687\n",
            "accuracy score: 0.8871769383697813\n",
            "precision score: 0.8825791585170473\n",
            "recall score: 0.8871769383697813\n",
            "F1 score: 0.654610036881505\n",
            "\n",
            "Confusion Matrix:\n",
            " [[1718  105]\n",
            " [ 122   67]]\n",
            "\n",
            "               precision    recall  f1-score   support\n",
            "\n",
            "           0       0.93      0.94      0.94      1823\n",
            "           1       0.39      0.35      0.37       189\n",
            "\n",
            "    accuracy                           0.89      2012\n",
            "   macro avg       0.66      0.65      0.65      2012\n",
            "weighted avg       0.88      0.89      0.88      2012\n",
            "\n",
            "LGBM: 0.892119 (0.007054)\n",
            "Average of acuracy score in training: 0.8440208609182045\n",
            "Average of Macro F1-score in training: 0.6520688708380072\n",
            "accuracy score: 0.8349900596421471\n",
            "precision score: 0.8851341638969208\n",
            "recall score: 0.8349900596421471\n",
            "F1 score: 0.640432696862431\n",
            "\n",
            "Confusion Matrix:\n",
            " [[1580  243]\n",
            " [  89  100]]\n",
            "\n",
            "               precision    recall  f1-score   support\n",
            "\n",
            "           0       0.95      0.87      0.90      1823\n",
            "           1       0.29      0.53      0.38       189\n",
            "\n",
            "    accuracy                           0.83      2012\n",
            "   macro avg       0.62      0.70      0.64      2012\n",
            "weighted avg       0.89      0.83      0.86      2012\n",
            "\n",
            "XGB: 0.844021 (0.008727)\n"
          ]
        },
        {
          "output_type": "display_data",
          "data": {
            "image/png": "[encoded data removed]",
            "text/plain": [
              "<Figure size 432x288 with 1 Axes>"
            ]
          },
          "metadata": {
            "needs_background": "light"
          }
        }
      ]
    },
    {
      "cell_type": "code",
      "metadata": {
        "id": "eDGBjY9zU7zb",
        "colab": {
          "base_uri": "https://localhost:8080/",
          "height": 308
        },
        "outputId": "79015238-41b9-4662-e7ba-4a1c55907825"
      },
      "source": [
        "# boxplot algorithm comparison in terms of Macro F1-Score\n",
        "fig = plt.figure()\n",
        "fig.suptitle('Algorithms Comparison in Terms of Macro F1-Score')\n",
        "ax = fig.add_subplot(111)\n",
        "plt.bar(macro_f1.keys(), macro_f1.values())\n",
        "plt.ylabel('Macro F1-Score')\n",
        "plt.xlabel('Models')\n",
        "ax.set_xticklabels(names)\n",
        "plt.show()"
      ],
      "execution_count": 26,
      "outputs": [
        {
          "output_type": "display_data",
          "data": {
            "image/png": "[encoded data removed]",
            "text/plain": [
              "<Figure size 432x288 with 1 Axes>"
            ]
          },
          "metadata": {
            "needs_background": "light"
          }
        }
      ]
    },
    {
      "cell_type": "markdown",
      "metadata": {
        "id": "7nE2wU_GNCLZ"
      },
      "source": [
        "#**Visualize all models with ROC curves**"
      ]
    },
    {
      "cell_type": "code",
      "metadata": {
        "id": "iLSNk1uWO5KD",
        "colab": {
          "base_uri": "https://localhost:8080/",
          "height": 404
        },
        "outputId": "bf352506-dd6d-4827-fc74-15fb53f79a0f"
      },
      "source": [
        "def graph_multi_ROC (rocs):\n",
        "  # Set color for each model\n",
        "  colors = {'LGBM': 'lightcoral','LR': 'darkorange', 'SVM':'lime', 'NB': 'steelblue',\n",
        "            'XGB': 'purple','DT': 'magenta','RF': 'deeppink','KNN': 'darkturquoise',\n",
        "            'BERT': 'darkred', 'GPT': 'blue'}\n",
        "  # Set marker for each model          \n",
        "  markers = {'LGBM':'1--','LR': 'v--', 'SVM': '^--', 'XGB': '*--', 'DT': 'o--', 'RF': '+--', 'KNN': '.--', 'NB': 'x--', 'BERT':'<--', 'GPT': '>--'}\n",
        "  \n",
        "  plt.figure(figsize=(9,6))\n",
        "  for model in rocs:\n",
        "    plt.plot( rocs[model]['fpr'], rocs[model]['tpr'], markers[model], color=colors[model], label= model+' - AUC=' + str(rocs[model]['auc'].round(3)) )\n",
        "  \n",
        "  plt.plot([0,1], [0,1], 'k--', label='Random Chances')\n",
        "  plt.xlim([0.0,1.0])\n",
        "  plt.ylim([0.0,1.02])\n",
        "  plt.ylabel('Recall')\n",
        "  plt.xlabel('False Positive Rate (1-Specificity)')\n",
        "  plt.legend(loc='lower right') \n",
        "  plt.title( 'ROC Curves of all models')\n",
        "  plt.show()\n",
        "\n",
        "graph_multi_ROC(rocs)"
      ],
      "execution_count": 27,
      "outputs": [
        {
          "output_type": "display_data",
          "data": {
            "image/png": "[encoded data removed]",
            "text/plain": [
              "<Figure size 648x432 with 1 Axes>"
            ]
          },
          "metadata": {
            "needs_background": "light"
          }
        }
      ]
    },
    {
      "cell_type": "code",
      "metadata": {
        "id": "0m5cTZ3tt0PE",
        "colab": {
          "base_uri": "https://localhost:8080/"
        },
        "outputId": "86cf9e41-94ec-4c0a-e78a-9815b5253443"
      },
      "source": [
        "rocs"
      ],
      "execution_count": 28,
      "outputs": [
        {
          "output_type": "execute_result",
          "data": {
            "text/plain": [
              "{'DT': {'accuracy': 0.7882703777335984,\n",
              "  'auc': 0.5843847138416529,\n",
              "  'fpr': array([0.        , 0.16456391, 1.        ]),\n",
              "  'macro-F1': 0.5527825085153276,\n",
              "  'tpr': array([0.        , 0.33333333, 1.        ])},\n",
              " 'KNN': {'accuracy': 0.3290258449304175,\n",
              "  'auc': 0.6083901470626649,\n",
              "  'fpr': array([0.        , 0.73560066, 1.        ]),\n",
              "  'macro-F1': 0.31356047855160807,\n",
              "  'tpr': array([0.        , 0.95238095, 1.        ])},\n",
              " 'LGBM': {'accuracy': 0.8871769383697813,\n",
              "  'auc': 0.6484499937599224,\n",
              "  'fpr': array([0.        , 0.05759737, 1.        ]),\n",
              "  'macro-F1': 0.654610036881505,\n",
              "  'tpr': array([0.        , 0.35449735, 1.        ])},\n",
              " 'LR': {'accuracy': 0.794234592445328,\n",
              "  'auc': 0.7678894316305177,\n",
              "  'fpr': array([0.        , 0.19967087, 1.        ]),\n",
              "  'macro-F1': 0.6387422020831454,\n",
              "  'tpr': array([0.        , 0.73544974, 1.        ])},\n",
              " 'NB': {'accuracy': 0.7301192842942346,\n",
              "  'auc': 0.6115754889753793,\n",
              "  'fpr': array([0.        , 0.24245749, 1.        ]),\n",
              "  'macro-F1': 0.5402439511929285,\n",
              "  'tpr': array([0.        , 0.46560847, 1.        ])},\n",
              " 'RF': {'accuracy': 0.8891650099403579,\n",
              "  'auc': 0.5712965139734202,\n",
              "  'fpr': array([0.        , 0.03730115, 1.        ]),\n",
              "  'macro-F1': 0.586969749692305,\n",
              "  'tpr': array([0.        , 0.17989418, 1.        ])},\n",
              " 'SVM': {'accuracy': 0.8717693836978131,\n",
              "  'auc': 0.7276830156698506,\n",
              "  'fpr': array([0.        , 0.09489852, 1.        ]),\n",
              "  'macro-F1': 0.686919641887833,\n",
              "  'tpr': array([0.        , 0.55026455, 1.        ])},\n",
              " 'XGB': {'accuracy': 0.8349900596421471,\n",
              "  'auc': 0.6979018827620034,\n",
              "  'fpr': array([0.        , 0.13329676, 1.        ]),\n",
              "  'macro-F1': 0.640432696862431,\n",
              "  'tpr': array([0.        , 0.52910053, 1.        ])}}"
            ]
          },
          "metadata": {},
          "execution_count": 28
        }
      ]
    },
    {
      "cell_type": "code",
      "metadata": {
        "id": "vY91tBEaRNh1",
        "colab": {
          "base_uri": "https://localhost:8080/"
        },
        "outputId": "a01ad0a5-af08-48a0-ca9e-07ff8dd2e9d3"
      },
      "source": [
        "# Export performance to a txt file\n",
        "txtfile = open('results.txt','w')\n",
        "for i in report_scores_all.keys():\n",
        "  txtfile.write(str(i) + '=' + str(report_scores_all[i])+'\\n')\n",
        "  print(report_scores_all[i])\n",
        "txtfile.close()"
      ],
      "execution_count": 22,
      "outputs": [
        {
          "output_type": "stream",
          "name": "stdout",
          "text": [
            "{'accuracy_folds': array([0.79378882, 0.77501554, 0.81230578, 0.77315103, 0.79366066]), 'accuracy_test': 0.794234592445328, 'macro_f1_test': 0.6387422020831454, 'y_predicted': array([0, 0, 1, ..., 1, 0, 0]), 'roc': {'fpr': array([0.        , 0.19967087, 1.        ]), 'tpr': array([0.        , 0.73544974, 1.        ]), 'auc': 0.7678894316305177, 'accuracy': 0.794234592445328, 'macro-F1': 0.6387422020831454}}\n",
            "{'accuracy_folds': array([0.89813665, 0.90055935, 0.90242387, 0.89869484, 0.89993785]), 'accuracy_test': 0.8946322067594433, 'macro_f1_test': 0.606094970725671, 'y_predicted': array([0, 0, 0, ..., 0, 0, 0]), 'roc': {'fpr': array([0.        , 0.03400987, 1.        ]), 'tpr': array([0.        , 0.20634921, 1.        ]), 'auc': 0.5861696662574336, 'accuracy': 0.8946322067594433, 'macro-F1': 0.606094970725671}}\n",
            "{'accuracy_folds': array([0.27453416, 0.28029832, 0.31261653, 0.28091983, 0.32691112]), 'accuracy_test': 0.3290258449304175, 'macro_f1_test': 0.31356047855160807, 'y_predicted': array([0, 1, 1, ..., 1, 1, 1]), 'roc': {'fpr': array([0.        , 0.73560066, 1.        ]), 'tpr': array([0.        , 0.95238095, 1.        ]), 'auc': 0.6083901470626649, 'accuracy': 0.3290258449304175, 'macro-F1': 0.31356047855160807}}\n",
            "{'accuracy_folds': array([0.78136646, 0.77004351, 0.80174021, 0.76693599, 0.80981976]), 'accuracy_test': 0.790258449304175, 'macro_f1_test': 0.5429596327588732, 'y_predicted': array([0, 0, 1, ..., 0, 0, 0]), 'roc': {'fpr': array([0.        , 0.15798135, 1.        ]), 'tpr': array([0.        , 0.29100529, 1.        ]), 'auc': 0.5665119707906323, 'accuracy': 0.790258449304175, 'macro-F1': 0.5429596327588732}}\n",
            "{'accuracy_folds': array([0.72298137, 0.72467371, 0.74145432, 0.72840273, 0.74021131]), 'accuracy_test': 0.7301192842942346, 'macro_f1_test': 0.5402439511929285, 'y_predicted': array([0, 0, 1, ..., 0, 1, 0]), 'roc': {'fpr': array([0.        , 0.24245749, 1.        ]), 'tpr': array([0.        , 0.46560847, 1.        ]), 'auc': 0.6115754889753793, 'accuracy': 0.7301192842942346, 'macro-F1': 0.5402439511929285}}\n",
            "{'accuracy_folds': array([0.87018634, 0.86948415, 0.87818521, 0.86575513, 0.86575513]), 'accuracy_test': 0.8717693836978131, 'macro_f1_test': 0.686919641887833, 'y_predicted': array([0, 0, 1, ..., 0, 0, 0]), 'roc': {'fpr': array([0.        , 0.09489852, 1.        ]), 'tpr': array([0.        , 0.55026455, 1.        ]), 'auc': 0.7276830156698506, 'accuracy': 0.8717693836978131, 'macro-F1': 0.686919641887833}}\n",
            "{'accuracy_folds': array([0.90124224, 0.88315724, 0.89869484, 0.88564326, 0.8918583 ]), 'accuracy_test': 0.8871769383697813, 'macro_f1_test': 0.654610036881505, 'y_predicted': array([0, 0, 1, ..., 0, 0, 0]), 'roc': {'fpr': array([0.        , 0.05759737, 1.        ]), 'tpr': array([0.        , 0.35449735, 1.        ]), 'auc': 0.6484499937599224, 'accuracy': 0.8871769383697813, 'macro-F1': 0.654610036881505}}\n",
            "{'accuracy_folds': array([0.85217391, 0.83716594, 0.85643257, 0.83405842, 0.84027346]), 'accuracy_test': 0.8349900596421471, 'macro_f1_test': 0.640432696862431, 'y_predicted': array([0, 0, 1, ..., 0, 0, 0]), 'roc': {'fpr': array([0.        , 0.13329676, 1.        ]), 'tpr': array([0.        , 0.52910053, 1.        ]), 'auc': 0.6979018827620034, 'accuracy': 0.8349900596421471, 'macro-F1': 0.640432696862431}}\n"
          ]
        }
      ]
    },
    {
      "cell_type": "code",
      "metadata": {
        "colab": {
          "base_uri": "https://localhost:8080/"
        },
        "id": "6j_ijZQCqHN_",
        "outputId": "5abb2d88-2dd3-4e73-dcb5-79e10853666b"
      },
      "source": [
        "# Export performance to a txt file\n",
        "txtfile = open('ML_rocs.txt','w')\n",
        "for i in rocs.keys():\n",
        "  txtfile.write(str(i) + '=' + str(rocs[i])+'\\n')\n",
        "  print(rocs[i])\n",
        "txtfile.close()"
      ],
      "execution_count": 29,
      "outputs": [
        {
          "output_type": "stream",
          "name": "stdout",
          "text": [
            "{'fpr': array([0.        , 0.19967087, 1.        ]), 'tpr': array([0.        , 0.73544974, 1.        ]), 'auc': 0.7678894316305177, 'accuracy': 0.794234592445328, 'macro-F1': 0.6387422020831454}\n",
            "{'fpr': array([0.        , 0.03730115, 1.        ]), 'tpr': array([0.        , 0.17989418, 1.        ]), 'auc': 0.5712965139734202, 'accuracy': 0.8891650099403579, 'macro-F1': 0.586969749692305}\n",
            "{'fpr': array([0.        , 0.73560066, 1.        ]), 'tpr': array([0.        , 0.95238095, 1.        ]), 'auc': 0.6083901470626649, 'accuracy': 0.3290258449304175, 'macro-F1': 0.31356047855160807}\n",
            "{'fpr': array([0.        , 0.16456391, 1.        ]), 'tpr': array([0.        , 0.33333333, 1.        ]), 'auc': 0.5843847138416529, 'accuracy': 0.7882703777335984, 'macro-F1': 0.5527825085153276}\n",
            "{'fpr': array([0.        , 0.24245749, 1.        ]), 'tpr': array([0.        , 0.46560847, 1.        ]), 'auc': 0.6115754889753793, 'accuracy': 0.7301192842942346, 'macro-F1': 0.5402439511929285}\n",
            "{'fpr': array([0.        , 0.09489852, 1.        ]), 'tpr': array([0.        , 0.55026455, 1.        ]), 'auc': 0.7276830156698506, 'accuracy': 0.8717693836978131, 'macro-F1': 0.686919641887833}\n",
            "{'fpr': array([0.        , 0.05759737, 1.        ]), 'tpr': array([0.        , 0.35449735, 1.        ]), 'auc': 0.6484499937599224, 'accuracy': 0.8871769383697813, 'macro-F1': 0.654610036881505}\n",
            "{'fpr': array([0.        , 0.13329676, 1.        ]), 'tpr': array([0.        , 0.52910053, 1.        ]), 'auc': 0.6979018827620034, 'accuracy': 0.8349900596421471, 'macro-F1': 0.640432696862431}\n"
          ]
        }
      ]
    },
    {
      "cell_type": "code",
      "metadata": {
        "id": "DrPgf2BFtqyw"
      },
      "source": [
        ""
      ],
      "execution_count": 23,
      "outputs": []
    }
  ]
}