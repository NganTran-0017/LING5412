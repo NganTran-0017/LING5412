{
  "nbformat": 4,
  "nbformat_minor": 0,
  "metadata": {
    "colab": {
      "name": "LING5412_Final_project_Classic ML",
      "provenance": [],
      "collapsed_sections": [],
      "toc_visible": true,
      "include_colab_link": true
    },
    "kernelspec": {
      "name": "python3",
      "display_name": "Python 3"
    },
    "language_info": {
      "name": "python"
    }
  },
  "cells": [
    {
      "cell_type": "markdown",
      "metadata": {
        "id": "view-in-github",
        "colab_type": "text"
      },
      "source": [
        "<a href=\"https://colab.research.google.com/github/NganTran-0017/LING5412/blob/main/Classic_ML.ipynb\" target=\"_parent\"><img src=\"https://colab.research.google.com/assets/colab-badge.svg\" alt=\"Open In Colab\"/></a>"
      ]
    },
    {
      "cell_type": "markdown",
      "metadata": {
        "id": "wDVKxSAoFqW3"
      },
      "source": [
        "# CLASSIC MACHINE LEARNING MODELS\n",
        "Classic models are often prefered to use for saving computational resources; however, in many cases, they can outperform deep learning models. For example, data is not enough to train or class imbalance. Since our dataset is strongly imbalanced, classic ML models could be a good choice.\n",
        "We are going to train the following classic models: "
      ]
    },
    {
      "cell_type": "code",
      "metadata": {
        "id": "G99qOVzxSOwP",
        "colab": {
          "base_uri": "https://localhost:8080/"
        },
        "outputId": "c8202178-3db5-4dd7-b1c2-67a789ddbb28"
      },
      "source": [
        "import tarfile\n",
        "import pandas as pd\n",
        "import csv\n",
        "import seaborn as sns\n",
        "import matplotlib.pyplot as plt\n",
        "import sklearn\n",
        "import numpy as np\n",
        "from sklearn.linear_model import LogisticRegression\n",
        "from sklearn.ensemble import RandomForestClassifier\n",
        "from sklearn import tree          \n",
        "from sklearn.neighbors import KNeighborsClassifier\n",
        "from sklearn import svm \n",
        "from sklearn.metrics import accuracy_score, classification_report, f1_score, confusion_matrix, recall_score\n",
        "from sklearn.model_selection import cross_validate\n",
        "from sklearn.model_selection import KFold\n",
        "from sklearn.model_selection import StratifiedKFold\n",
        "!pip install imbalanced-learn\n",
        "import imblearn\n",
        "# from imblearn.over_sampling import RandomOverSampler\n",
        "from imblearn.over_sampling import SMOTE\n",
        "from sklearn.metrics import recall_score, roc_auc_score\n",
        "\n",
        "from sklearn import model_selection\n",
        "from sklearn.tree import DecisionTreeClassifier\n",
        "from sklearn.naive_bayes import GaussianNB\n",
        "from sklearn.svm import SVC\n",
        "from lightgbm import LGBMClassifier\n",
        "from xgboost import XGBClassifier"
      ],
      "execution_count": 1,
      "outputs": [
        {
          "output_type": "stream",
          "name": "stdout",
          "text": [
            "Requirement already satisfied: imbalanced-learn in /usr/local/lib/python3.7/dist-packages (0.8.1)\n",
            "Requirement already satisfied: scipy>=0.19.1 in /usr/local/lib/python3.7/dist-packages (from imbalanced-learn) (1.4.1)\n",
            "Requirement already satisfied: numpy>=1.13.3 in /usr/local/lib/python3.7/dist-packages (from imbalanced-learn) (1.19.5)\n",
            "Requirement already satisfied: joblib>=0.11 in /usr/local/lib/python3.7/dist-packages (from imbalanced-learn) (1.1.0)\n",
            "Requirement already satisfied: scikit-learn>=0.24 in /usr/local/lib/python3.7/dist-packages (from imbalanced-learn) (1.0.1)\n",
            "Requirement already satisfied: threadpoolctl>=2.0.0 in /usr/local/lib/python3.7/dist-packages (from scikit-learn>=0.24->imbalanced-learn) (3.0.0)\n"
          ]
        }
      ]
    },
    {
      "cell_type": "markdown",
      "metadata": {
        "id": "tYAHRn7IFLGo"
      },
      "source": [
        "For this set of classic machine learning model, we will made use of word2vec pretrained embedding model to represent documents."
      ]
    },
    {
      "cell_type": "code",
      "metadata": {
        "id": "N5u8SwyQcnwY",
        "colab": {
          "base_uri": "https://localhost:8080/"
        },
        "outputId": "0a983a80-579a-4db9-c50d-eae3ab3ab8b2"
      },
      "source": [
        "# Download Word2vec pretrained embedding model\n",
        "import gensim\n",
        "import gensim.downloader as api\n",
        "nlp = api.load('word2vec-google-news-300')"
      ],
      "execution_count": 2,
      "outputs": [
        {
          "output_type": "stream",
          "name": "stdout",
          "text": [
            "[==================================================] 100.0% 1662.8/1662.8MB downloaded\n"
          ]
        }
      ]
    },
    {
      "cell_type": "markdown",
      "metadata": {
        "id": "eHh5b74YomXY"
      },
      "source": [
        "# **Loading data**"
      ]
    },
    {
      "cell_type": "markdown",
      "metadata": {
        "id": "kcH6hzRruDlZ"
      },
      "source": [
        "Connects google drive to this notebook to get the dataset, and then unzip it. Then, we load the specified columns (docID, keyword, country, paragraph and label) into the df."
      ]
    },
    {
      "cell_type": "code",
      "metadata": {
        "id": "qvw2VYN_dTtE",
        "colab": {
          "base_uri": "https://localhost:8080/"
        },
        "outputId": "b473edb0-bce1-4615-ec7a-07d1389f3940"
      },
      "source": [
        "from google.colab import drive\n",
        "drive.mount('/content/drive')\n",
        "\n",
        "# Unzip the dataset\n",
        "!unzip \"/content/drive/MyDrive/dontpatrAAonizeme_v1.3.zip\" -d \"/content/drive/MyDrive/\""
      ],
      "execution_count": 3,
      "outputs": [
        {
          "output_type": "stream",
          "name": "stdout",
          "text": [
            "Mounted at /content/drive\n",
            "unzip:  cannot find or open /content/drive/MyDrive/dontpatrAAonizeme_v1.3.zip, /content/drive/MyDrive/dontpatrAAonizeme_v1.3.zip.zip or /content/drive/MyDrive/dontpatrAAonizeme_v1.3.zip.ZIP.\n"
          ]
        }
      ]
    },
    {
      "cell_type": "code",
      "metadata": {
        "id": "K5DJ3zR_fCre",
        "colab": {
          "base_uri": "https://localhost:8080/",
          "height": 424
        },
        "outputId": "906012bf-3673-494a-c46d-f9e00fd7522e"
      },
      "source": [
        "# Opening the file from MyDrive\n",
        "file = open(r'/content/drive/MyDrive/dontpatronizeme_v1.3/dontpatronizeme_pcl.tsv')\n",
        "reader = csv.reader(file, delimiter=\"\\t\")\n",
        "data = []\n",
        "for row in reader:\n",
        "  data.append(row)\n",
        "\n",
        "# \n",
        "df = pd.DataFrame(data[5:],  columns = ['docID', 'keyword', 'country', 'paragraph', 'label' ] )\n",
        "df"
      ],
      "execution_count": 4,
      "outputs": [
        {
          "output_type": "execute_result",
          "data": {
            "text/html": [
              "<div>\n",
              "<style scoped>\n",
              "    .dataframe tbody tr th:only-of-type {\n",
              "        vertical-align: middle;\n",
              "    }\n",
              "\n",
              "    .dataframe tbody tr th {\n",
              "        vertical-align: top;\n",
              "    }\n",
              "\n",
              "    .dataframe thead th {\n",
              "        text-align: right;\n",
              "    }\n",
              "</style>\n",
              "<table border=\"1\" class=\"dataframe\">\n",
              "  <thead>\n",
              "    <tr style=\"text-align: right;\">\n",
              "      <th></th>\n",
              "      <th>docID</th>\n",
              "      <th>keyword</th>\n",
              "      <th>country</th>\n",
              "      <th>paragraph</th>\n",
              "      <th>label</th>\n",
              "    </tr>\n",
              "  </thead>\n",
              "  <tbody>\n",
              "    <tr>\n",
              "      <th>0</th>\n",
              "      <td>@@4703096</td>\n",
              "      <td>immigrant</td>\n",
              "      <td>jm</td>\n",
              "      <td>NBC and Spanish-language Univision both declin...</td>\n",
              "      <td>0</td>\n",
              "    </tr>\n",
              "    <tr>\n",
              "      <th>1</th>\n",
              "      <td>@@25567226</td>\n",
              "      <td>in-need</td>\n",
              "      <td>hk</td>\n",
              "      <td>A second T-Home project is being launched in t...</td>\n",
              "      <td>0</td>\n",
              "    </tr>\n",
              "    <tr>\n",
              "      <th>2</th>\n",
              "      <td>@@1824078</td>\n",
              "      <td>poor-families</td>\n",
              "      <td>tz</td>\n",
              "      <td>Camfed would like to see this trend reversed ....</td>\n",
              "      <td>4</td>\n",
              "    </tr>\n",
              "    <tr>\n",
              "      <th>3</th>\n",
              "      <td>@@1921089</td>\n",
              "      <td>refugee</td>\n",
              "      <td>tz</td>\n",
              "      <td>Kagunga village was reported to lack necessary...</td>\n",
              "      <td>0</td>\n",
              "    </tr>\n",
              "    <tr>\n",
              "      <th>4</th>\n",
              "      <td>@@40039380</td>\n",
              "      <td>women</td>\n",
              "      <td>ng</td>\n",
              "      <td>Haruna stressed the need for specific approach...</td>\n",
              "      <td>0</td>\n",
              "    </tr>\n",
              "    <tr>\n",
              "      <th>...</th>\n",
              "      <td>...</td>\n",
              "      <td>...</td>\n",
              "      <td>...</td>\n",
              "      <td>...</td>\n",
              "      <td>...</td>\n",
              "    </tr>\n",
              "    <tr>\n",
              "      <th>10053</th>\n",
              "      <td>@@16413808</td>\n",
              "      <td>immigrant</td>\n",
              "      <td>my</td>\n",
              "      <td>To me , I am always mindful that we are dealin...</td>\n",
              "      <td>4</td>\n",
              "    </tr>\n",
              "    <tr>\n",
              "      <th>10054</th>\n",
              "      <td>@@8676630</td>\n",
              "      <td>vulnerable</td>\n",
              "      <td>jm</td>\n",
              "      <td>Other themes included promoting the inclusion ...</td>\n",
              "      <td>0</td>\n",
              "    </tr>\n",
              "    <tr>\n",
              "      <th>10055</th>\n",
              "      <td>@@7688552</td>\n",
              "      <td>immigrant</td>\n",
              "      <td>gb</td>\n",
              "      <td>It came as the CDU was also humiliated by the ...</td>\n",
              "      <td>0</td>\n",
              "    </tr>\n",
              "    <tr>\n",
              "      <th>10056</th>\n",
              "      <td>@@4916290</td>\n",
              "      <td>hopeless</td>\n",
              "      <td>in</td>\n",
              "      <td>Those were only days of helplessness , she say...</td>\n",
              "      <td>0</td>\n",
              "    </tr>\n",
              "    <tr>\n",
              "      <th>10057</th>\n",
              "      <td>@@2973614</td>\n",
              "      <td>immigrant</td>\n",
              "      <td>ie</td>\n",
              "      <td>They include a community college student , a c...</td>\n",
              "      <td>0</td>\n",
              "    </tr>\n",
              "  </tbody>\n",
              "</table>\n",
              "<p>10058 rows × 5 columns</p>\n",
              "</div>"
            ],
            "text/plain": [
              "            docID  ... label\n",
              "0       @@4703096  ...     0\n",
              "1      @@25567226  ...     0\n",
              "2       @@1824078  ...     4\n",
              "3       @@1921089  ...     0\n",
              "4      @@40039380  ...     0\n",
              "...           ...  ...   ...\n",
              "10053  @@16413808  ...     4\n",
              "10054   @@8676630  ...     0\n",
              "10055   @@7688552  ...     0\n",
              "10056   @@4916290  ...     0\n",
              "10057   @@2973614  ...     0\n",
              "\n",
              "[10058 rows x 5 columns]"
            ]
          },
          "metadata": {},
          "execution_count": 4
        }
      ]
    },
    {
      "cell_type": "markdown",
      "metadata": {
        "id": "VtakLrrIoo9_"
      },
      "source": [
        "# **Exploring data**"
      ]
    },
    {
      "cell_type": "markdown",
      "metadata": {
        "id": "B6HTk5IwuuDp"
      },
      "source": [
        "**Getting the length of each data instance and plotting its histogram.**"
      ]
    },
    {
      "cell_type": "code",
      "metadata": {
        "id": "K6BfIKFam55W",
        "colab": {
          "base_uri": "https://localhost:8080/"
        },
        "outputId": "5d56925f-d293-40ac-907b-3870505fbf0a"
      },
      "source": [
        "# Length of text\n",
        "def length (txt):\n",
        "  length = len(txt.split())\n",
        "  return length\n",
        "\n",
        "txt_length = df['paragraph'].apply(lambda x: length(x))\n",
        "txt_length.sort_values(ascending = False)"
      ],
      "execution_count": 5,
      "outputs": [
        {
          "output_type": "execute_result",
          "data": {
            "text/plain": [
              "3534    1519\n",
              "6266    1095\n",
              "8519    1040\n",
              "4613     772\n",
              "8819     729\n",
              "        ... \n",
              "1930       4\n",
              "1385       3\n",
              "7375       3\n",
              "5112       3\n",
              "5742       0\n",
              "Name: paragraph, Length: 10058, dtype: int64"
            ]
          },
          "metadata": {},
          "execution_count": 5
        }
      ]
    },
    {
      "cell_type": "code",
      "metadata": {
        "colab": {
          "base_uri": "https://localhost:8080/",
          "height": 265
        },
        "id": "N7uMC5lhTWo1",
        "outputId": "f5434a69-8898-49cb-cebf-5a4fdfe100f6"
      },
      "source": [
        "# Plot the histogram of sentence length\n",
        "plt.hist(txt_length, 5)\n",
        "plt.show()"
      ],
      "execution_count": 6,
      "outputs": [
        {
          "output_type": "display_data",
          "data": {
            "image/png": "[encoded data removed]",
            "text/plain": [
              "<Figure size 432x288 with 1 Axes>"
            ]
          },
          "metadata": {
            "needs_background": "light"
          }
        }
      ]
    },
    {
      "cell_type": "markdown",
      "metadata": {
        "id": "zYszX7rvu3Lh"
      },
      "source": [
        "Based on this histogram, the majority of the dataset has a length of less than 350. There are around 100 records whose lengths are between 301 and 600. Moreover, based on the descending sort of the length of each data instance shown above, the longest one is 1519 and the second-longest instance is 1095."
      ]
    },
    {
      "cell_type": "markdown",
      "metadata": {
        "id": "cyAbIEOyH0wC"
      },
      "source": [
        "**Exploring data distribution over classes**"
      ]
    },
    {
      "cell_type": "code",
      "metadata": {
        "id": "_nAz-vJxo_wn",
        "colab": {
          "base_uri": "https://localhost:8080/"
        },
        "outputId": "db4a2415-0866-4fe4-f334-47b3aeb11b2a"
      },
      "source": [
        "# Observing labels\n",
        "df['label'].value_counts()"
      ],
      "execution_count": 7,
      "outputs": [
        {
          "output_type": "execute_result",
          "data": {
            "text/plain": [
              "0    8206\n",
              "1     906\n",
              "3     435\n",
              "4     369\n",
              "2     142\n",
              "Name: label, dtype: int64"
            ]
          },
          "metadata": {},
          "execution_count": 7
        }
      ]
    },
    {
      "cell_type": "markdown",
      "metadata": {
        "id": "u22WnF-6vsN1"
      },
      "source": [
        "There are 5 labels in this dataset. The label number represents the degree of patronizing and condescending language (PCL).  Label 0 are sentences that do not contain patronizing nor condescending language, where as Label 4 are sentences with highly PCL. Based on the value counts below, the majority of data is negative with a label 0, whereas only 946 records are positive. Positive data contain labels from 1 to 4."
      ]
    },
    {
      "cell_type": "markdown",
      "metadata": {
        "id": "NELYZe6XITsw"
      },
      "source": [
        "**Checking missing data**"
      ]
    },
    {
      "cell_type": "code",
      "metadata": {
        "id": "WlKftt3JVk-n",
        "colab": {
          "base_uri": "https://localhost:8080/"
        },
        "outputId": "37241f2a-8c33-42f6-bb5a-5365656e8b49"
      },
      "source": [
        "# Checking for missing values\n",
        "print('Is null: \\n', df.isnull().sum() )"
      ],
      "execution_count": 8,
      "outputs": [
        {
          "output_type": "stream",
          "name": "stdout",
          "text": [
            "Is null: \n",
            " docID        0\n",
            "keyword      0\n",
            "country      0\n",
            "paragraph    0\n",
            "label        0\n",
            "dtype: int64\n"
          ]
        }
      ]
    },
    {
      "cell_type": "markdown",
      "metadata": {
        "id": "BmuPn8mYws-6"
      },
      "source": [
        "None of the column contains missing values."
      ]
    },
    {
      "cell_type": "markdown",
      "metadata": {
        "id": "vwWfCM84IgTP"
      },
      "source": [
        "**Converting target variable into binary**"
      ]
    },
    {
      "cell_type": "markdown",
      "metadata": {
        "id": "iwca4mOjwy5V"
      },
      "source": [
        "In this project, we choose task 1 that is a binary classification of PCL. Therefore, we convert the labels into 0 and 1, where 0 means negative and 1 means positive. The negative data contain label 0 and label 1 originally, and the positive data contain labels 2 to 4."
      ]
    },
    {
      "cell_type": "code",
      "metadata": {
        "id": "JQyvG1B0pvEI",
        "colab": {
          "base_uri": "https://localhost:8080/",
          "height": 351
        },
        "outputId": "bc1fde10-074d-472f-bc8e-ce31434090e1"
      },
      "source": [
        "# Convert label data type to string\n",
        "df['label'] = df['label'].astype(str)\n",
        "\n",
        "# Converting label to binary\n",
        "label_dic = {'0':0,\n",
        "             '1':0,\n",
        "             '2':1,\n",
        "             '3':1,\n",
        "             '4':1}\n",
        "df['label'] = df['label'].map(label_dic)\n",
        "print(df['label'].value_counts())\n",
        "print(df['label'].value_counts()*100/len(df['label']))\n",
        "sns.countplot(x='label', data=df)\n",
        "plt.show()"
      ],
      "execution_count": 22,
      "outputs": [
        {
          "output_type": "stream",
          "name": "stdout",
          "text": [
            "0    10058\n",
            "Name: label, dtype: int64\n",
            "0    100.0\n",
            "Name: label, dtype: float64\n"
          ]
        },
        {
          "output_type": "display_data",
          "data": {
            "image/png": "[encoded data removed]",
            "text/plain": [
              "<Figure size 432x288 with 1 Axes>"
            ]
          },
          "metadata": {
            "needs_background": "light"
          }
        }
      ]
    },
    {
      "cell_type": "markdown",
      "metadata": {
        "id": "chQod6XNkfTN"
      },
      "source": [
        ""
      ]
    },
    {
      "cell_type": "markdown",
      "metadata": {
        "id": "ZcAMX5reo0e1"
      },
      "source": [
        "# **Developing models**"
      ]
    },
    {
      "cell_type": "markdown",
      "metadata": {
        "id": "y_XQu6iX0BOO"
      },
      "source": [
        "Once the data is thoroughly explored, we proceed to partition the shuffled data into training and testing sets with a ratio of 80-20. "
      ]
    },
    {
      "cell_type": "code",
      "metadata": {
        "id": "Nvza5K7YbJ4H",
        "colab": {
          "base_uri": "https://localhost:8080/"
        },
        "outputId": "4efc36b7-d841-459d-937f-f2b61ba9016e"
      },
      "source": [
        "# Splitting the data into training (80%) and test set(20%)\n",
        "from sklearn.model_selection import train_test_split\n",
        "X = df['paragraph']\n",
        "y = df['label']\n",
        "X_train, X_test, y_train, y_test = train_test_split (X, y, train_size = 0.8, random_state = 42, shuffle = True, stratify=y)\n",
        "print ('Shapes of X_train, y_train: ', X_train.shape, y_train.shape)\n",
        "print ('Shapes of X_test, y_test: ', X_test.shape, y_test.shape)\n",
        "print(y_train.value_counts())"
      ],
      "execution_count": 10,
      "outputs": [
        {
          "output_type": "stream",
          "name": "stdout",
          "text": [
            "Shapes of X_train, y_train:  (8046,) (8046,)\n",
            "Shapes of X_test, y_test:  (2012,) (2012,)\n",
            "0    7289\n",
            "1     757\n",
            "Name: label, dtype: int64\n"
          ]
        }
      ]
    },
    {
      "cell_type": "markdown",
      "metadata": {
        "id": "kso-92jebtft"
      },
      "source": [
        "## Text representation"
      ]
    },
    {
      "cell_type": "markdown",
      "metadata": {
        "id": "ymYYOYlFJWA2"
      },
      "source": [
        "As mentioned, we use word2vec pretrained model, specifically continuous-bag-of-word (CBOW) model for representing documents."
      ]
    },
    {
      "cell_type": "markdown",
      "metadata": {
        "id": "bS_EzFp62GiV"
      },
      "source": [
        "In this section, we convert text data to its word embedding vectors. \n",
        "Firstly, the data is passed through function w2v_tokenize text, where each data instance is split into sentences, and each sentence is tokenized into words. At the end of this function, a list of words of data instance is returned. We repeat this step for the testing data to get the tokenized test data. \n",
        "\n",
        "Then, the tokenized words that we get from the previous step is embedded into its numeric form through function word_averging_list. This function passes a list of tokenized words in each instance to function word_averaging, where data is ---------------------------------------------"
      ]
    },
    {
      "cell_type": "code",
      "metadata": {
        "id": "5ez7hEFCa5_U"
      },
      "source": [
        "# Download and import essential libraries\n",
        "#!pip install stop-words\n",
        "#from stop_words import get_stop_words\n",
        "#stopwords = get_stop_words('en')\n",
        "# from textblob import Word\n",
        "import re\n",
        "import nltk\n",
        "# nltk.download('wordnet')\n",
        "# nltk.download('punkt')\n",
        "import logging\n",
        "\n",
        "nlp.init_sims(replace=True) # calling for using syn0norm\n",
        "\n",
        "\n",
        "# Tokenizing the document text, return a list of word for each document\n",
        "def w2v_tokenize_text(text):\n",
        "    tokens = []\n",
        "    for sent in nltk.sent_tokenize(text, language='english'):\n",
        "        for word in nltk.word_tokenize(sent, language='english'):\n",
        "            if len(word) < 2:\n",
        "                continue\n",
        "            tokens.append(word)\n",
        "    return tokens\n",
        "\n",
        "# Defining a function to get pretrained embedding for each token\n",
        "# and take an average of word2vec embeddings of all tokens in the document \n",
        "# as vector representation for that document.\n",
        "def word_averaging(wv, words):\n",
        "    all_words, mean = set(), []\n",
        "    for word in words:\n",
        "        if isinstance(word, np.ndarray):\n",
        "            mean.append(word)\n",
        "        elif word in wv.vocab:\n",
        "            mean.append(wv.syn0norm[wv.vocab[word].index]) # appending each 300-D embedding for each word\n",
        "            all_words.add(wv.vocab[word].index)\n",
        "    if not mean:\n",
        "        logging.warning(\"no input %s\", words)\n",
        "        return np.zeros(wv.vector_size,)\n",
        "    # computing the mean of the embedding list\n",
        "    mean = gensim.matutils.unitvec(np.array(mean).mean(axis=0)).astype(np.float32)\n",
        "    return mean\n",
        "\n",
        "# Defining a function to stack together all document embeddings into one\n",
        "def  word_averaging_list(wv, text_list):\n",
        "   stack = np.vstack([word_averaging(wv, post) for post in text_list ])\n",
        "   return stack\n",
        "\n"
      ],
      "execution_count": 20,
      "outputs": []
    },
    {
      "cell_type": "code",
      "metadata": {
        "id": "2aopPSRVb4lL",
        "colab": {
          "base_uri": "https://localhost:8080/"
        },
        "outputId": "9df20eb1-fd0b-4f3b-ef6e-5564c26ee18a"
      },
      "source": [
        "## Applying the defined function to encode document text with word2vec embedding\n",
        "# Tokenize texts into words\n",
        "X_train_tokenized = X_train.apply(lambda x: w2v_tokenize_text(x)).values\n",
        "X_test_tokenized = X_test.apply(lambda x: w2v_tokenize_text(x)).values\n",
        "\n",
        "# Embed words into number\n",
        "X_train_word_average = word_averaging_list(nlp,X_train_tokenized)\n",
        "X_test_word_average = word_averaging_list(nlp,X_test_tokenized)"
      ],
      "execution_count": 21,
      "outputs": [
        {
          "output_type": "stream",
          "name": "stderr",
          "text": [
            "/usr/local/lib/python3.7/dist-packages/ipykernel_launcher.py:34: DeprecationWarning: Call to deprecated `syn0norm` (Attribute will be removed in 4.0.0, use self.wv.vectors_norm instead).\n",
            "WARNING:root:no input []\n"
          ]
        },
        {
          "output_type": "stream",
          "name": "stdout",
          "text": [
            "--------------stack--------- 8046\n",
            "--------------stack--------- 2012\n"
          ]
        }
      ]
    },
    {
      "cell_type": "markdown",
      "metadata": {
        "id": "6jzrGXGc4whO"
      },
      "source": [
        "## Create helper functions\n",
        "\n",
        "This part creates 2 helper function, where printing_eval_scores is responsible for printing out the model performance and get_roc_curve is responsible for extracting different metrics such as false positive rate (FPR), recall, macro-f1 scores and auc score. These 2 functions take the ground truth labels and predicted labels as inputs.\n",
        "\n",
        "Since the data is very imbalanced, we decide to use macro-F1 score as a standard metric to compare among the candidate models. Macro-F1 score takes both major class and minor class into account regardless of their sizes. Therefore, using this metric will give us a more precise baseline to compare among the models. "
      ]
    },
    {
      "cell_type": "code",
      "metadata": {
        "id": "hJdUeuNUdmij"
      },
      "source": [
        "## Printing model performance \n",
        "# This function takes in the true labels and predicted labels to print out different performance metrics as shown below.\n",
        "def printing_eval_scores (y_true, y_pred):\n",
        "  print('accuracy score: {}'.format(sklearn.metrics.accuracy_score(y_true, y_pred)))\n",
        "  print('precision score: {}'.format(sklearn.metrics.precision_score(y_true, y_pred, average = 'macro', zero_division=1)))\n",
        "  print('recall score: {}'.format(sklearn.metrics.recall_score(y_true, y_pred,  average = 'macro', zero_division=1)))\n",
        "  print('F1 score: {}'.format(f1_score(y_true, y_pred,  average = 'macro', zero_division=1)))\n",
        "  print('\\nConfusion Matrix:\\n', confusion_matrix(y_true, y_pred))\n",
        "  print('\\n', classification_report(y_true, y_pred))\n",
        "\n",
        "#-------------------------------------------------------------------------------------\n",
        "## Get the measurements of ROC curve for each model\n",
        "# This function takes in the true labels and predicted labels to get FPR, recall, macro F1\n",
        "# and auc scores. Next, it creates a dictionary containing all these mertrics, and then return this dictionary.\n",
        "def get_roc_cuve (y_true, y_pred):\n",
        "  # Get arrays of FPR and recall using roc_curve\n",
        "  FPR, recall, threshold = sklearn.metrics.roc_curve(y_true, y_pred)\n",
        "\n",
        "  # Get testing accuracy:\n",
        "  acc = accuracy_score( y_test,y_pred)\n",
        "\n",
        "  # Get testing macro-f1:\n",
        "  f1 = f1_score(y_test, y_pred,  average = 'macro', zero_division=1)\n",
        "\n",
        "  # Get auc score\n",
        "  auc = sklearn.metrics.auc(FPR, recall)\n",
        "  roc = {'fpr': FPR, 'tpr': recall, 'auc': auc, 'accuracy': acc, 'macro-F1': f1}\n",
        "  return roc"
      ],
      "execution_count": null,
      "outputs": []
    },
    {
      "cell_type": "markdown",
      "metadata": {
        "id": "d0O8PduWdnjt"
      },
      "source": [
        "## Creating and training models"
      ]
    },
    {
      "cell_type": "markdown",
      "metadata": {
        "id": "CT5PdIrgRLYS"
      },
      "source": [
        "As the dataset is highly imbalanced in which the minor class accounts for ..............., we decided to oversample the minor class with SMOTE (Synthetic Minority Oversampling TEchnique). SMOTE is a augmentation technique, generating new examples by synthesizing the original data. \n",
        "We use Cross Validation method to train and validate the performance of models over 5 folds. "
      ]
    },
    {
      "cell_type": "code",
      "metadata": {
        "id": "Y2JRHYC7dxi8"
      },
      "source": [
        "# Define a function for training models with SMOTE and cross validation\n",
        "def score_model(name,model):\n",
        "    cv = StratifiedKFold(n_splits=5, random_state=42, shuffle = True)\n",
        "\n",
        "    oversampler = SMOTE(random_state=42)\n",
        "    #oversampler = RandomOverSampler(sampling_strategy='minority')\n",
        "    scores = []\n",
        "    f1_scores = []\n",
        "    \n",
        "    ## on training set, do cv\n",
        "    for train_fold_index, val_fold_index in cv.split(X_train_word_average, y_train):\n",
        "        # Get the training data\n",
        "        X_train_fold, y_train_fold = X_train_word_average[train_fold_index], y_train.iloc[train_fold_index]\n",
        "        # Get the validation data\n",
        "        X_val_fold, y_val_fold = X_train_word_average[val_fold_index], y_train.iloc[val_fold_index]\n",
        "\n",
        "        # Upsample only the data in the training section\n",
        "        X_train_fold_upsample, y_train_fold_upsample = oversampler.fit_resample(X_train_fold,\n",
        "                                                                           y_train_fold)\n",
        "        # Fit the model on the upsampled training data\n",
        "        model.fit(X_train_fold_upsample, y_train_fold_upsample)\n",
        "        # Score the model on the (non-upsampled) validation data\n",
        "        score = accuracy_score(y_val_fold, model.predict(X_val_fold)) \n",
        "        f1 = sklearn.metrics.f1_score(y_val_fold, model.predict(X_val_fold),  average = 'macro', zero_division=1)  \n",
        "        scores.append(score)\n",
        "        f1_scores.append(f1)\n",
        "        \n",
        "    print('Average of acuracy score in training: %s' % np.array(scores).mean())\n",
        "    print('Average of Macro F1-score in training: %s' % np.array(f1_scores).mean())\n",
        "\n",
        "    ## on test set\n",
        "    y_pred = model.predict(X_test_word_average)\n",
        "    test_score = accuracy_score( y_test,y_pred)\n",
        "    macro_f1_test = f1_score(y_test, y_pred,  average = 'macro', zero_division=1)\n",
        "    printing_eval_scores (y_test, y_pred)\n",
        "    roc = get_roc_cuve(y_test, y_pred)\n",
        "    report_scores = {'accuracy_folds':np.array(scores),'accuracy_test':test_score, 'macro_f1_test': macro_f1_test, 'y_predicted':y_pred, 'roc': roc }\n",
        "    return report_scores "
      ],
      "execution_count": null,
      "outputs": []
    },
    {
      "cell_type": "code",
      "metadata": {
        "id": "DzbE1tOCiUp9",
        "colab": {
          "base_uri": "https://localhost:8080/",
          "height": 1000
        },
        "outputId": "08078fce-9756-4352-a444-c321ea9a0770"
      },
      "source": [
        "# Running all models together\n",
        "# Compare Algorithms\n",
        "\n",
        "# Create models, and store in a list\n",
        "models = []\n",
        "models.append(('LR', LogisticRegression(solver='lbfgs', max_iter=700)))\n",
        "models.append(('RF', RandomForestClassifier()))\n",
        "models.append(('KNN', KNeighborsClassifier()))\n",
        "models.append(('DT', DecisionTreeClassifier()))\n",
        "models.append(('NB', GaussianNB()))\n",
        "models.append(('SVM', SVC(decision_function_shape='ovo', probability=True)))\n",
        "models.append(('LGBM', LGBMClassifier(objective= 'binary')))\n",
        "models.append(('XGB', XGBClassifier(eval_metric=\"mlogloss\", objective = \"reg:logistic\") ))\n",
        "\n",
        "\n",
        "# Loop over the model list to train and evaluate each model.\n",
        "results = []\n",
        "score_test = []\n",
        "macro_f1 = {}\n",
        "names = []\n",
        "rocs = {}\n",
        "report_scores_all = {}\n",
        "for name, model in models:\n",
        "  report_scores = score_model(name, model)\n",
        "  report_scores_all[name] = report_scores\n",
        "  results.append(report_scores['accuracy_folds'])\n",
        "  score_test.append(report_scores['accuracy_test'])\n",
        "  macro_f1[name] = (report_scores['macro_f1_test'])\n",
        "  rocs[name] = (report_scores['roc'])\n",
        "  names.append(name)\n",
        "  msg = \"%s: %f (%f)\" % (name, report_scores['accuracy_folds'].mean(), report_scores['accuracy_folds'].std())\n",
        "  print(msg)\n"
      ],
      "execution_count": null,
      "outputs": [
        {
          "output_type": "stream",
          "name": "stdout",
          "text": [
            "Average of acuracy score in training: 0.7895843643480578\n",
            "Average of Macro F1-score in training: 0.6328994844641667\n",
            "accuracy score: 0.794234592445328\n",
            "precision score: 0.6216037110669317\n",
            "recall score: 0.7678894316305178\n",
            "F1 score: 0.6387422020831454\n",
            "\n",
            "Confusion Matrix:\n",
            " [[1459  364]\n",
            " [  50  139]]\n",
            "\n",
            "               precision    recall  f1-score   support\n",
            "\n",
            "           0       0.97      0.80      0.88      1823\n",
            "           1       0.28      0.74      0.40       189\n",
            "\n",
            "    accuracy                           0.79      2012\n",
            "   macro avg       0.62      0.77      0.64      2012\n",
            "weighted avg       0.90      0.79      0.83      2012\n",
            "\n",
            "LR: 0.789584 (0.014373)\n",
            "Average of acuracy score in training: 0.8992043204181448\n",
            "Average of Macro F1-score in training: 0.6138473818789001\n",
            "accuracy score: 0.889662027833002\n",
            "precision score: 0.6198624955874196\n",
            "recall score: 0.5620858692718265\n",
            "F1 score: 0.5767196970558468\n",
            "\n",
            "Confusion Matrix:\n",
            " [[1760   63]\n",
            " [ 159   30]]\n",
            "\n",
            "               precision    recall  f1-score   support\n",
            "\n",
            "           0       0.92      0.97      0.94      1823\n",
            "           1       0.32      0.16      0.21       189\n",
            "\n",
            "    accuracy                           0.89      2012\n",
            "   macro avg       0.62      0.56      0.58      2012\n",
            "weighted avg       0.86      0.89      0.87      2012\n",
            "\n",
            "RF: 0.899204 (0.003681)\n",
            "Average of acuracy score in training: 0.29505599326768295\n",
            "Average of Macro F1-score in training: 0.2855396784454691\n",
            "accuracy score: 0.3290258449304175\n",
            "precision score: 0.5500066281830343\n",
            "recall score: 0.6083901470626649\n",
            "F1 score: 0.31356047855160807\n",
            "\n",
            "Confusion Matrix:\n",
            " [[ 482 1341]\n",
            " [   9  180]]\n",
            "\n",
            "               precision    recall  f1-score   support\n",
            "\n",
            "           0       0.98      0.26      0.42      1823\n",
            "           1       0.12      0.95      0.21       189\n",
            "\n",
            "    accuracy                           0.33      2012\n",
            "   macro avg       0.55      0.61      0.31      2012\n",
            "weighted avg       0.90      0.33      0.40      2012\n",
            "\n",
            "KNN: 0.295056 (0.020794)\n",
            "Average of acuracy score in training: 0.78622963223174\n",
            "Average of Macro F1-score in training: 0.5525971614549692\n",
            "accuracy score: 0.7872763419483101\n",
            "precision score: 0.5457231494049607\n",
            "recall score: 0.5790937085506477\n",
            "F1 score: 0.5493086303448997\n",
            "\n",
            "Confusion Matrix:\n",
            " [[1523  300]\n",
            " [ 128   61]]\n",
            "\n",
            "               precision    recall  f1-score   support\n",
            "\n",
            "           0       0.92      0.84      0.88      1823\n",
            "           1       0.17      0.32      0.22       189\n",
            "\n",
            "    accuracy                           0.79      2012\n",
            "   macro avg       0.55      0.58      0.55      2012\n",
            "weighted avg       0.85      0.79      0.82      2012\n",
            "\n",
            "DT: 0.786230 (0.013795)\n",
            "Average of acuracy score in training: 0.731544688456624\n",
            "Average of Macro F1-score in training: 0.5515656169784451\n",
            "accuracy score: 0.7301192842942346\n",
            "precision score: 0.5489432943752706\n",
            "recall score: 0.6115754889753793\n",
            "F1 score: 0.5402439511929285\n",
            "\n",
            "Confusion Matrix:\n",
            " [[1381  442]\n",
            " [ 101   88]]\n",
            "\n",
            "               precision    recall  f1-score   support\n",
            "\n",
            "           0       0.93      0.76      0.84      1823\n",
            "           1       0.17      0.47      0.24       189\n",
            "\n",
            "    accuracy                           0.73      2012\n",
            "   macro avg       0.55      0.61      0.54      2012\n",
            "weighted avg       0.86      0.73      0.78      2012\n",
            "\n",
            "NB: 0.731545 (0.007794)\n",
            "Average of acuracy score in training: 0.8698731900142445\n",
            "Average of Macro F1-score in training: 0.6727650382094061\n",
            "accuracy score: 0.8717693836978131\n",
            "precision score: 0.6632299545355237\n",
            "recall score: 0.7276830156698506\n",
            "F1 score: 0.686919641887833\n",
            "\n",
            "Confusion Matrix:\n",
            " [[1650  173]\n",
            " [  85  104]]\n",
            "\n",
            "               precision    recall  f1-score   support\n",
            "\n",
            "           0       0.95      0.91      0.93      1823\n",
            "           1       0.38      0.55      0.45       189\n",
            "\n",
            "    accuracy                           0.87      2012\n",
            "   macro avg       0.66      0.73      0.69      2012\n",
            "weighted avg       0.90      0.87      0.88      2012\n",
            "\n",
            "SVM: 0.869873 (0.004544)\n",
            "Average of acuracy score in training: 0.8921191743646955\n",
            "Average of Macro F1-score in training: 0.6623082732892687\n",
            "accuracy score: 0.8871769383697813\n",
            "precision score: 0.6616152679474216\n",
            "recall score: 0.6484499937599224\n",
            "F1 score: 0.654610036881505\n",
            "\n",
            "Confusion Matrix:\n",
            " [[1718  105]\n",
            " [ 122   67]]\n",
            "\n",
            "               precision    recall  f1-score   support\n",
            "\n",
            "           0       0.93      0.94      0.94      1823\n",
            "           1       0.39      0.35      0.37       189\n",
            "\n",
            "    accuracy                           0.89      2012\n",
            "   macro avg       0.66      0.65      0.65      2012\n",
            "weighted avg       0.88      0.89      0.88      2012\n",
            "\n",
            "LGBM: 0.892119 (0.007054)\n",
            "Average of acuracy score in training: 0.8440208609182045\n",
            "Average of Macro F1-score in training: 0.6520688708380072\n",
            "accuracy score: 0.8349900596421471\n",
            "precision score: 0.619109922493349\n",
            "recall score: 0.6979018827620034\n",
            "F1 score: 0.640432696862431\n",
            "\n",
            "Confusion Matrix:\n",
            " [[1580  243]\n",
            " [  89  100]]\n",
            "\n",
            "               precision    recall  f1-score   support\n",
            "\n",
            "           0       0.95      0.87      0.90      1823\n",
            "           1       0.29      0.53      0.38       189\n",
            "\n",
            "    accuracy                           0.83      2012\n",
            "   macro avg       0.62      0.70      0.64      2012\n",
            "weighted avg       0.89      0.83      0.86      2012\n",
            "\n",
            "XGB: 0.844021 (0.008727)\n"
          ]
        },
        {
          "output_type": "display_data",
          "data": {
            "image/png": "[encoded data removed]",
            "text/plain": [
              "<Figure size 432x288 with 1 Axes>"
            ]
          },
          "metadata": {
            "needs_background": "light"
          }
        }
      ]
    },
    {
      "cell_type": "code",
      "metadata": {
        "id": "6SpdvoCdavVD"
      },
      "source": [
        "# boxplot algorithm comparison\n",
        "fig = plt.figure()\n",
        "fig.suptitle('Model Comparison on Fold Accuracy')\n",
        "ax = fig.add_subplot(111)\n",
        "plt.boxplot(results)\n",
        "ax.set_xticklabels(names)\n",
        "plt.show()"
      ],
      "execution_count": null,
      "outputs": []
    },
    {
      "cell_type": "code",
      "metadata": {
        "id": "eDGBjY9zU7zb",
        "colab": {
          "base_uri": "https://localhost:8080/",
          "height": 308
        },
        "outputId": "4d65029e-9b41-433c-ce31-0e69b2800a84"
      },
      "source": [
        "# boxplot algorithm comparison in terms of Macro F1-Score\n",
        "fig = plt.figure()\n",
        "fig.suptitle('Algorithms Comparison in Terms of Macro F1-Score')\n",
        "ax = fig.add_subplot(111)\n",
        "plt.bar(macro_f1.keys(), macro_f1.values())\n",
        "plt.ylabel('Macro F1-Score')\n",
        "plt.xlabel('Models')\n",
        "ax.set_xticklabels(names)\n",
        "plt.show()"
      ],
      "execution_count": null,
      "outputs": [
        {
          "output_type": "display_data",
          "data": {
            "image/png": "[encoded data removed]",
            "text/plain": [
              "<Figure size 432x288 with 1 Axes>"
            ]
          },
          "metadata": {
            "needs_background": "light"
          }
        }
      ]
    },
    {
      "cell_type": "markdown",
      "metadata": {
        "id": "7nE2wU_GNCLZ"
      },
      "source": [
        "#Visualizing all models with ROC curves\n",
        "\n",
        "The model performances are visualized through an overlaid ROC curves. In this plot, the higher recall and the lower FPR that the model can achieve, the better that model is. A model that randomly classify data is represented as a straight dotted line in black."
      ]
    },
    {
      "cell_type": "code",
      "metadata": {
        "id": "iLSNk1uWO5KD",
        "colab": {
          "base_uri": "https://localhost:8080/",
          "height": 404
        },
        "outputId": "a834cbad-a2d8-424a-a608-73dd403ef4c1"
      },
      "source": [
        "def graph_multi_ROC (rocs):\n",
        "  # Set color for each model\n",
        "  colors = {'LGBM': 'lightcoral','LR': 'darkorange', 'SVM':'lime', 'NB': 'steelblue',\n",
        "            'XGB': 'purple','DT': 'magenta','RF': 'deeppink','KNN': 'darkturquoise',\n",
        "            'BERT': 'darkred', 'GPT': 'blue'}\n",
        "  # Set marker for each model          \n",
        "  markers = {'LGBM':'1--','LR': 'v--', 'SVM': '^--', 'XGB': '*--', 'DT': 'o--', 'RF': '+--', 'KNN': '.--', 'NB': 'x--', 'BERT':'<--', 'GPT': '>--'}\n",
        "  \n",
        "  plt.figure(figsize=(9,6))\n",
        "  for model in rocs:\n",
        "    plt.plot( rocs[model]['fpr'], rocs[model]['tpr'], markers[model], color=colors[model], label= model+' - AUC=' + str(rocs[model]['auc'].round(3)) )\n",
        "  \n",
        "  plt.plot([0,1], [0,1], 'k--', label='Random Chances')\n",
        "  plt.xlim([0.0,1.0])\n",
        "  plt.ylim([0.0,1.02])\n",
        "  plt.ylabel('Recall')\n",
        "  plt.xlabel('False Positive Rate (1-Specificity)')\n",
        "  plt.legend(loc='lower right') \n",
        "  plt.title( 'ROC Curves of all models')\n",
        "  plt.show()\n",
        "\n",
        "graph_multi_ROC(rocs)"
      ],
      "execution_count": null,
      "outputs": [
        {
          "output_type": "display_data",
          "data": {
            "image/png": "[encoded data removed]",
            "text/plain": [
              "<Figure size 648x432 with 1 Axes>"
            ]
          },
          "metadata": {
            "needs_background": "light"
          }
        }
      ]
    },
    {
      "cell_type": "code",
      "metadata": {
        "id": "6j_ijZQCqHN_"
      },
      "source": [
        "# Export performance to a txt file\n",
        "txtfile = open('ML_rocs.txt','w')\n",
        "for i in rocs.keys():\n",
        "  txtfile.write(str(i) + '=' + str(rocs[i])+'\\n')\n",
        "  #print(rocs[i])\n",
        "txtfile.close()"
      ],
      "execution_count": null,
      "outputs": []
    },
    {
      "cell_type": "code",
      "metadata": {
        "id": "0m5cTZ3tt0PE",
        "colab": {
          "base_uri": "https://localhost:8080/"
        },
        "outputId": "baa78456-af41-4c56-b9b9-2124f81b8cb3"
      },
      "source": [
        "rocs"
      ],
      "execution_count": null,
      "outputs": [
        {
          "output_type": "execute_result",
          "data": {
            "text/plain": [
              "{'DT': {'accuracy': 0.7872763419483101,\n",
              "  'auc': 0.5790937085506477,\n",
              "  'fpr': array([0.        , 0.16456391, 1.        ]),\n",
              "  'macro-F1': 0.5493086303448997,\n",
              "  'tpr': array([0.        , 0.32275132, 1.        ])},\n",
              " 'KNN': {'accuracy': 0.3290258449304175,\n",
              "  'auc': 0.6083901470626649,\n",
              "  'fpr': array([0.        , 0.73560066, 1.        ]),\n",
              "  'macro-F1': 0.31356047855160807,\n",
              "  'tpr': array([0.        , 0.95238095, 1.        ])},\n",
              " 'LGBM': {'accuracy': 0.8871769383697813,\n",
              "  'auc': 0.6484499937599224,\n",
              "  'fpr': array([0.        , 0.05759737, 1.        ]),\n",
              "  'macro-F1': 0.654610036881505,\n",
              "  'tpr': array([0.        , 0.35449735, 1.        ])},\n",
              " 'LR': {'accuracy': 0.794234592445328,\n",
              "  'auc': 0.7678894316305177,\n",
              "  'fpr': array([0.        , 0.19967087, 1.        ]),\n",
              "  'macro-F1': 0.6387422020831454,\n",
              "  'tpr': array([0.        , 0.73544974, 1.        ])},\n",
              " 'NB': {'accuracy': 0.7301192842942346,\n",
              "  'auc': 0.6115754889753793,\n",
              "  'fpr': array([0.        , 0.24245749, 1.        ]),\n",
              "  'macro-F1': 0.5402439511929285,\n",
              "  'tpr': array([0.        , 0.46560847, 1.        ])},\n",
              " 'RF': {'accuracy': 0.889662027833002,\n",
              "  'auc': 0.5620858692718265,\n",
              "  'fpr': array([0.        , 0.03455842, 1.        ]),\n",
              "  'macro-F1': 0.5767196970558468,\n",
              "  'tpr': array([0.        , 0.15873016, 1.        ])},\n",
              " 'SVM': {'accuracy': 0.8717693836978131,\n",
              "  'auc': 0.7276830156698506,\n",
              "  'fpr': array([0.        , 0.09489852, 1.        ]),\n",
              "  'macro-F1': 0.686919641887833,\n",
              "  'tpr': array([0.        , 0.55026455, 1.        ])},\n",
              " 'XGB': {'accuracy': 0.8349900596421471,\n",
              "  'auc': 0.6979018827620034,\n",
              "  'fpr': array([0.        , 0.13329676, 1.        ]),\n",
              "  'macro-F1': 0.640432696862431,\n",
              "  'tpr': array([0.        , 0.52910053, 1.        ])}}"
            ]
          },
          "metadata": {},
          "execution_count": 23
        }
      ]
    }
  ]
}